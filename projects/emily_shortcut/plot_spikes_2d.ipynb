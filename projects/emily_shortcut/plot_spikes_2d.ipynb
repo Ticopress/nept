{
 "cells": [
  {
   "cell_type": "code",
   "execution_count": 1,
   "metadata": {
    "collapsed": true
   },
   "outputs": [],
   "source": [
    "# %matplotlib inline\n",
    "import numpy as np\n",
    "import matplotlib.pyplot as plt\n",
    "from shapely.geometry import Point, LineString\n",
    "import pickle\n",
    "import seaborn as sns\n",
    "import os\n",
    "\n",
    "import vdmlab as vdm\n",
    "\n",
    "from tuning_curves_functions import get_tc, get_odd_firing_idx, linearize\n",
    "\n",
    "import info.R063d2_info as r063d2\n",
    "import info.R063d3_info as r063d3\n",
    "import info.R063d4_info as r063d4\n",
    "import info.R063d5_info as r063d5\n",
    "import info.R063d6_info as r063d6\n",
    "import info.R066d1_info as r066d1\n",
    "import info.R066d2_info as r066d2\n",
    "import info.R066d3_info as r066d3\n",
    "import info.R066d4_info as r066d4"
   ]
  },
  {
   "cell_type": "code",
   "execution_count": 2,
   "metadata": {
    "collapsed": true
   },
   "outputs": [],
   "source": [
    "pickle_filepath = 'E:\\\\code\\\\python-vdmlab\\\\projects\\\\emily_shortcut\\\\cache\\\\pickled\\\\'\n",
    "output_filepath = 'E:\\\\code\\\\python-vdmlab\\\\projects\\\\emily_shortcut\\\\plots\\\\sequence\\\\'\n",
    "# pickle_filepath = 'C:\\\\Users\\\\Emily\\\\Code\\\\python-vdmlab\\\\projects\\\\emily_shortcut\\\\cache\\\\pickled\\\\'\n",
    "# output_filepath = 'C:\\\\Users\\\\Emily\\\\Code\\\\python-vdmlab\\\\projects\\\\emily_shortcut\\\\plots\\\\sequence\\\\'"
   ]
  },
  {
   "cell_type": "code",
   "execution_count": 3,
   "metadata": {
    "collapsed": true
   },
   "outputs": [],
   "source": [
    "info = r066d2"
   ]
  },
  {
   "cell_type": "code",
   "execution_count": 4,
   "metadata": {
    "collapsed": false
   },
   "outputs": [
    {
     "name": "stdout",
     "output_type": "stream",
     "text": [
      "R066d2\n"
     ]
    }
   ],
   "source": [
    "print(info.session_id)\n",
    "pos = info.get_pos(info.pxl_to_cm)\n",
    "csc = info.get_csc(info.good_swr[0])\n",
    "spikes = info.get_spikes()"
   ]
  },
  {
   "cell_type": "code",
   "execution_count": 5,
   "metadata": {
    "collapsed": true
   },
   "outputs": [],
   "source": [
    "speed = vdm.get_speed(pos)\n",
    "\n",
    "run_threshold = 0.45\n",
    "t_run = speed['time'][speed['smoothed'] >= run_threshold]\n",
    "\n",
    "run_idx = np.zeros(pos['time'].shape, dtype=bool)\n",
    "for idx in t_run:\n",
    "    run_idx |= (pos['time'] == idx)\n",
    "    \n",
    "run_pos = dict()\n",
    "run_pos['x'] = pos['x'][run_idx]\n",
    "run_pos['y'] = pos['y'][run_idx]\n",
    "run_pos['time'] = pos['time'][run_idx]\n",
    "\n",
    "tc = get_tc(info, run_pos, pickle_filepath)"
   ]
  },
  {
   "cell_type": "code",
   "execution_count": 6,
   "metadata": {
    "collapsed": true
   },
   "outputs": [],
   "source": [
    "colours = ['#bd0026', '#fc4e2a', '#ef3b2c', '#ec7014', '#fe9929', \n",
    "           '#78c679', '#41ab5d', '#238443', '#66c2a4', '#41b6c4', \n",
    "           '#1d91c0', '#8c6bb1', '#225ea8', '#88419d', '#ae017e', \n",
    "           '#dd3497', '#f768a1', '#fcbba1', '#fc9272', '#fb6a4a', \n",
    "           '#e31a1c', '#fb6a4a', '#993404', '#b30000', '#800026',\n",
    "           '#bd0026', '#fc4e2a', '#fb6a4a', '#ef3b2c', '#ec7014', \n",
    "           '#fe9929', '#78c679', '#41ab5d', '#238443', '#66c2a4', \n",
    "           '#41b6c4', '#1d91c0', '#8c6bb1', '#225ea8', '#88419d', \n",
    "           '#ae017e', '#dd3497', '#f768a1', '#fcbba1', '#fc9272', \n",
    "           '#fb6a4a', '#e31a1c', '#fb6a4a', '#993404', '#b30000', \n",
    "           '#800026', 'k', 'k', 'k', 'k', 'k', 'k', 'k', 'k', 'k']"
   ]
  },
  {
   "cell_type": "code",
   "execution_count": 7,
   "metadata": {
    "collapsed": true
   },
   "outputs": [],
   "source": [
    "all_u_fields = vdm.find_fields(tc['u'])\n",
    "all_shortcut_fields = vdm.find_fields(tc['shortcut'])\n",
    "all_novel_fields = vdm.find_fields(tc['novel'])\n",
    "\n",
    "# u_compare = vdm.find_fields(tc['u'], hz_thres=3)\n",
    "# shortcut_compare = vdm.find_fields(tc['shortcut'], hz_thres=3)\n",
    "# novel_compare = vdm.find_fields(tc['novel'], hz_thres=3)\n",
    "\n",
    "# u_fields_unique = vdm.unique_fields(all_u_fields, shortcut_compare, novel_compare)\n",
    "# shortcut_fields_unique = vdm.unique_fields(all_shortcut_fields, u_compare, novel_compare)\n",
    "# novel_fields_unique = vdm.unique_fields(all_novel_fields, u_compare, shortcut_compare)\n",
    "\n",
    "u_fields_sized = vdm.sized_fields(all_u_fields, max_length=15)\n",
    "shortcut_fields_sized = vdm.sized_fields(all_shortcut_fields, max_length=15)\n",
    "novel_fields_sized = vdm.sized_fields(all_novel_fields, max_length=15)\n",
    "\n",
    "u_fields_single = vdm.get_single_field(u_fields_sized)\n",
    "shortcut_fields_single = vdm.get_single_field(shortcut_fields_sized)\n",
    "novel_fields_single = vdm.get_single_field(novel_fields_sized)\n",
    "\n",
    "sort_idx = vdm.get_sort_idx(tc['u'])\n",
    "odd_firing_idx = get_odd_firing_idx(tc['u'])\n",
    "\n",
    "u_tc = []\n",
    "u_field_spikes = []\n",
    "for idx in sort_idx:\n",
    "    if idx not in odd_firing_idx:\n",
    "        if idx in u_fields_single:\n",
    "            u_field_spikes.append(spikes['time'][idx])\n",
    "            u_tc.append(tc['u'][idx])\n",
    "            \n",
    "sort_idx = vdm.get_sort_idx(tc['shortcut'])\n",
    "odd_firing_idx = get_odd_firing_idx(tc['shortcut'])\n",
    "\n",
    "shortcut_tc = []\n",
    "shortcut_field_spikes = []\n",
    "for idx in sort_idx:\n",
    "    if idx not in odd_firing_idx:\n",
    "        if idx in shortcut_fields_single:\n",
    "            shortcut_field_spikes.append(spikes['time'][idx])\n",
    "            shortcut_tc.append(tc['shortcut'][idx])\n",
    "            \n",
    "sort_idx = vdm.get_sort_idx(tc['novel'])\n",
    "odd_firing_idx = get_odd_firing_idx(tc['novel'])\n",
    "\n",
    "novel_tc = []\n",
    "novel_field_spikes = []\n",
    "for idx in sort_idx:\n",
    "    if idx not in odd_firing_idx:\n",
    "        if idx in novel_fields_single:\n",
    "            novel_field_spikes.append(spikes['time'][idx])\n",
    "            novel_tc.append(tc['novel'][idx])"
   ]
  },
  {
   "cell_type": "code",
   "execution_count": 8,
   "metadata": {
    "collapsed": false
   },
   "outputs": [
    {
     "name": "stdout",
     "output_type": "stream",
     "text": [
      "29 15 18\n"
     ]
    }
   ],
   "source": [
    "print(len(u_field_spikes), len(shortcut_field_spikes), len(novel_field_spikes))"
   ]
  },
  {
   "cell_type": "code",
   "execution_count": 9,
   "metadata": {
    "collapsed": true
   },
   "outputs": [],
   "source": [
    "sns.set_style('white')\n",
    "sns.set_style('ticks')\n",
    "\n",
    "t_start = info.task_times['phase3'][0]\n",
    "t_stop = info.task_times['phase3'][1]\n",
    "\n",
    "t_start_idx = vdm.find_nearest_idx(run_pos['time'], t_start)\n",
    "t_stop_idx = vdm.find_nearest_idx(run_pos['time'], t_stop)\n",
    "\n",
    "sliced_pos = dict()\n",
    "sliced_pos['x'] = run_pos['x'][t_start_idx:t_stop_idx]\n",
    "sliced_pos['y'] = run_pos['y'][t_start_idx:t_stop_idx]\n",
    "sliced_pos['time'] = run_pos['time'][t_start_idx:t_stop_idx]"
   ]
  },
  {
   "cell_type": "code",
   "execution_count": 12,
   "metadata": {
    "collapsed": true
   },
   "outputs": [],
   "source": [
    "rows = 3\n",
    "cols = 8\n",
    "\n",
    "tc = u_tc\n",
    "\n",
    "fig = plt.figure()\n",
    "for i, idx in enumerate(range(1, 26)):\n",
    "    if i < cols:\n",
    "        row = 0\n",
    "        col = i\n",
    "    elif cols*2 >= i > cols:\n",
    "        row = 1\n",
    "        col = i - cols - 1\n",
    "    elif i > cols*2:\n",
    "        row = 2\n",
    "        col = i - cols*2 - 1\n",
    "    ax = plt.subplot2grid((rows, cols), (row, col))\n",
    "    ax.plot(sliced_pos['x'], sliced_pos['y'], '.', color='#bdbdbd', ms=1)\n",
    "    \n",
    "    tc[idx] = ((tc[idx] * (5 - 0)) / (np.max(tc[idx]) - np.min(tc[idx]))) + 0\n",
    "    ax.plot(list(range(15, np.shape(tc)[1]+15)), tc[idx]+60, color='#252525', ms=0.1)\n",
    "    ax.fill_between(list(range(15, np.shape(tc)[1]+15)), 60, tc[idx]+60, facecolor=colours[idx])\n",
    "    for spike in u_field_spikes[idx]:\n",
    "        if t_start < spike < t_stop:\n",
    "            spike_idx = vdm.find_nearest_idx(sliced_pos['time'], spike)\n",
    "            ax.plot(sliced_pos['x'][spike_idx], sliced_pos['y'][spike_idx], 'o', color=colours[idx], \n",
    "                     markeredgecolor='#252525', fillstyle='full', markeredgewidth=0.1, ms=3)\n",
    "            plt.setp(ax, xticks=[], xticklabels=[], yticks=[])\n",
    "            \n",
    "sns.despine(bottom=True, left=True)\n",
    "plt.tight_layout()\n",
    "fig.subplots_adjust(hspace=0.01, wspace=0.01)\n",
    "plt.show()"
   ]
  },
  {
   "cell_type": "code",
   "execution_count": 22,
   "metadata": {
    "collapsed": false
   },
   "outputs": [],
   "source": [
    "rows = 3\n",
    "cols = 5\n",
    "\n",
    "tc = shortcut_tc\n",
    "\n",
    "fig = plt.figure()\n",
    "for i, idx in enumerate(range(15)):\n",
    "    if i < cols:\n",
    "        row = 0\n",
    "        col = i\n",
    "    elif cols*2 >= i > cols:\n",
    "        row = 1\n",
    "        col = i - cols - 1\n",
    "    elif i > cols*2:\n",
    "        row = 2\n",
    "        col = i - cols*2 - 1\n",
    "    ax = plt.subplot2grid((rows, cols), (row, col))\n",
    "    ax.plot(sliced_pos['x'], sliced_pos['y'], '.', color='#bdbdbd', ms=1)\n",
    "    \n",
    "    tc[idx] = ((tc[idx] * (5 - 0)) / (np.max(tc[idx]) - np.min(tc[idx]))) + 0\n",
    "    ax.plot(list(range(15, np.shape(tc)[1]+15)), tc[idx]+60, color='#252525', ms=0.1)\n",
    "    ax.fill_between(list(range(15, np.shape(tc)[1]+15)), 60, tc[idx]+60, facecolor=colours[idx])\n",
    "    for spike in shortcut_field_spikes[idx]:\n",
    "        if t_start < spike < t_stop:\n",
    "            spike_idx = vdm.find_nearest_idx(sliced_pos['time'], spike)\n",
    "            ax.plot(sliced_pos['x'][spike_idx], sliced_pos['y'][spike_idx], 'o', color=colours[idx], \n",
    "                     markeredgecolor='#252525', fillstyle='full', markeredgewidth=0.1, ms=3)\n",
    "            plt.setp(ax, xticks=[], xticklabels=[], yticks=[])\n",
    "            \n",
    "sns.despine(bottom=True, left=True)\n",
    "plt.tight_layout()\n",
    "fig.subplots_adjust(hspace=0.01, wspace=0.01)\n",
    "plt.show()"
   ]
  },
  {
   "cell_type": "code",
   "execution_count": null,
   "metadata": {
    "collapsed": true
   },
   "outputs": [],
   "source": []
  },
  {
   "cell_type": "code",
   "execution_count": null,
   "metadata": {
    "collapsed": true
   },
   "outputs": [],
   "source": []
  }
 ],
 "metadata": {
  "kernelspec": {
   "display_name": "Python 3",
   "language": "python",
   "name": "python3"
  },
  "language_info": {
   "codemirror_mode": {
    "name": "ipython",
    "version": 3
   },
   "file_extension": ".py",
   "mimetype": "text/x-python",
   "name": "python",
   "nbconvert_exporter": "python",
   "pygments_lexer": "ipython3",
   "version": "3.5.2"
  }
 },
 "nbformat": 4,
 "nbformat_minor": 0
}
