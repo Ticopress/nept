{
 "cells": [
  {
   "cell_type": "code",
   "execution_count": null,
   "metadata": {
    "collapsed": false
   },
   "outputs": [],
   "source": [
    "%matplotlib inline\n",
    "import numpy as np\n",
    "import matplotlib.pyplot as plt\n",
    "from shapely.geometry import Point, LineString\n",
    "import pickle\n",
    "import seaborn as sns\n",
    "import os\n",
    "\n",
    "import vdmlab as vdm\n",
    "\n",
    "from tuning_curves_functions import get_tc, get_odd_firing_idx, linearize\n",
    "\n",
    "import info.R063d2_info as r063d2\n",
    "import info.R063d3_info as r063d3\n",
    "import info.R063d4_info as r063d4\n",
    "import info.R063d5_info as r063d5\n",
    "import info.R063d6_info as r063d6\n",
    "import info.R066d1_info as r066d1\n",
    "import info.R066d2_info as r066d2\n",
    "import info.R066d4_info as r066d4"
   ]
  },
  {
   "cell_type": "code",
   "execution_count": null,
   "metadata": {
    "collapsed": true
   },
   "outputs": [],
   "source": [
    "# pickle_filepath = 'E:\\\\code\\\\python-vdmlab\\\\projects\\\\emily_shortcut\\\\cache\\\\pickled\\\\'\n",
    "# output_filepath = 'E:\\\\code\\\\python-vdmlab\\\\projects\\\\emily_shortcut\\\\plots\\\\sequence\\\\'\n",
    "pickle_filepath = 'C:\\\\Users\\\\Emily\\\\Code\\\\python-vdmlab\\\\projects\\\\emily_shortcut\\\\cache\\\\pickled\\\\'\n",
    "output_filepath = 'C:\\\\Users\\\\Emily\\\\Code\\\\python-vdmlab\\\\projects\\\\emily_shortcut\\\\plots\\\\sequence\\\\'"
   ]
  },
  {
   "cell_type": "code",
   "execution_count": null,
   "metadata": {
    "collapsed": true
   },
   "outputs": [],
   "source": [
    "info = r066d4"
   ]
  },
  {
   "cell_type": "code",
   "execution_count": null,
   "metadata": {
    "collapsed": false
   },
   "outputs": [],
   "source": [
    "print(info.session_id)\n",
    "pos = info.get_pos(info.pxl_to_cm)\n",
    "csc = info.get_csc()\n",
    "spikes = info.get_spikes()\n",
    "\n",
    "tc = get_tc(info, pos, pickle_filepath)\n",
    "\n",
    "heatmap_filename = info.session_id + '_spike_heatmaps.pkl'\n",
    "pickled_spike_heatmaps = os.path.join(pickle_filepath, heatmap_filename)\n",
    "if os.path.isfile(pickled_spike_heatmaps):\n",
    "    with open(pickled_spike_heatmaps, 'rb') as fileobj:\n",
    "        spike_heatmaps = pickle.load(fileobj)\n",
    "else:\n",
    "    spikes = info.get_spikes()\n",
    "\n",
    "    all_neurons = list(range(1, len(spikes['time'])))\n",
    "    spike_heatmaps = vdm.get_heatmaps(all_neurons, spikes, pos)\n",
    "    with open(pickled_spike_heatmaps, 'wb') as fileobj:\n",
    "        pickle.dump(spike_heatmaps, fileobj)\n",
    "\n",
    "swr_times, swr_idx = vdm.detect_swr_hilbert(csc, fs=info.fs)\n",
    "\n",
    "sort_idx = vdm.get_sort_idx(tc['u'])\n",
    "\n",
    "odd_firing_idx = get_odd_firing_idx(tc['u'])\n",
    "\n",
    "\n",
    "all_u_fields = vdm.find_fields(tc['u'])\n",
    "all_shortcut_fields = vdm.find_fields(tc['shortcut'])\n",
    "all_novel_fields = vdm.find_fields(tc['novel'])\n",
    "\n",
    "u_compare = vdm.find_fields(tc['u'], hz_thres=3)\n",
    "shortcut_compare = vdm.find_fields(tc['shortcut'], hz_thres=3)\n",
    "novel_compare = vdm.find_fields(tc['novel'], hz_thres=3)\n",
    "\n",
    "u_fields_unique = vdm.unique_fields(all_u_fields, shortcut_compare, novel_compare)\n",
    "shortcut_fields_unique = vdm.unique_fields(all_shortcut_fields, u_compare, novel_compare)\n",
    "novel_fields_unique = vdm.unique_fields(all_novel_fields, u_compare, shortcut_compare)\n",
    "\n",
    "u_fields_size = vdm.sized_fields(u_fields_unique)\n",
    "shortcut_fields_size = vdm.sized_fields(shortcut_fields_unique)\n",
    "novel_fields_size = vdm.sized_fields(novel_fields_unique)\n",
    "\n",
    "u_fields = vdm.get_single_field(u_fields_size)\n",
    "shortcut_fields = vdm.get_single_field(shortcut_fields_size)\n",
    "novel_fields = vdm.get_single_field(novel_fields_size)\n",
    "\n",
    "\n",
    "these_fields = []\n",
    "for key in u_fields:\n",
    "    these_fields.append(key)\n",
    "\n",
    "field_spikes = []\n",
    "field_tc = []\n",
    "for idx in sort_idx:\n",
    "    if idx not in odd_firing_idx:\n",
    "        if idx in these_fields:\n",
    "            field_spikes.append(spikes['time'][idx])\n",
    "            field_tc.append(tc['u'][idx])"
   ]
  },
  {
   "cell_type": "code",
   "execution_count": null,
   "metadata": {
    "collapsed": true
   },
   "outputs": [],
   "source": [
    "t_start = info.task_times['prerecord'][0]\n",
    "t_stop = info.task_times['postrecord'][1]\n",
    "linear, zone = linearize(info, pos, t_start, t_stop)"
   ]
  },
  {
   "cell_type": "code",
   "execution_count": null,
   "metadata": {
    "collapsed": false
   },
   "outputs": [],
   "source": [
    "print(linear['u'].keys())"
   ]
  },
  {
   "cell_type": "code",
   "execution_count": null,
   "metadata": {
    "collapsed": true
   },
   "outputs": [],
   "source": []
  },
  {
   "cell_type": "code",
   "execution_count": null,
   "metadata": {
    "collapsed": false,
    "scrolled": false
   },
   "outputs": [],
   "source": [
    "colours = ['#bd0026', '#fc4e2a', '#ef3b2c', '#ec7014', '#fe9929', \n",
    "           '#78c679', '#41ab5d', '#238443', '#66c2a4', '#41b6c4', \n",
    "           '#1d91c0', '#8c6bb1', '#225ea8', '#88419d', '#ae017e', \n",
    "           '#dd3497', '#f768a1', '#fcbba1', '#fc9272', '#fb6a4a', \n",
    "           '#e31a1c', '#fb6a4a', '#993404', '#b30000', '#800026',\n",
    "           '#bd0026', '#fc4e2a', '#fb6a4a', '#ef3b2c', '#ec7014', \n",
    "           '#fe9929', '#78c679', '#41ab5d', '#238443', '#66c2a4', \n",
    "           '#41b6c4', '#1d91c0', '#8c6bb1', '#225ea8', '#88419d', \n",
    "           '#ae017e', '#dd3497', '#f768a1', '#fcbba1', '#fc9272', \n",
    "           '#fb6a4a', '#e31a1c', '#fb6a4a', '#993404', '#b30000', \n",
    "           '#800026', 'k', 'k', 'k', 'k', 'k', 'k', 'k', 'k', 'k']"
   ]
  },
  {
   "cell_type": "code",
   "execution_count": null,
   "metadata": {
    "collapsed": true
   },
   "outputs": [],
   "source": [
    "sns.set_style('white')\n",
    "sns.set_style('ticks')"
   ]
  },
  {
   "cell_type": "code",
   "execution_count": null,
   "metadata": {
    "collapsed": false,
    "scrolled": false
   },
   "outputs": [],
   "source": [
    "swr = 1991\n",
    "# for swr in [2090, 2196]:\n",
    "\n",
    "print(swr)\n",
    "ms = 10\n",
    "loc = 1\n",
    "\n",
    "start_time = info.task_times['phase2'][0]+220\n",
    "stop_time = info.task_times['phase2'][0]+250\n",
    "\n",
    "start_time_swr = swr_times['start'][swr]\n",
    "stop_time_swr = swr_times['stop'][swr]\n",
    "\n",
    "\n",
    "# for i, (start_time, stop_time, start_time_swr, stop_time_swr) in enumerate(zip(info.sequence['run_start'], \n",
    "#                                                                                info.sequence['run_stop'], \n",
    "#                                                                                info.sequence['swr_start'], \n",
    "#                                                                                info.sequence['swr_stop'])):\n",
    "spike_loc = 2\n",
    "\n",
    "rows = len(field_spikes)+1\n",
    "cols = 7\n",
    "fig = plt.figure()\n",
    "ax1 = plt.subplot2grid((rows, cols), (0, 1), rowspan=rows-1, colspan=4)\n",
    "ax2 = plt.subplot2grid((rows, cols), (0, 5), rowspan=rows-1, colspan=2)\n",
    "ax3 = plt.subplot2grid((rows, cols), (rows-1, 1), colspan=4)\n",
    "ax4 = plt.subplot2grid((rows, cols), (rows-1, 5), colspan=2)\n",
    "\n",
    "for idx, neuron_spikes in enumerate(field_spikes):\n",
    "    ax1.plot(neuron_spikes, np.ones(len(neuron_spikes))+(idx*spike_loc+1), '|', \n",
    "             color=colours[int(np.floor((idx*spike_loc+1)/spike_loc))], ms=ms, mew=2)\n",
    "ax1.set_xlim([start_time, stop_time])\n",
    "ax1.set_ylim([1, len(field_spikes)*spike_loc+1])\n",
    "vdm.add_scalebar(ax1, matchy=False, loc=loc)\n",
    "plt.setp(ax1, xticks=[], xticklabels=[], yticks=[])\n",
    "\n",
    "for swr_idx, neuron_spikes in enumerate(field_spikes):\n",
    "    ax2.plot(neuron_spikes, np.ones(len(neuron_spikes))+(swr_idx*spike_loc+1), '|', \n",
    "             color=colours[int(np.floor((swr_idx*spike_loc+1)/spike_loc))], ms=ms, mew=2)\n",
    "ax2.set_xlim([start_time_swr, stop_time_swr])\n",
    "ax2.set_ylim([1, len(field_spikes)*spike_loc+1])\n",
    "vdm.add_scalebar(ax2, matchy=False, loc=loc)\n",
    "plt.setp(ax2, xticks=[], xticklabels=[], yticks=[])\n",
    "\n",
    "ax3.plot(linear['u']['time'], linear['u']['position'], 'k')\n",
    "ax3.set_xlim([start_time, stop_time])\n",
    "plt.setp(ax3, xticks=[], xticklabels=[], yticks=[])\n",
    "\n",
    "ax4.plot(csc['time'], csc['data'], 'b')\n",
    "ax4.set_xlim([start_time_swr, stop_time_swr])\n",
    "plt.setp(ax4, xticks=[], xticklabels=[], yticks=[])\n",
    "\n",
    "\n",
    "x = list(range(0, len(field_tc[0])))\n",
    "\n",
    "for ax_loc in range(0, rows-1):\n",
    "    ax = plt.subplot2grid((rows, cols), (ax_loc, 0))\n",
    "\n",
    "    idx = rows - ax_loc - 1\n",
    "    ax.plot(field_tc[idx-1], color=colours[idx-1])\n",
    "    ax.fill_between(x, 0, field_tc[idx-1], facecolor=colours[idx-1])\n",
    "    ax.spines['right'].set_visible(False)\n",
    "    ax.spines['top'].set_visible(False)\n",
    "    plt.setp(ax, xticks=[], xticklabels=[], yticks=[])\n",
    "\n",
    "sns.despine()\n",
    "plt.show()\n",
    "#     filename = info.session_id + '_sequence-swr' + str(i) + '.png'\n",
    "#     print(filename)\n",
    "#     savepath = os.path.join(output_filepath, filename)\n",
    "#     plt.savefig(savepath, dpi=300, bbox_inches='tight')\n",
    "#     plt.close()"
   ]
  },
  {
   "cell_type": "code",
   "execution_count": null,
   "metadata": {
    "collapsed": false
   },
   "outputs": [],
   "source": [
    "plt.plot(linear['u']['time'], linear['u']['position'], 'k')\n",
    "plt.xlim(start_time, stop_time)\n",
    "plt.show()"
   ]
  },
  {
   "cell_type": "code",
   "execution_count": null,
   "metadata": {
    "collapsed": false
   },
   "outputs": [],
   "source": [
    "print(info.sequence['run_start'])"
   ]
  },
  {
   "cell_type": "code",
   "execution_count": null,
   "metadata": {
    "collapsed": false
   },
   "outputs": [],
   "source": [
    "print('run:', start_time, stop_time)\n",
    "print('swr:', start_time_swr, stop_time_swr)"
   ]
  },
  {
   "cell_type": "code",
   "execution_count": null,
   "metadata": {
    "collapsed": true
   },
   "outputs": [],
   "source": []
  },
  {
   "cell_type": "code",
   "execution_count": null,
   "metadata": {
    "collapsed": true
   },
   "outputs": [],
   "source": []
  },
  {
   "cell_type": "code",
   "execution_count": null,
   "metadata": {
    "collapsed": false
   },
   "outputs": [],
   "source": []
  },
  {
   "cell_type": "code",
   "execution_count": null,
   "metadata": {
    "collapsed": true
   },
   "outputs": [],
   "source": []
  }
 ],
 "metadata": {
  "kernelspec": {
   "display_name": "Python 3",
   "language": "python",
   "name": "python3"
  },
  "language_info": {
   "codemirror_mode": {
    "name": "ipython",
    "version": 3
   },
   "file_extension": ".py",
   "mimetype": "text/x-python",
   "name": "python",
   "nbconvert_exporter": "python",
   "pygments_lexer": "ipython3",
   "version": "3.5.2"
  }
 },
 "nbformat": 4,
 "nbformat_minor": 0
}
