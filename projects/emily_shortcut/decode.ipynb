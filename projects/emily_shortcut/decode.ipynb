{
 "cells": [
  {
   "cell_type": "code",
   "execution_count": 1,
   "metadata": {
    "collapsed": true
   },
   "outputs": [],
   "source": [
    "# %matplotlib inline\n",
    "import numpy as np\n",
    "import matplotlib.pyplot as plt\n",
    "from shapely.geometry import Point, LineString\n",
    "import pickle\n",
    "import seaborn as sns\n",
    "import os\n",
    "\n",
    "import vdmlab as vdm\n",
    "\n",
    "from tuning_curves_functions import get_tc, get_odd_firing_idx, linearize\n",
    "\n",
    "import info.R066d4_info as r066d4"
   ]
  },
  {
   "cell_type": "code",
   "execution_count": 3,
   "metadata": {
    "collapsed": true
   },
   "outputs": [],
   "source": [
    "# pickle_filepath = 'E:\\\\code\\\\python-vdmlab\\\\projects\\\\emily_shortcut\\\\cache\\\\pickled\\\\'\n",
    "# output_filepath = 'E:\\\\code\\\\python-vdmlab\\\\projects\\\\emily_shortcut\\\\plots\\\\sequence\\\\'\n",
    "pickle_filepath = 'C:\\\\Users\\\\Emily\\\\Code\\\\python-vdmlab\\\\projects\\\\emily_shortcut\\\\cache\\\\pickled\\\\'\n",
    "output_filepath = 'C:\\\\Users\\\\Emily\\\\Code\\\\python-vdmlab\\\\projects\\\\emily_shortcut\\\\plots\\\\sequence\\\\'"
   ]
  },
  {
   "cell_type": "code",
   "execution_count": 4,
   "metadata": {
    "collapsed": true
   },
   "outputs": [],
   "source": [
    "info = r066d4"
   ]
  },
  {
   "cell_type": "code",
   "execution_count": 5,
   "metadata": {
    "collapsed": false
   },
   "outputs": [
    {
     "name": "stdout",
     "output_type": "stream",
     "text": [
      "R066d4\n"
     ]
    }
   ],
   "source": [
    "print(info.session_id)\n",
    "pos = info.get_pos(info.pxl_to_cm)\n",
    "\n",
    "t_start = info.task_times['phase3'][0]\n",
    "t_stop = info.task_times['phase3'][1]\n",
    "\n",
    "t_start_idx = vdm.find_nearest_idx(pos['time'], t_start)\n",
    "t_end_idx = vdm.find_nearest_idx(pos['time'], t_stop)\n",
    "\n",
    "sliced_pos = dict()\n",
    "sliced_pos['x'] = pos['x'][t_start_idx:t_end_idx]\n",
    "sliced_pos['y'] = pos['y'][t_start_idx:t_end_idx]\n",
    "sliced_pos['time'] = pos['time'][t_start_idx:t_end_idx]\n",
    "\n",
    "linear, zone = linearize(info, pos)\n",
    "\n",
    "spikes = info.get_spikes()\n",
    "\n",
    "tc = get_tc(info, sliced_pos, pickle_filepath)\n",
    "\n",
    "sort_idx = vdm.get_sort_idx(tc['u'])\n",
    "odd_firing_idx = get_odd_firing_idx(tc['u'])\n",
    "\n",
    "ordered_spikes = spikes['time'][sort_idx]"
   ]
  },
  {
   "cell_type": "code",
   "execution_count": 7,
   "metadata": {
    "collapsed": false
   },
   "outputs": [],
   "source": [
    "dt = np.median(np.diff(linear['u']['time']))\n",
    "\n",
    "edges = np.hstack(((linear['u']['time']-dt)/2, linear['u']['time'][-1]))\n",
    "subsample = 6\n",
    "edges = edges[np.arange(1, len(edges)+1, 6)]\n",
    "\n",
    "centers = (edges[:-1] + dt)/2"
   ]
  },
  {
   "cell_type": "code",
   "execution_count": null,
   "metadata": {
    "collapsed": true
   },
   "outputs": [],
   "source": []
  },
  {
   "cell_type": "code",
   "execution_count": null,
   "metadata": {
    "collapsed": false
   },
   "outputs": [],
   "source": [
    "position_z = linear['u']\n",
    "num_bins = 101\n",
    "\n",
    "linear_start = np.min(position_z['time'])\n",
    "linear_stop = np.max(position_z['time'])\n",
    "edges = np.linspace(linear_start, linear_stop, num=num_bins)\n",
    "centers = np.array((edges[1:] + edges[:-1]) / 2.)\n",
    "\n",
    "# occupancy = np.zeros(len(centers))"
   ]
  },
  {
   "cell_type": "code",
   "execution_count": 10,
   "metadata": {
    "collapsed": false
   },
   "outputs": [],
   "source": [
    "intervals = dict()\n",
    "intervals['start'] = edges[:-2]\n",
    "intervals['stop'] = edges[1:-1]\n",
    "\n",
    "counts = vdm.spike_counts(spikes['time'], intervals)"
   ]
  },
  {
   "cell_type": "code",
   "execution_count": 11,
   "metadata": {
    "collapsed": false
   },
   "outputs": [
    {
     "name": "stdout",
     "output_type": "stream",
     "text": [
      "0.0 0.0\n"
     ]
    }
   ],
   "source": [
    "print(np.min(counts), np.max(counts))"
   ]
  },
  {
   "cell_type": "code",
   "execution_count": 13,
   "metadata": {
    "collapsed": false
   },
   "outputs": [
    {
     "name": "stdout",
     "output_type": "stream",
     "text": [
      "(86, 7622)\n"
     ]
    }
   ],
   "source": [
    "print(np.shape(counts))"
   ]
  },
  {
   "cell_type": "code",
   "execution_count": null,
   "metadata": {
    "collapsed": false
   },
   "outputs": [],
   "source": [
    "print(intervals['start'][0:5], intervals['stop'][0:5])"
   ]
  },
  {
   "cell_type": "code",
   "execution_count": null,
   "metadata": {
    "collapsed": true
   },
   "outputs": [],
   "source": [
    "plt.plot(counts)\n",
    "plt.show()"
   ]
  },
  {
   "cell_type": "markdown",
   "metadata": {},
   "source": [
    "# From matlab"
   ]
  },
  {
   "cell_type": "code",
   "execution_count": 257,
   "metadata": {
    "collapsed": false
   },
   "outputs": [],
   "source": [
    "import scipy.io as sio\n",
    "loading_decoder = sio.loadmat('C:\\\\Users\\\\Emily\\\\Desktop\\\\_decoding.mat')"
   ]
  },
  {
   "cell_type": "code",
   "execution_count": 256,
   "metadata": {
    "collapsed": true
   },
   "outputs": [],
   "source": [
    "decode = dict(time=[])\n",
    "decode['spikes'] = loading_decoder['pyspikes'][0]\n",
    "decode['ztime'] = loading_decoder['pyztime'][0]\n",
    "decode['zdata'] = loading_decoder['pyzdata'][0]\n",
    "decode['tc'] = loading_decoder['pytc']"
   ]
  },
  {
   "cell_type": "code",
   "execution_count": 42,
   "metadata": {
    "collapsed": false
   },
   "outputs": [
    {
     "name": "stdout",
     "output_type": "stream",
     "text": [
      "(48,)\n"
     ]
    }
   ],
   "source": [
    "print(np.shape(decode['tc']))"
   ]
  },
  {
   "cell_type": "code",
   "execution_count": 103,
   "metadata": {
    "collapsed": false
   },
   "outputs": [],
   "source": [
    "dt = np.median(np.diff(decode['ztime']))\n",
    "\n",
    "edges = np.hstack((decode['ztime']-(dt/2), decode['ztime'][-1]))\n",
    "subsample = 6\n",
    "edges = edges[::subsample]"
   ]
  },
  {
   "cell_type": "code",
   "execution_count": 104,
   "metadata": {
    "collapsed": false
   },
   "outputs": [
    {
     "name": "stdout",
     "output_type": "stream",
     "text": [
      "8951 13523.44869 15618.461092\n"
     ]
    }
   ],
   "source": [
    "print(len(edges), np.min(edges), np.max(edges))"
   ]
  },
  {
   "cell_type": "code",
   "execution_count": 105,
   "metadata": {
    "collapsed": true
   },
   "outputs": [],
   "source": [
    "this_dt = np.median(np.diff(edges))"
   ]
  },
  {
   "cell_type": "code",
   "execution_count": 106,
   "metadata": {
    "collapsed": false
   },
   "outputs": [
    {
     "name": "stdout",
     "output_type": "stream",
     "text": [
      "0.200074 0.0330939999985\n"
     ]
    }
   ],
   "source": [
    "print(this_dt, dt)"
   ]
  },
  {
   "cell_type": "code",
   "execution_count": 234,
   "metadata": {
    "collapsed": false
   },
   "outputs": [
    {
     "data": {
      "text/plain": [
       "array([ 13523.465237,  13523.497987,  13523.565035,  13523.598096,\n",
       "        13523.632243,  13523.665258,  13523.698067,  13523.765092,\n",
       "        13523.798116,  13523.832185])"
      ]
     },
     "execution_count": 234,
     "metadata": {},
     "output_type": "execute_result"
    }
   ],
   "source": [
    "decode['ztime'][:10]"
   ]
  },
  {
   "cell_type": "code",
   "execution_count": 108,
   "metadata": {
    "collapsed": false
   },
   "outputs": [
    {
     "name": "stdout",
     "output_type": "stream",
     "text": [
      "8950 13523.548727 15618.377692\n"
     ]
    }
   ],
   "source": [
    "print(len(centers), np.min(centers), np.max(centers))"
   ]
  },
  {
   "cell_type": "code",
   "execution_count": 247,
   "metadata": {
    "collapsed": false
   },
   "outputs": [],
   "source": [
    "from scipy import signal\n",
    "gaussian_std = 0.02 / this_dt\n",
    "gaussian_window = 1.0 / this_dt\n",
    "\n",
    "gaussian_filter = signal.gaussian(gaussian_window, gaussian_std)\n",
    "gaussian_filter /= np.sum(gaussian_filter)"
   ]
  },
  {
   "cell_type": "code",
   "execution_count": 248,
   "metadata": {
    "collapsed": false
   },
   "outputs": [],
   "source": [
    "q = np.zeros((int(len(decode['spikes'])), int(len(edges)-1)))\n",
    "for idx, neuron_spikes in enumerate(decode['spikes']):\n",
    "    q[idx] = np.histogram(neuron_spikes, bins=edges)[0]\n",
    "    if gaussian_std > this_dt:\n",
    "        q[idx] = np.convolve(q[idx], gaussian_filter, mode='same')"
   ]
  },
  {
   "cell_type": "code",
   "execution_count": 243,
   "metadata": {
    "collapsed": true
   },
   "outputs": [],
   "source": [
    "plt.plot(gaussian_filter)\n",
    "plt.show()"
   ]
  },
  {
   "cell_type": "code",
   "execution_count": 246,
   "metadata": {
    "collapsed": false
   },
   "outputs": [],
   "source": [
    "plt.pcolormesh(q[:,:100])\n",
    "plt.colorbar()\n",
    "plt.show()"
   ]
  },
  {
   "cell_type": "code",
   "execution_count": 208,
   "metadata": {
    "collapsed": false
   },
   "outputs": [
    {
     "name": "stdout",
     "output_type": "stream",
     "text": [
      "(8950,)\n"
     ]
    }
   ],
   "source": [
    "print(np.shape(np.histogram(neuron_spikes, bins=edges)[0]))"
   ]
  },
  {
   "cell_type": "code",
   "execution_count": 14,
   "metadata": {
    "collapsed": true
   },
   "outputs": [],
   "source": [
    "import numpy.matlib\n",
    "import math"
   ]
  },
  {
   "cell_type": "code",
   "execution_count": 398,
   "metadata": {
    "collapsed": false
   },
   "outputs": [],
   "source": [
    "def get_counts(spikes, edges, gaussian_std=0.02, gaussian_window=1.0):\n",
    "    dt = np.median(np.diff(edges))\n",
    "    \n",
    "    apply_filter = False\n",
    "    gaussian_std /= dt\n",
    "    gaussian_window /= dt\n",
    "    \n",
    "    if gaussian_std > dt:\n",
    "        apply_filter = True\n",
    "    \n",
    "    if apply_filter:\n",
    "        gaussian_filter = signal.gaussian(gaussian_window, gaussian_std)\n",
    "        gaussian_filter /= np.sum(gaussian_filter)\n",
    "        \n",
    "    counts = np.zeros((int(len(spikes)), int(len(edges)-1)))\n",
    "    for idx, neuron_spikes in enumerate(spikes):\n",
    "        counts[idx] = np.histogram(neuron_spikes, bins=edges)[0]\n",
    "        if apply_filter:\n",
    "            counts[idx] = np.convolve(q[idx], gaussian_filter, mode='same')\n",
    "    return counts\n",
    "\n",
    "dt = np.median(np.diff(decode['ztime']))\n",
    "edges = np.hstack((decode['ztime']-(dt/2), decode['ztime'][-1]))\n",
    "subsample = 6\n",
    "edges = edges[::subsample]\n",
    "counts = get_counts(decode['spikes'], edges)"
   ]
  },
  {
   "cell_type": "code",
   "execution_count": 399,
   "metadata": {
    "collapsed": true
   },
   "outputs": [],
   "source": [
    "plt.pcolormesh(counts[:,:100])\n",
    "plt.colorbar()\n",
    "plt.show()"
   ]
  },
  {
   "cell_type": "code",
   "execution_count": 400,
   "metadata": {
    "collapsed": true
   },
   "outputs": [],
   "source": [
    "def bayesian_prob(counts, tuning_curves, centers, min_neurons=1, min_spikes=1):\n",
    "    length = np.shape(counts)[1]\n",
    "    num_bins = np.shape(tuning_curves)[1]\n",
    "    bin_size = np.median(np.diff(centers))\n",
    "    \n",
    "    prob = np.empty((length, num_bins)) * np.nan\n",
    "    for idx in range(num_bins):\n",
    "        # What does tempprod represent?\n",
    "        tempprod = np.nansum(np.log(tuning_curves[:,idx][..., np.newaxis] ** q), axis=0)\n",
    "\n",
    "        # What does tempsum represent?\n",
    "        tempsum = np.exp(-bin_size * np.nansum(tuning_curves[:, idx]))\n",
    "\n",
    "        prob[:, idx] = np.exp(tempprod) * tempsum * (1/num_bins)\n",
    "\n",
    "\n",
    "    prob /= np.sum(prob, axis=1)[..., np.newaxis]\n",
    "    # prob[np.isnan(prob)] = 0 add to docstring\n",
    "    \n",
    "    num_active_neurons = np.sum(counts > min_spikes, axis=0)\n",
    "    prob[num_active_neurons < min_neurons] = np.nan\n",
    "    return prob\n",
    "\n",
    "centers = edges[:-1] + np.median(np.diff(edges))/2\n",
    "prob = bayesian_prob(counts, decode['tc'], centers)"
   ]
  },
  {
   "cell_type": "code",
   "execution_count": 401,
   "metadata": {
    "collapsed": true
   },
   "outputs": [],
   "source": [
    "plt.pcolormesh(prob[200::-1])\n",
    "plt.colorbar()\n",
    "plt.show()"
   ]
  },
  {
   "cell_type": "code",
   "execution_count": 402,
   "metadata": {
    "collapsed": true
   },
   "outputs": [],
   "source": [
    "def find_nearest_indices(array, vals):\n",
    "    return np.array([vdm.find_nearest_idx(array, val) for val in vals], dtype=int)"
   ]
  },
  {
   "cell_type": "code",
   "execution_count": 403,
   "metadata": {
    "collapsed": false
   },
   "outputs": [
    {
     "data": {
      "text/plain": [
       "19.078440508736477"
      ]
     },
     "execution_count": 403,
     "metadata": {},
     "output_type": "execute_result"
    }
   ],
   "source": [
    "def decode_location(prob, linear):\n",
    "    max_decoded_idx = np.argmax(prob, axis=1)\n",
    "    decoded = max_decoded_idx * (np.max(linear['position'])-np.min(linear['position'])) / (np.shape(prob)[1]-1)\n",
    "    decoded += np.min(linear['position'])\n",
    "\n",
    "    nan_idx = np.sum(np.isnan(prob), axis=1) == (np.shape(prob)[1]-1)\n",
    "    decoded[nan_idx] = np.nan\n",
    "    \n",
    "    return decoded\n",
    "\n",
    "linear = dict()\n",
    "linear['position'] = decode['zdata']\n",
    "linear['time'] =\n",
    "decoded = decode_location(prob, linear)\n",
    "\n",
    "actual_idx = find_nearest_indices(decode['ztime'], centers)\n",
    "actual_location = decode['zdata'][rat_location_idx]\n",
    "\n",
    "decode_error = np.abs(actual_location - decoded)\n",
    "np.mean(decode_error)"
   ]
  },
  {
   "cell_type": "code",
   "execution_count": 404,
   "metadata": {
    "collapsed": true
   },
   "outputs": [],
   "source": [
    "plt.plot(centers, decoded)\n",
    "plt.plot(decode['ztime'], decode['zdata'], 'r.')\n",
    "plt.show()"
   ]
  },
  {
   "cell_type": "code",
   "execution_count": null,
   "metadata": {
    "collapsed": true
   },
   "outputs": [],
   "source": []
  },
  {
   "cell_type": "code",
   "execution_count": 250,
   "metadata": {
    "collapsed": true
   },
   "outputs": [],
   "source": [
    "centers = edges[:-1] + np.median(np.diff(edges))/2"
   ]
  },
  {
   "cell_type": "code",
   "execution_count": 263,
   "metadata": {
    "collapsed": false
   },
   "outputs": [
    {
     "name": "stdout",
     "output_type": "stream",
     "text": [
      "48\n"
     ]
    }
   ],
   "source": [
    "print(np.shape(decode['tc'])[1])"
   ]
  },
  {
   "cell_type": "code",
   "execution_count": 267,
   "metadata": {
    "collapsed": false
   },
   "outputs": [],
   "source": [
    "min_neurons = 1\n",
    "min_spikes = 1\n",
    "\n",
    "length = np.shape(q)[1]\n",
    "num_bins = np.shape(decode['tc'])[1]\n",
    "bin_size = np.median(np.diff(centers))\n",
    "\n",
    "# occ_uniform = np.ones((1, num_bins))[0] * bin_size\n",
    "\n"
   ]
  },
  {
   "cell_type": "code",
   "execution_count": 297,
   "metadata": {
    "collapsed": false
   },
   "outputs": [
    {
     "data": {
      "text/plain": [
       "(86, 8950)"
      ]
     },
     "execution_count": 297,
     "metadata": {},
     "output_type": "execute_result"
    }
   ],
   "source": [
    "q.shape"
   ]
  },
  {
   "cell_type": "code",
   "execution_count": 298,
   "metadata": {
    "collapsed": false
   },
   "outputs": [],
   "source": [
    "prob = np.empty((length, num_bins)) * np.nan\n",
    "for idx in range(num_bins):\n",
    "    # What does tempprod represent?\n",
    "    tempprod = np.nansum(np.log(decode['tc'][:,idx][..., np.newaxis] ** q), axis=0)\n",
    "    \n",
    "    # What does tempsum represent?\n",
    "    tempsum = np.exp(-bin_size * np.nansum(decode['tc'][:, idx]))\n",
    "    \n",
    "    prob[:, idx] = np.exp(tempprod) * tempsum * (1/num_bins)\n",
    "    \n",
    "\n",
    "prob /= np.sum(prob, axis=1)[..., np.newaxis]\n",
    "# prob[np.isnan(prob)] = 0 add to docstring\n"
   ]
  },
  {
   "cell_type": "code",
   "execution_count": 301,
   "metadata": {
    "collapsed": true
   },
   "outputs": [],
   "source": [
    "num_active_neurons = np.sum(q > min_spikes, axis=0)\n",
    "prob[num_active_neurons < min_neurons] = np.nan"
   ]
  },
  {
   "cell_type": "code",
   "execution_count": 305,
   "metadata": {
    "collapsed": false
   },
   "outputs": [],
   "source": [
    "plt.pcolormesh(prob[200::-1])\n",
    "plt.colorbar()\n",
    "plt.show()"
   ]
  },
  {
   "cell_type": "code",
   "execution_count": 306,
   "metadata": {
    "collapsed": false
   },
   "outputs": [],
   "source": [
    "max_decoded_idx = np.argmax(prob, axis=1)"
   ]
  },
  {
   "cell_type": "code",
   "execution_count": 322,
   "metadata": {
    "collapsed": false
   },
   "outputs": [
    {
     "name": "stdout",
     "output_type": "stream",
     "text": [
      "1.0 146.0\n",
      "0 47\n",
      "1.0 146.0\n"
     ]
    }
   ],
   "source": [
    "print(np.min(decode['zdata']), np.max(decode['zdata']))\n",
    "print(0, np.shape(prob)[1]-1)\n",
    "print(np.min(decoded), np.max(decoded))"
   ]
  },
  {
   "cell_type": "code",
   "execution_count": 321,
   "metadata": {
    "collapsed": true
   },
   "outputs": [],
   "source": [
    "decoded = max_decoded_idx * (np.max(decode['zdata'])-np.min(decode['zdata'])) / (np.shape(prob)[1]-1)\n",
    "decoded += np.min(decode['zdata'])"
   ]
  },
  {
   "cell_type": "code",
   "execution_count": 354,
   "metadata": {
    "collapsed": true
   },
   "outputs": [],
   "source": [
    "nan_idx = np.sum(np.isnan(prob), axis=1) == (np.shape(prob)[1]-1)"
   ]
  },
  {
   "cell_type": "code",
   "execution_count": 357,
   "metadata": {
    "collapsed": false
   },
   "outputs": [],
   "source": [
    "decoded[nan_idx] = np.nan"
   ]
  },
  {
   "cell_type": "code",
   "execution_count": 366,
   "metadata": {
    "collapsed": false
   },
   "outputs": [],
   "source": [
    "def find_nearest_indices(array, vals):\n",
    "    return np.array([vdm.find_nearest_idx(array, val) for val in vals], dtype=int)"
   ]
  },
  {
   "cell_type": "code",
   "execution_count": 372,
   "metadata": {
    "collapsed": false
   },
   "outputs": [],
   "source": [
    "rat_location_idx = find_nearest_indices(decode['ztime'], centers)"
   ]
  },
  {
   "cell_type": "code",
   "execution_count": 373,
   "metadata": {
    "collapsed": false
   },
   "outputs": [
    {
     "data": {
      "text/plain": [
       "(8950,)"
      ]
     },
     "execution_count": 373,
     "metadata": {},
     "output_type": "execute_result"
    }
   ],
   "source": [
    "np.shape(rat_location_idx)"
   ]
  },
  {
   "cell_type": "code",
   "execution_count": 374,
   "metadata": {
    "collapsed": true
   },
   "outputs": [],
   "source": [
    "rat_location = decode['zdata'][rat_location_idx]"
   ]
  },
  {
   "cell_type": "code",
   "execution_count": 375,
   "metadata": {
    "collapsed": false
   },
   "outputs": [],
   "source": [
    "decode_error = np.abs(rat_location - decoded)"
   ]
  },
  {
   "cell_type": "code",
   "execution_count": 377,
   "metadata": {
    "collapsed": false
   },
   "outputs": [],
   "source": [
    "plt.plot(decode_error)\n",
    "plt.show()"
   ]
  },
  {
   "cell_type": "code",
   "execution_count": 378,
   "metadata": {
    "collapsed": false
   },
   "outputs": [
    {
     "data": {
      "text/plain": [
       "19.078440508736477"
      ]
     },
     "execution_count": 378,
     "metadata": {},
     "output_type": "execute_result"
    }
   ],
   "source": [
    "np.mean(decode_error)"
   ]
  },
  {
   "cell_type": "code",
   "execution_count": null,
   "metadata": {
    "collapsed": true
   },
   "outputs": [],
   "source": []
  },
  {
   "cell_type": "code",
   "execution_count": 379,
   "metadata": {
    "collapsed": false
   },
   "outputs": [],
   "source": [
    "plt.plot(centers, decoded)\n",
    "plt.plot(decode['ztime'], decode['zdata'], 'r.')\n",
    "plt.show()"
   ]
  },
  {
   "cell_type": "code",
   "execution_count": 391,
   "metadata": {
    "collapsed": true
   },
   "outputs": [],
   "source": [
    "import nengo\n",
    "smoothed_decoded = nengo.Lowpass(0.001).filtfilt(decoded)"
   ]
  },
  {
   "cell_type": "code",
   "execution_count": 392,
   "metadata": {
    "collapsed": false
   },
   "outputs": [
    {
     "name": "stdout",
     "output_type": "stream",
     "text": [
      "17.9240187898\n"
     ]
    }
   ],
   "source": [
    "print(np.mean(np.abs(rat_location - smoothed_decoded)))"
   ]
  },
  {
   "cell_type": "code",
   "execution_count": 394,
   "metadata": {
    "collapsed": true
   },
   "outputs": [],
   "source": [
    "plt.plot(centers, smoothed_decoded)\n",
    "plt.plot(decode['ztime'], decode['zdata'], 'r.')\n",
    "plt.show()"
   ]
  },
  {
   "cell_type": "code",
   "execution_count": 348,
   "metadata": {
    "collapsed": false
   },
   "outputs": [
    {
     "name": "stdout",
     "output_type": "stream",
     "text": [
      "[[ 0.57765858         nan]\n",
      " [ 0.60636395         nan]\n",
      " [ 0.99415385         nan]\n",
      " [ 0.2813858          nan]]\n"
     ]
    },
    {
     "data": {
      "text/plain": [
       "array([2, 0], dtype=int64)"
      ]
     },
     "execution_count": 348,
     "metadata": {},
     "output_type": "execute_result"
    }
   ],
   "source": [
    "a = np.random.rand(4, 2)\n",
    "a[:, 1] = np.nan\n",
    "print(a)\n",
    "np.argmax(a, axis=0)"
   ]
  },
  {
   "cell_type": "code",
   "execution_count": 353,
   "metadata": {
    "collapsed": false
   },
   "outputs": [
    {
     "data": {
      "text/plain": [
       "2"
      ]
     },
     "execution_count": 353,
     "metadata": {},
     "output_type": "execute_result"
    }
   ],
   "source": [
    "np.sum(np.isnan([np.nan, 2, np.nan]))"
   ]
  },
  {
   "cell_type": "code",
   "execution_count": null,
   "metadata": {
    "collapsed": true
   },
   "outputs": [],
   "source": []
  },
  {
   "cell_type": "code",
   "execution_count": 90,
   "metadata": {
    "collapsed": false
   },
   "outputs": [],
   "source": [
    "intervals = dict()\n",
    "intervals['start'] = edges[:-2]\n",
    "intervals['stop'] = edges[1:-1]\n",
    "\n",
    "counts = vdm.spike_counts(decode['spikes'], intervals)"
   ]
  },
  {
   "cell_type": "code",
   "execution_count": 92,
   "metadata": {
    "collapsed": false
   },
   "outputs": [
    {
     "data": {
      "text/plain": [
       "8949"
      ]
     },
     "execution_count": 92,
     "metadata": {},
     "output_type": "execute_result"
    }
   ],
   "source": [
    "len(intervals['start'])"
   ]
  },
  {
   "cell_type": "code",
   "execution_count": 91,
   "metadata": {
    "collapsed": false
   },
   "outputs": [
    {
     "name": "stdout",
     "output_type": "stream",
     "text": [
      "86 0.0 302.0\n"
     ]
    }
   ],
   "source": [
    "print(len(counts), np.min(counts), np.max(counts))"
   ]
  },
  {
   "cell_type": "code",
   "execution_count": null,
   "metadata": {
    "collapsed": true
   },
   "outputs": [],
   "source": []
  },
  {
   "cell_type": "code",
   "execution_count": null,
   "metadata": {
    "collapsed": true
   },
   "outputs": [],
   "source": []
  },
  {
   "cell_type": "code",
   "execution_count": null,
   "metadata": {
    "collapsed": true
   },
   "outputs": [],
   "source": []
  },
  {
   "cell_type": "code",
   "execution_count": null,
   "metadata": {
    "collapsed": true
   },
   "outputs": [],
   "source": []
  }
 ],
 "metadata": {
  "kernelspec": {
   "display_name": "Python 3",
   "language": "python",
   "name": "python3"
  },
  "language_info": {
   "codemirror_mode": {
    "name": "ipython",
    "version": 3
   },
   "file_extension": ".py",
   "mimetype": "text/x-python",
   "name": "python",
   "nbconvert_exporter": "python",
   "pygments_lexer": "ipython3",
   "version": "3.5.2"
  }
 },
 "nbformat": 4,
 "nbformat_minor": 0
}
