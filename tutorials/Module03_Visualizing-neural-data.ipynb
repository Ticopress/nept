{
 "cells": [
  {
   "cell_type": "markdown",
   "metadata": {},
   "source": [
    "# Module 3: Visualizing neural data in MATLAB"
   ]
  },
  {
   "cell_type": "markdown",
   "metadata": {},
   "source": [
    "# Goals:\n",
    "\n",
    "- Master the basics of plotting data in MATLAB using the versatile ''plot()'' function\n",
    "- Understand how to use _handles_ to fine-tune formatting\n",
    "- Meet some existing visualization tools: ''MultiRaster()'', ''PlotTSDfromIV()'' and ''ft_databrowser()''\n",
    "- Use interactive figure properties with callback functions for dynamic data viewing\n",
    "- Learn to use functions with variable numbers of input arguments (using ''varargin'' and ''cfg'' inputs) effectively\n",
    "- Understand which file format to export figures to\n",
    "- Advanced bonus section: GUIs, movies, and sonification of spiking data"
   ]
  },
  {
   "cell_type": "markdown",
   "metadata": {},
   "source": [
    "# Resources:\n",
    "\n",
    "- MATLAB documentation for ''plot'', \n",
    "[Figure properties](http://www.mathworks.com/help/matlab/ref/figure_props.html), \n",
    "[Axis properties](http://www.mathworks.com/help/matlab/ref/axes_props.html) and \n",
    "[Line Properties](http://www.mathworks.com/help/matlab/ref/line_props.html)\n",
    "- [MATLAB plotting gallery](http://www.mathworks.com/help/matlab/creating_plots/figures-plots-and-graphs.html)\n",
    "- [Place cell assignment](http://www.vandermeerlab.org/BIOL377_assignment3_2012.pdf) \n",
    "from MvdM's BIOL377 course at Waterloo from a few years ago \n",
    "(if you want a gentle intro to what is going on in the data you are looking at; can be done in 30 min)\n",
    "- (optional) Tufte, [The Visual Display of Quantitative Information](http://www.edwardtufte.com/tufte/books_vdqi)"
   ]
  },
  {
   "cell_type": "markdown",
   "metadata": {},
   "source": [
    "# Introductory remarks\n",
    "\n",
    "Visualization is an essential component of any data analysis workflow. \n",
    "You would never perform brain surgery or another intricate experimental procedure \n",
    "without a good view of what you are doing \n",
    "-- if conditions are met for a next step, whether a manipulation has the desired outcome --\n",
    "and likewise, you should not do data analysis blind. \n",
    "This means that after every step you want to be able to see what changed. \n",
    "\n",
    "Also, for many analyses, a visualization is part of the final outcome. \n",
    "Most neuroscience papers have complex multipanel figures, such as this one from \n",
    "[Dragoi and Tonegawa 2011](http://www.nature.com/nature/journal/v469/n7330/fig_tab/nature09633_F4.html):\n",
    "\n",
    "<img src=\"03-multi-plot.png\"> \n",
    "\n",
    "Notice that panel Aa, \n",
    "a highly selective and organized view of raw data, \n",
    "already contains LFP data (top) and spike data from 18 cells!\n",
    "\n",
    "This sort of figure is constructed by first producing the individual panels in MATLAB, \n",
    "and then perhaps combining them in a graphic design package such as Adobe Illustrator/InDesign. \n",
    "We will do the MATLAB part here and aim to produce something similar to panel Aa, \n",
    "while introducing the fundamentals of plotting in MATLAB.\n",
    "Other types of plots, such as bar plots, errorbars, color bitmaps, filled shapes, \n",
    "and shading will be introduced as they are needed in later modules.\n",
    "\n",
    "An important principle in graphical design for scientific communication \n",
    "is to only include those elements which contribute to the messages(s) you want to communicate. \n",
    "Remove and simplify as much as possible: this will make your figures more readable. \n",
    "The Tufte book linked to above is a beautiful statement of this (and other) guiding principles of graphic design.\n",
    "\n",
    "Even if you do not go as far as reading it, \n",
    "do at least make the labels in your figures big enough to be readable! :-)"
   ]
  },
  {
   "cell_type": "markdown",
   "metadata": {},
   "source": [
    "# Loading the data\n",
    "\n",
    "If you haven't done so already, \n",
    "this would be a good time for a ``git pull`` \n",
    "to make sure you have the latest version of the course codebase!\n",
    "\n",
    "Now, make sure you have the folder ''R042-2013-08-18'' from the data share, \n",
    "and that this is placed in a sensible location (NOT in a %%GitHub%% or project folder!). \n",
    "\n",
    "This data set was collected from the dorsal CA1 region of the hippocampus of a rat performing a T-maze task, \n",
    "using a drive with 16 independently movable tetrodes \n",
    "(by [Alyssa Carey](https://github.com/aacarey) for her Master's thesis work). \n",
    "Spike and LFP data was recorded from each tetrode; \n",
    "possible spike events were detected online and stored for offline spike-sorting, \n",
    "and LFPs were sampled at 2kHz and bandpass filtered between 1-475Hz. \n",
    "(A quirk of this particular data set is that certain time intervals are cut out of the spike data, \n",
    "but not the LFP. \n",
    "So you may notice some odd looking gaps in the rasterplot later.)\n",
    "\n",
    "As in previous modules, use the shortcut button created in the previous module to set your path. \n",
    "In your project folder, create a folder with today's date and ''cd'' to it. \n",
    "This will be your working directory with stuff that you don't necessarily intend to push to GitHub.\n",
    "\n",
    "Create a ''sandbox.m'' file in your daily folder. \n",
    "In this file, use cell mode to load some spike trains, a LFP, and position data as follows \n",
    "(recall you can use Ctrl+Enter to execute the code in a cell):"
   ]
  },
  {
   "cell_type": "markdown",
   "metadata": {},
   "source": [
    "```matlab\n",
    "%% cd to data folder -- replace this with yours\n",
    "fd = 'D:\\data\\DataAnalysisTutorial\\R042-2013-08-18';\n",
    "cd(fd);\n",
    "\n",
    "%% load the data (note, may need to unzip position data first)\n",
    "cfg = [];\n",
    "S = LoadSpikes(cfg)\n",
    "```"
   ]
  },
  {
   "cell_type": "markdown",
   "metadata": {},
   "source": [
    "This should give a data structure containing spike train data:"
   ]
  },
  {
   "cell_type": "markdown",
   "metadata": {},
   "source": [
    "```matlab\n",
    "LoadSpikes: Loading 67 files...\n",
    "\n",
    "S = \n",
    "\n",
    "     type: 'ts'\n",
    "        t: {1x67 cell}\n",
    "    label: {1x67 cell}\n",
    "      cfg: [1x1 struct]\n",
    "      usr: [1x1 struct]\n",
    "```"
   ]
  },
  {
   "cell_type": "markdown",
   "metadata": {},
   "source": [
    "The details of this ''ts'' structure are discussed in [Module 2](analysis:course-w16:week2). \n",
    "In brief, each cell of ''S.t'' contains the spike times from a putative neuron. \n",
    "The qualifier \"putative\" is used because this is extracellular data and \n",
    "[spike-sorting](analysis:course-w16:week4) is not perfect, \n",
    "so it's likely there will be some spikes missing and some spikes included that are not from this neuron. \n",
    "Always remember this even if I will omit the \"putative\" from now on for short. \n",
    "You can see we have loaded 67 neurons for now.\n",
    "\n",
    "The ''LoadSpikes()'' function has some features not discussed here, \n",
    "such as the contents of the ''usr'' field; you can type ''help LoadSpikes()'' to learn more.\n",
    "\n",
    "Let's also load a LFP:"
   ]
  },
  {
   "cell_type": "markdown",
   "metadata": {},
   "source": [
    "```matlab\n",
    "cfg = [];\n",
    "cfg.fc = {'R042-2013-08-18-CSC03a.ncs'};\n",
    "csc = LoadCSC(cfg)\n",
    "```\n",
    "\n",
    "This gives:\n",
    "\n",
    "```matlab>\n",
    "LoadCSC: Loading 1 file(s)...\n",
    "LoadCSC: R042-2013-08-18-CSC03a.ncs 0/17193 bad blocks found (0.00%).\n",
    "\n",
    "csc = \n",
    "\n",
    "     type: 'tsd'\n",
    "     tvec: [8802816x1 double]\n",
    "     data: [1x8802816 double]\n",
    "    label: {'R042-2013-08-18-CSC03a.ncs'}\n",
    "      cfg: [1x1 struct]\n",
    "```"
   ]
  },
  {
   "cell_type": "markdown",
   "metadata": {},
   "source": [
    "''csc'' is the common Neuralynx designation for \"continuously sampled channel\" \n",
    "and typically is an EEG or LFP type signal sampled and filtered \n",
    "so that high-frequency components such as spikes are not accessible. \n",
    "It is possible to have wide-band, 32kHz CSCs suitable for spike extraction, \n",
    "but these are not included in the current dataset. \n",
    "As discussed more extensively in [Module 2](analysis:course-w16:week2)\n",
    "a LFP is defined by matching sets of sample timestamps (''csc.tvec'') and sampled data (''csc.data'').\n",
    "\n",
    "Before we proceed, let's restrict the data we have loaded (about 90 minutes' worth) to a more manageable size.\n",
    "\n",
    "A useful function that works on ''ts'', ''tsd'' and ''iv'' objects is ''restrict()''."
   ]
  },
  {
   "cell_type": "markdown",
   "metadata": {},
   "source": [
    "** Use MATLAB's ''help'' function to look up the usage information for ''restrict()''. \n",
    "In a new editor cell, use this function to create ''S_r'' and ''csc_r'' variables, \n",
    "containing the spike and LFP data respectively, restricted between 5900 and 6000 seconds. **\n",
    "\n",
    "_Hint:_ make a habit of using variables instead of hard-coding specific values. \n",
    "Applying this [good programming practice](analysis:nsb2015:week0) to the above \n",
    "means that you first define the interval of interest, \n",
    "and then use the same resulting variable to two calls to ''restrict()''. \n",
    "That way, if you ever want to change this interval, you can do so in a single, \n",
    "clearly visible location at the beginning of your code. \n",
    "This is much more robust than having to scan through the whole script \n",
    "to find and modify each instance of some hard-coded numbers!"
   ]
  },
  {
   "cell_type": "markdown",
   "metadata": {},
   "source": [
    "** Verify that the restriction worked by inspecting the ''csc_r'' variable \n",
    "-- you should notice that the length of the ''tvec'' and ''data'' fields has been suitably reduced. **"
   ]
  },
  {
   "cell_type": "markdown",
   "metadata": {},
   "source": [
    "# Do-it-yourself plotting\n",
    "\n",
    "If you are already familiar with MATLAB's basic plotting functions \n",
    "and how to use object handles to set properties of drawing objects, you can skip this section."
   ]
  },
  {
   "cell_type": "markdown",
   "metadata": {},
   "source": [
    "# Basic plot commands\n",
    "\n",
    "Let's look at the spike times of the 17th cell in our data set \n",
    "(note the use of the curly brackets ''{}'', if this is confusing, \n",
    "review the MATLAB help on cell arrays):"
   ]
  },
  {
   "cell_type": "markdown",
   "metadata": {},
   "source": [
    "```matlab\n",
    "%%\n",
    "iC= 17;\n",
    "this_spk = S_r.t{iC}\n",
    "\n",
    "this_spk =\n",
    "\n",
    "   1.0e+03 *\n",
    "\n",
    "    5.9046\n",
    "    5.9046\n",
    "    5.9046\n",
    "    5.9046\n",
    "```"
   ]
  },
  {
   "cell_type": "markdown",
   "metadata": {},
   "source": [
    "That's not a very helpful format, \n",
    "it looks like all four spikes have the same spike time, \n",
    "but note the ''1.0e+03'' (meaning 10^3, or 1000)!"
   ]
  },
  {
   "cell_type": "markdown",
   "metadata": {},
   "source": [
    "** Type ''format bank'' and try again. **"
   ]
  },
  {
   "cell_type": "markdown",
   "metadata": {},
   "source": [
    "You should now see somewhat more clearly the spike times of the five spikes this neuron emitted \n",
    "(in our restriction interval).\n",
    "\n",
    "An alternative to ''format'' is to use the ubiquitous ''fprintf()'' command:"
   ]
  },
  {
   "cell_type": "markdown",
   "metadata": {},
   "source": [
    "```matlab\n",
    ">> fprintf('%4.3f\\n',this_spk)\n",
    "5904.630\n",
    "5904.635\n",
    "5904.638\n",
    "5904.643\n",
    "```"
   ]
  },
  {
   "cell_type": "markdown",
   "metadata": {},
   "source": [
    "This way, you have precise control over the formatting of command line output \n",
    "-- the cryptic ''%4.3f'' tag specifies that the contents of ''this_spk'' \n",
    "should be formatted as a floating-point number with 4 digits before, \n",
    "and 3 digits following, the decimal point; ''\\n'' specifies a newline. \n",
    "(For reference: ''fprintf()'' has \n",
    "[many other formatting options](http://www.mathworks.com/help/matlab/ref/fprintf.html#input_argument_formatspec)).\n",
    "\n",
    "Now that we know what we are dealing with, let's meet the plot() command:"
   ]
  },
  {
   "cell_type": "markdown",
   "metadata": {},
   "source": [
    "```matlab\n",
    "plot(this_spk)\n",
    "```\n",
    "\n",
    "<img src=\"03-spike_line.png\"> "
   ]
  },
  {
   "cell_type": "markdown",
   "metadata": {},
   "source": [
    "This may not be what you were expecting! \n",
    "If you give ''plot()'' only one input argument \n",
    "(''this_spk'' in this case) it will, by default, \n",
    "plot the **index** of each element against its **value**.\n",
    "\n",
    "Let's unpack that statement so it is really clear: \n",
    "we have an array with five values here: the spike times of five spikes of neuron 11. \n",
    "''plot()'' plots the value of the first element (''this_spk(1)'') at x-coordinate ''1'' \n",
    "(its index, i.e. position in the array), and so forth for the whole length of the array. \n",
    "It also connects the data points with a blue line.\n",
    "\n",
    "Let's plot the same data differently:"
   ]
  },
  {
   "cell_type": "markdown",
   "metadata": {},
   "source": [
    "```matlab\n",
    "plot(this_spk,0,'.k');\n",
    "```\n",
    "\n",
    "<img src=\"03-spike_dot.png\"> "
   ]
  },
  {
   "cell_type": "markdown",
   "metadata": {},
   "source": [
    "A pretty different result! Because we have given ''plot()'' multiple input arguments, \n",
    "it interprets the first (''this_spk'') as the x-coordinate, and the second (''0'') as the y-coordinate. \n",
    "Indeed you can see in the plot that the spike times now show up on the x-axis, \n",
    "in contrast to the first plot we made, and the y-coordinate is 0 for all spikes.\n",
    "\n",
    "The final argument ('''.k''') specifies we want the data plotted as dots (''.'') and in black ('''k'''). \n",
    " \n",
    "Plotting spikes as dots is okay, \n",
    "but tickmarks (vertical lines, as in the example figure at the top) are better.\n",
    "Here is how to do it:"
   ]
  },
  {
   "cell_type": "markdown",
   "metadata": {},
   "source": [
    "```matlab\n",
    "h = plot([this_spk this_spk],[0.5 1.5],'k');\n",
    "axis([xlim 0 5])\n",
    "```"
   ]
  },
  {
   "cell_type": "markdown",
   "metadata": {},
   "source": [
    "To understand what happened here, recall that ''plot()'' uses the first argument as x-coordinates, \n",
    "and the second as y-coordinates. \n",
    "So the above plot command used our spike times (''this_spk'') as the x-coordinates, \n",
    "drawing a black line at each spike time between the specified y-coordinates ''[0.5 1.5]''.\n",
    "\n",
    "The ''axis'' command sets the axis limit according to the 4-dimensional array ''[xmin xmax ymin ymax]'';\n",
    "''xlim'' returns the current ''xmin'' and ''xmax''.\n",
    "What the ''h'' output argument is for will be explained in the next section."
   ]
  },
  {
   "cell_type": "markdown",
   "metadata": {},
   "source": [
    "** (Test your MATLAB skills) \n",
    "Extend the example code above to make a rasterplot containing the spikes for all cells in ''S_r''. \n",
    "Each cell should have its spikes appear on the corresponding row, as in the example plot at the top. \n",
    "To facilitate re-use later, wrap your code in a function, PlotSpikeRaster, \n",
    "that plots the raster for any ''ts'' input. \n",
    "Thus, it should also work for task events, for instance, \n",
    "by virtue of following the common ''ts'' datatype specification. **\n",
    "_Hint: how will you handle the case where some cell doesn't have any spikes?_"
   ]
  },
  {
   "cell_type": "markdown",
   "metadata": {},
   "source": [
    "# Using handles to fine-tune plotting\n",
    "\n",
    "At the end of the previous section, \n",
    "I specified an _output argument_ ''h'' with the ''plot()'' command. \n",
    "This output is a **handle**, \n",
    "a MATLAB data type that contains various properties associated with an object. \n",
    "In this case, ''h'' is a handle for the spikes we just plotted, \n",
    "and we can use it to change their appearance."
   ]
  },
  {
   "cell_type": "markdown",
   "metadata": {},
   "source": [
    "** Below are a few examples of how to use a plot handle. Try them -- one at a time -- and see what happens! **"
   ]
  },
  {
   "cell_type": "markdown",
   "metadata": {},
   "source": [
    "```matlab\n",
    "set(h,'Color',[0 1 0]); % \"set Color property of handle h to value [0 1 0] i.e. green in [red green blue] format\n",
    "set(h,'LineWidth',2);\n",
    "set(h,'Marker','.','MarkerSize',20); % note you can specify multiple properties in one set() function call\n",
    "```"
   ]
  },
  {
   "cell_type": "markdown",
   "metadata": {},
   "source": [
    "A list of all the properties of a handle can be obtained by typing ''get(h)''.\n",
    "\n",
    "MATLAB has a number of built-in handles, such as ''gca'' (\"get current axes\"):"
   ]
  },
  {
   "cell_type": "markdown",
   "metadata": {},
   "source": [
    "```matlab\n",
    "set(gca,'LineWidth',2);\n",
    "set(gca,'XTick',5904.62:0.01:5904.68,'YTickLabel',{});\n",
    "set(gca,'FontSize',24);\n",
    "```"
   ]
  },
  {
   "cell_type": "markdown",
   "metadata": {},
   "source": [
    "** Look up what properties the ''gca'' handle has to find out how to change the color of the axes and labels, and change it to red. **"
   ]
  },
  {
   "cell_type": "markdown",
   "metadata": {},
   "source": [
    "Note that if you are making figures with multiple axes \n",
    "(perhaps by using ''subplot()'' or ''plotyy()'') \n",
    "each axes gets its own handle.\n",
    "One axes is active at any given time, which it can be by clicking on it, \n",
    "or by explicitly doing something like ''axis(h)''.\n",
    "\n",
    "There is also a handle for the whole figure, ''gcf'':"
   ]
  },
  {
   "cell_type": "markdown",
   "metadata": {},
   "source": [
    "```matlab\n",
    "set(gcf,'Color',[0 0 0]);\n",
    "```"
   ]
  },
  {
   "cell_type": "markdown",
   "metadata": {},
   "source": [
    "Finally, MATLAB has a special handle, '0', for some defaults. \n",
    "For instance, a very useful default to change is the font size, \n",
    "''set(0,'DefaultAxesFontSize',18)'' because the default is usually too small to be readable once exported \n",
    "(see the next section on this). \n",
    "A good place for such a default change is in a shortcut that also contains your path, \n",
    "or perhaps even in MATLAB's ''startup.m''."
   ]
  },
  {
   "cell_type": "markdown",
   "metadata": {},
   "source": [
    "# Exporting figures\n",
    "\n",
    "Now that our figure looks nice, let's save it as an image file:"
   ]
  },
  {
   "cell_type": "markdown",
   "metadata": {},
   "source": [
    "```matlab\n",
    "print(gcf,'-dpng','-r300','R042-2013-08-18-spikes.png');\n",
    "```"
   ]
  },
  {
   "cell_type": "markdown",
   "metadata": {},
   "source": [
    "Notice that the first argument of ''print'' is the current figure's handle. \n",
    "The other arguments specify that we want a ''PNG'' file, with 300dpi resolution, and the filename to write to. \n",
    "PNG format is a good choice for saving figures because it uses \n",
    "[lossless compression](http://www.howtogeek.com/142174/what-lossless-file-formats-are-why-you-shouldnt-convert-lossy-to-lossless/), \n",
    "in contrast to JPEG images which use lossy compression and can have ugly artifacts as a result. \n",
    "Other useful save formats include ''-dill'' which saves ''.ai'' Illustrator files,\n",
    "and ''-deps'' which saves encapsulated PostScript; both of these are vector graphics formats."
   ]
  },
  {
   "cell_type": "markdown",
   "metadata": {},
   "source": [
    "** Look at the image file. Assuming you changed some of the figure and axis colors, \n",
    "you should find the colors in your image don't match those in MATLAB. \n",
    "Solve this problem by turning off the ''InvertHardCopy'' property of the figure, and save again. \n",
    "(MATLAB does this by default to facilitate printing images on white paper.) **\n",
    "\n",
    "You should get something like:\n",
    "\n",
    "<img src=\"03-spike_saved.png\"> \n",
    "\n",
    "Obviously, I do not recommend formatting your rasterplots with this particular color scheme for publication!"
   ]
  },
  {
   "cell_type": "markdown",
   "metadata": {},
   "source": [
    "# Putting it all together\n",
    "\n",
    "Let's add some fancy plot features together:"
   ]
  },
  {
   "cell_type": "markdown",
   "metadata": {},
   "source": [
    "```matlab\n",
    "%% restrict the data to interval of interest\n",
    "this_iv = iv([5900 6000]);\n",
    "S_r = restrict(S,this_iv);\n",
    "csc_r = restrict(csc,this_iv);\n",
    "\n",
    "%% plot spikes\n",
    "SET_spkY = 0.4; % parameter to set spike height\n",
    "\n",
    "figure; hold on;\n",
    "for iC = 1:length(S_r.t)\n",
    "    if ~isempty(S_r.t{iC})\n",
    "        plot([S_r.t{iC} S_r.t{iC}],[iC-SET_spkY iC+SET_spkY],'k');\n",
    "    end\n",
    "end % of cells\n",
    "ylabel('neuron #');\n",
    "\n",
    "%% add a LFP\n",
    "SET_cscY = [-5 0];\n",
    "plot(csc_r.tvec,rescale(csc_r.data,SET_cscY(1),SET_cscY(2)),'r');\n",
    "set(gca,'YTickLabel',{});\n",
    "\n",
    "%% add multi-unit activity in separate axes\n",
    "ax1 = gca; ax1_pos = get(ax1,'Position');\n",
    "ax2 = axes('Position',ax1_pos); % new axes with same position as first\n",
    " \n",
    "cfg = []; cfg.tvec = csc.tvec; cfg.sigma = 0.1;\n",
    "mua = getMUA(cfg,S); % obtain multi-unit activity\n",
    " \n",
    "xr = get(ax1,'XLim');\n",
    "mua_r = restrict(mua,xr(1),xr(2)); % only keep the data we need\n",
    " \n",
    "axes(ax2); % set current axes to the second set, so what follows happens there\n",
    "mua_hdl = plot(mua_r.tvec,mua_r.data,'Color',[0.7 0.7 0.7]);\n",
    " \n",
    "set(gca,'YAxisLocation','right','Box','off','XTick',[],'Color','none','YColor',[0.5 0.5 0.5])\n",
    "ylabel('multi-unit activity (spk/s)');\n",
    "linkaxes([ax1 ax2],'x'); \n",
    "```"
   ]
  },
  {
   "cell_type": "markdown",
   "metadata": {},
   "source": [
    "A few things to note here:\n",
    "- Using the ''Position'' property of the current axes \n",
    "(ax1, containing the rasterplot) we created a new set of axes (ax2).\n",
    "- In these new axes, we plotted the multi-unit activity, obtaining an output argument. \n",
    "Like ''gca'' and ''gcf'' this is a **handle** to graphics object; in this case, \n",
    "a handle to the multi-unit activity signal we just drew.\n",
    "- We set the properties of the new multi-unit axes to have the y-axis on the right \n",
    "(plus a few other properties).\n",
    "- ''linkaxes()'' was used to link the x-axis of both axes so that both update when zooming in."
   ]
  },
  {
   "cell_type": "markdown",
   "metadata": {},
   "source": [
    "** Use the 'XLim' axes property to zoom in to 5965 to 5969 s. **"
   ]
  },
  {
   "cell_type": "markdown",
   "metadata": {},
   "source": [
    "You should now be looking at the synchronous activation of a substantial number of neurons, \n",
    "reflected in the MUA peak, and associated with a high-frequency oscillation (~150-250Hz) in the LFP. \n",
    "These are the neurophysiological signatures of a \"sharp wave-ripple complex\" (SWR for short), \n",
    "events which are thought to contribute to the consolidation and retrieval of episodic memories.\n",
    "\n",
    "<img src=\"03-swr.png\"> \n",
    "\n",
    "It would be nice to be able to update what time window of the data we are looking at, \n",
    "without having to type these ''XLim'' commands. \n",
    "To do this we need to use a special Figure property, \n",
    "introduced in the next section. "
   ]
  },
  {
   "cell_type": "markdown",
   "metadata": {},
   "source": [
    "# Advanced topics\n",
    "\n",
    "The topics that follow in this section are optional, \n",
    "in the sense that later modules do not assume you know how to do these things.\n",
    "Feel free to use this section as you see fit, \n",
    "but do make sure you go through the next section \n",
    "(\"Using existing visualization tools\")!"
   ]
  },
  {
   "cell_type": "markdown",
   "metadata": {},
   "source": [
    "## Interactive figures and callback functions\n",
    "\n",
    "Figure windows in MATLAB have many properties \n",
    "(here is the complete [list](http://www.mathworks.com/help/matlab/ref/figure-properties.html)).\n",
    "A particularly useful one is the ''KeyPressFcn'' property,\n",
    "which specifies a function to be called when a key is pressed while the figure is active.\n",
    "\n",
    "For example, we can write a simple function that enables us to scroll \n",
    "left and right using the arrow keys, as follows:\n",
    "\n",
    "```matlab\n",
    "function figscroll(src,event)\n",
    "\n",
    "ax = get(src, 'CurrentAxes');\n",
    "x_orig = get(ax, 'XLim');\n",
    "x_step = (x_orig(1)-x_orig(2))/2;\n",
    "\n",
    "switch event.Key \n",
    "    case 'leftarrow'\n",
    "        x_new = x_orig + x_step;\n",
    "    case 'rightarrow'\n",
    "        x_new = x_orig - x_step;\n",
    "end\n",
    "\n",
    "set(ax,'XLim',x_new);\n",
    "```\n",
    "\n",
    "You should be able to interpret what this function is doing, \n",
    "with the only potentially mysterious part the identity of the input arguments ''src'' and ''event''. \n",
    "These input arguments are common to all of MATLAB's \n",
    "[callback functions](http://www.mathworks.com/help/matlab/creating_plots/callback-definition.html), \n",
    "i.e. functions that are called in response to some user action like a key press:\n",
    "\n",
    "- The ''src'' (\"source\") argument contains details about where the callback came from; \n",
    "in this case this will be a figure, and as a result we can use this argument \n",
    "to find the handle to the figure's current axes, and make changes.\n",
    "- The ''evt'' (\"event\") argument tells us about the event that triggered the callback. \n",
    "As you can see, we use it here to find out which key was pressed, and react accordingly.\n",
    "\n",
    "This ''figscroll'' function as shown above isn't going to do much by itself. We need to tie it to a figure."
   ]
  },
  {
   "cell_type": "markdown",
   "metadata": {},
   "source": [
    "** Create a rasterplot such as the one in the previous section. \n",
    "Then, set the ''KeyPressFcn'' property of the figure to this new function, like this:\n",
    "''set(gcf,'KeyPressFcn',@figscroll)'' (the ''@'' indicates what follows is a [function handle](http://www.mathworks.com/help/matlab/matlab_prog/creating-a-function-handle.html)). **"
   ]
  },
  {
   "cell_type": "markdown",
   "metadata": {},
   "source": [
    "Now you should be able to use the left and right arrow keys to scroll through the rasterplot. \n",
    "If nothing happens, make sure you saved the ''figscroll'' function in a place where MATLAB can find it \n",
    "(i.e. in the path, or MATLAB's current working directory).\n",
    "\n",
    "If you haven't encountered function handles before, \n",
    "here is another example of a function handle \n",
    "(to an [anonymous function](http://www.mathworks.com/help/matlab/matlab_prog/anonymous-functions.html), \n",
    "i.e. a function that doesn't have a ''.m'' file):\n",
    "\n",
    "```matlab\n",
    "sqr_fn = @(x) x.^2;\n",
    "sqr_fn(2)\n",
    "```\n",
    "\n",
    "The above example basically says \"sqr_fn is a function of x, and should return x squared.\" \n",
    "(if you don't understand the ''.'' notation, it is important to look this up!)"
   ]
  },
  {
   "cell_type": "markdown",
   "metadata": {},
   "source": [
    "## Exporting to movies\n",
    "\n",
    "As an alternative to scrolling manually through the data, we can use a loop:\n",
    "\n",
    "```matlab\n",
    "%% movie version\n",
    "t = [5900 6000]; % start and end times (experiment time)\n",
    "FPS = 30; % frame rate (per s)\n",
    "twin = [-1 1]; % width of time window (in s)\n",
    "\n",
    "tvec = t(1):1/FPS:t(2);\n",
    "for iT = 1:length(tvec)\n",
    "    \n",
    "   set(gca,'XLim',twin+tvec(iT));\n",
    "   drawnow; pause(1/FPS);\n",
    "    \n",
    "end\n",
    "```\n",
    "\n",
    "You may notice some annoying auto-scaling behavior for the MUA y-axis, \n",
    "you can fix this using the axis '''YLim''' property.\n",
    "\n",
    "By making this MATLAB animation into a movie file, \n",
    "it is often easier to explore the results. \n",
    "To do this, we can run the animation code above, with a few small modifications. \n",
    "First, before entering the main plotting loop, set the figure to be used to a specific size:\n",
    "\n",
    "```matlab\n",
    "h = figure; set(h,'Position',[100 100 640 480]);\n",
    "```\n",
    "\n",
    "This is important first, to keep the size of the resulting movie file manageable \n",
    "(the above sets a 640x480 pixel figure size), and second, because many movie encoders \n",
    "(such as the excellent and free [XVid](http://www.xvid.org/) will only work with certain sizes.\n",
    "\n",
    "Next, we need to store each frame into a variable that we can later write to file. \n",
    "Modify the last two lines inside the loop to:\n",
    "\n",
    "```matlab\n",
    "f(iT) = getframe(gcf); % store current frame\n",
    "drawnow;\n",
    "```\n",
    "\n",
    "If you now run the code again, each frame gets stored in the ''f'' variable as the loop runs. \n",
    "Then, we can write the result to a file:\n",
    "\n",
    "```matlab\n",
    "fname = 'test.avi';\n",
    "movie2avi(f,fname,'COMPRESSION','XVid','FPS',FPS);\n",
    "```\n",
    "\n",
    "The above will only work if you have the XVid codec installed: \n",
    "I highly recommend this because it creates movie files that \n",
    "are an order of magnitude smaller than uncompressed files. \n",
    "If you have trouble with XVid, you can of course still save an uncompressed file for now. \n",
    "For longer movies, it is often required to save a file, say, every 500 frames, \n",
    "to prevent the ''f'' variable getting too large. \n",
    "These segments can then be merged with a video editing program such as \n",
    "[VirtualDub](http://www.virtualdub.org/) \n",
    "(Windows only AFAIK; please suggest OSX/Linux alternatives if you know any that work well!).\n",
    "\n",
    "All the figure and axis properties we explored earlier can be used here, too \n",
    "-- so if you don't like the gray figure background, it's easily changed to e.g. black."
   ]
  },
  {
   "cell_type": "markdown",
   "metadata": {},
   "source": [
    "## GUIs\n",
    "\n",
    "An alternative to interactive keyboard input using Figure properties \n",
    "is to create a graphical user interface (GUI). \n",
    "MATLAB has a nice tool, ''guide'', which allows you to place various UI controls \n",
    "(such as buttons, text boxes, drop down menus, etc.) \n",
    "and display items (axes, text labels, etc.) using a graphical interface. \n",
    "The display items all have _handles_ (whose names you can set in the ''guide'' tool), \n",
    "and the UI controls all have _callback functions_\n",
    "so that you can have UI control actions change what is displayed.\n",
    "\n",
    "The GUIDE documentation has a nice \n",
    "[tutorial](http://www.mathworks.com/help/matlab/gui-building-basics.html), with this \n",
    "[example](http://www.mathworks.com/help/matlab/creating_guis/about-the-simple-guide-gui-example.html) \n",
    "as a good place to start."
   ]
  },
  {
   "cell_type": "markdown",
   "metadata": {},
   "source": [
    "## Sonification\n",
    "\n",
    "I'm a fan of silent movies such as [Metropolis](http://www.imdb.com/title/tt0017136/), \n",
    "but if you plan to use movies of your data in any talks, \n",
    "you might want to add some sound. \n",
    "One way I've done this is to use Ken Schutte's [matlab2midi](https://github.com/kts/matlab-midi)\n",
    "toolbox to convert ensemble spiking data into a MIDI file, \n",
    "and then to synthesize the MIDI file into sound using something like Ableton Live.\n",
    "\n",
    "To see how this works, first clone the matlab2midi repository and add the files to your MATLAB path.\n",
    "\n",
    "A simple example is given by Ken:\n",
    "\n",
    "```matlab\n",
    "% initialize matrix:\n",
    "N = 13;  % num notes\n",
    "M = zeros(N,6);\n",
    "\n",
    "M(:,1) = 1;         % all in track 1\n",
    "M(:,2) = 1;         % all in channel 1\n",
    "M(:,3) = (60:72)';      % note numbers: one octave starting at middle C (60)\n",
    "M(:,4) = round(linspace(80,120,N))';  % lets have volume ramp up 80->120\n",
    "M(:,5) = (.5:.5:6.5)';  % note on:  notes start every .5 seconds\n",
    "M(:,6) = M(:,5) + .5;   % note off: each note has duration .5 seconds\n",
    "\n",
    "midi_new = matrix2midi(M);\n",
    "writemidi(midi_new, 'testout.mid');\n",
    "```\n",
    "\n",
    "From reading the comments, you can get an idea of how the MIDI file specification works \n",
    "-- it describes a piece of music using a number of different variables, \n",
    "here corresponding to the different rows of the ''M'' matrix. \n",
    "For our purposes, the most important are the \"note on\" and \"note off\" rows (5 and 6) and the pitch row (3). \n",
    "In converting spikes to sound, the spike times will determine what we put in rows 5 and 6, \n",
    "and we use the pitch row to assign a unique sound to each different cell.\n",
    "\n",
    "So, we first need to create an array containing all spike times, \n",
    "with a corresponding array for each spike's cell number:\n",
    "\n",
    "```matlab\n",
    "t = [5900 6000]; % time window\n",
    "\n",
    "all_spikes = []; all_ids = [];\n",
    "for iC = 1:length(S_r.t)\n",
    "   all_spikes = cat(1,all_spikes,S_r.t{iC});\n",
    "   all_ids = cat(1,all_ids,repmat(iC,length(S_r.t{iC}),1)); % cell ID\n",
    "end\n",
    "[all_spikes,srt] = sort(all_spikes,'ascend');\n",
    "all_ids = all_ids(srt); clear srt;\n",
    "\n",
    "all_spikes = [all_spikes; t(end)]; % add spike at end time\n",
    "all_ids = [all_ids; 0];\n",
    "\n",
    "all_spikes = all_spikes - t(1); % start at time 0\n",
    "```\n",
    "\n",
    "Then, we can write the result:\n",
    "\n",
    "```matlab\n",
    "note_time = 0.05;\n",
    "base = 20; % base pitch\n",
    "\n",
    "nSpikes = length(all_spikes);\n",
    "M = zeros(nSpikes,6); % output matrix\n",
    "\n",
    "M(:,1) = 1; M(:,2) = 1; M(:,4) = 100;\n",
    "M(:,3) = base+1.5*all_ids;\n",
    "M(:,5) = all_spikes;\n",
    "M(:,6) = all_spikes + note_time;\n",
    "\n",
    "midi_new = matrix2midi(M);\n",
    "writemidi(midi_new, 'r042.mid');\n",
    "```\n",
    "\n",
    "If you can't get this to work, \n",
    "the resulting file can be made to sound like [this](:analysis:course-w16:r042.mp3) (with Ableton Live); \n",
    "Windows Media Player synthesizes it with a plain piano instrument, \n",
    "which sounds a bit different but is also effective at communicating the sudden, \n",
    "violently synchronous activity during SWRs!"
   ]
  },
  {
   "cell_type": "markdown",
   "metadata": {},
   "source": [
    "# Using existing visualization tools\n",
    "\n",
    "## MultiRaster\n",
    "\n",
    "[Youki Tanaka](https://github.com/youkitan) and \n",
    "[Alyssa Carey](https://github.com/aacarey) in my lab wrote a \n",
    "fully-featured plotting function called ''MultiRaster()''. \n",
    "As an example of what it can do, try this:\n",
    "\n",
    "```matlab\n",
    "%% load data\n",
    "S = LoadSpikes([]);\n",
    "please = []; please.fc = {'R042-2013-08-18-CSC03a.ncs'};\n",
    "csc = LoadCSC(please);\n",
    "\n",
    "LoadMetadata; % load some experiment metadata such as trial start and end times\n",
    "\n",
    "%\n",
    "cfg_plot = [];\n",
    "cfg_plot.lfp = csc;\n",
    "cfg_plot.spkColor = 'jet';\n",
    "cfg_plot.evt = metadata.taskvars.trial_iv_L; % \"left\" trials on the T-maze\n",
    "\n",
    "h = MultiRaster(cfg_plot,S);\n",
    "```\n",
    "\n",
    "You should get:\n",
    "\n",
    "<img src=\"03-multiraster.png\"> \n",
    "\n",
    "Now, press the 'h' key to bring up a window explaining the various keyboard shortcuts available. \n",
    "These work through the ''KeyPressFcn'' method introduced above; \n",
    "you can examine MultiRaster's ''KeyPressFcn'' by typing ''edit navigate'' (it's called ''navigate.m'').\n",
    "\n",
    "MultiRaster also uses a trick to speed up the plotting of spikes; \n",
    "it's many times faster than the method we used in this module so far, \n",
    "but it is more difficult to read the code --\n",
    "take a look if you are interested in finding out how it works!\n",
    "\n",
    "Notice the output argument ''h'', \n",
    "this is actually a struct with handles to the various plot objects. \n",
    "MultiRaster's help explains what they are.\n",
    "\n",
    "Plotting time series data, such as the LFP used here, \n",
    "results in large numbers of data points which slow down MATLAB. \n",
    "A good way of further speeding up plotting is to decimate (i.e. downsample) time series data. \n",
    "So here, instead of plotting the full 2kHz signal, \n",
    "plotting it at 500Hz would be just as good and result in significant speedup, \n",
    "especially when scrolling/zooming a lot."
   ]
  },
  {
   "cell_type": "markdown",
   "metadata": {},
   "source": [
    "### Diversion: handling variable numbers of function inputs\n",
    "\n",
    "A standard function definition specifies the exact number of input and output arguments the function expects:\n",
    "''function y = sqrt(x)'' has one input and one output argument. \n",
    "However, it is often useful to have a variable number of input arguments, \n",
    "so that you can override defaults or specify additional options as needed\n",
    "without complicating simple function calls. \n",
    "This section shows you two ways of doing that.\n",
    "\n",
    "#### Method 1: cfg input\n",
    "\n",
    "As you can see in the above example, and in MultiRaster's help, \n",
    "using a ''cfg'' struct as an input is one way to handle variable numbers of inputs to a function. \n",
    "Inside the function, you can do things like, \n",
    "\"if cfg has a field called lfp, then plot it\". \n",
    "It is also a good way to deal with defaults which may be optionally overwritten. \n",
    "For instance, MultiRaster by default plots all spikes in black, but this can be overridden, \n",
    "as we did in the above example. \n",
    "Here is how that works (taken from inside MultiRaster, do not run this):\n",
    "\n",
    "```matlab\n",
    "cfg_def.spkColor = 'k';\n",
    "\n",
    "cfg = ProcessConfig(cfg_def,cfg_in);\n",
    "```\n",
    "\n",
    "What happens is that inside MultiRaster, \n",
    "a default config struct (''cfg_def'') is defined. \n",
    "The function ''ProcessConfig()'' compares the default to the incoming config (''cfg_in''); \n",
    "if anything in ''cfg_in'' is different, then the default is overridden. \n",
    "That way, the function can be called simply without specifying each option, \n",
    "because it will just use the defaults. \n",
    "But, if you want, you can specify something else in the input config.\n",
    "\n",
    "#### Method 2: varargin\n",
    "\n",
    "An alternative approach is to use the special input argument ''varargin''. \n",
    "Here is the idea:\n",
    "\n",
    "```matlab\n",
    "function test_fun(a,varargin)\n",
    "\n",
    "b = 2; % set defaults for b and c\n",
    "c = 3;\n",
    "\n",
    "extract_varargin; % override b and c if specified\n",
    "\n",
    "fprintf('a is %d, b is %d, c is %d\\n',a,b,c);\n",
    "```\n",
    "\n",
    "Test it:\n",
    "\n",
    "```matlab\n",
    ">> test_fun(1)\n",
    "a is 1, b is 2, c is 3\n",
    ">> test_fun(1,'b',1)\n",
    "a is 1, b is 1, c is 3\n",
    ">> \n",
    "```\n",
    "\n",
    "Note how specifying a \"key-value\" pair ('''b',1'') overwrote the default for ''b''. \n",
    "''extract_varargin'' basically goes through the varargins and \n",
    "assigns each value to the corresponding key, similar to ''ProcessConfig()''."
   ]
  },
  {
   "cell_type": "markdown",
   "metadata": {},
   "source": [
    "** Verify your understanding by calling ''test_fun'' such that ''b'' and ''c'' are both set to ''0''. \n",
    "Also note what happens when you do ''test_fun(1,'B',1)''! **"
   ]
  },
  {
   "cell_type": "markdown",
   "metadata": {},
   "source": [
    "## PlotTSDFromIV\n",
    "\n",
    "''PlotTSDFromIV()'' is a simple, lightweight function designed to show time series data (TSD) \n",
    "for specific intervals (IV, hence the name). \n",
    "It has two different display modes, the first one ('''iv''') looks like this:\n",
    "\n",
    "```matlab\n",
    "cfg = [];\n",
    "cfg.display = 'iv';\n",
    "cfg.width = 0.1;\n",
    "PlotTSDfromIV(cfg,metadata.SWRtimes,csc); % need to LoadMetadata to make this work!\n",
    "```\n",
    "\n",
    "<img src=\"03-plottsd-from-iv.png\">\n",
    "\n",
    "(The intervals highlighted in red are manually selected, putative SWR events.)"
   ]
  },
  {
   "cell_type": "markdown",
   "metadata": {},
   "source": [
    "** Try the other display mode, '''tsd'''. **"
   ]
  },
  {
   "cell_type": "markdown",
   "metadata": {},
   "source": [
    "## FieldTrip's databrowser\n",
    "\n",
    "As implied by the name, ''MultiRaster()'' is primarily intended for plotting spike data, \n",
    "although it can accept multiple tsd's for plotting as well. \n",
    "\n",
    "The FieldTrip toolbox, which will be covered in more detail in later modules, \n",
    "has a number of data visualization tools that are better suited for plotting time series data \n",
    "such as LFPs, EEG/MEG and single-trial fMRI data. \n",
    "\n",
    "To get our current data into the FieldTrip format, we first have to do a few steps:\n",
    "\n",
    "```matlab\n",
    "% convert to ft format\n",
    "cfg = []; cfg.mode = 'resample';\n",
    "csc_ft = TSDtoFT(cfg,csc);\n",
    "t0 = csc_ft.time{1}(1); csc_ft.time{1} = csc_ft.time{1}-t0;\n",
    "\n",
    "% create ft trials from iv\n",
    "trl_cfg = [];\n",
    "trl_cfg.t = IVcenters(metadata.SWRtimes)-t0;\n",
    "trl_cfg.mode = 'neuralynx';\n",
    "trl_cfg.hdr = csc_ft.hdr;\n",
    "trl_cfg.twin = [-1 1];\n",
    "\n",
    "trl = ft_maketrl(trl_cfg);\n",
    "\n",
    "% use trials to create trialified data structure\n",
    "temp_cfg = []; temp_cfg.trl = trl;\n",
    "\n",
    "ft_in = ft_redefinetrial(temp_cfg,csc_ft);\n",
    "``` \n",
    "\n",
    "Now we can run the data browser by typing ''ft_databrowser([],ft_in);'', to get\n",
    "\n",
    "<img src=\"03-fieldtrip-databrowser.png\">\n",
    "\n",
    "Notice the various control buttons for moving between trials, \n",
    "channels (here we have only one loaded), and other functions, documented [here](http://www.fieldtriptoolbox.org/faq/how_can_i_use_the_databrowser). \n",
    "FieldTrip is able to load many types of data files, \n",
    "see [here](http://www.fieldtriptoolbox.org/reading_data)\n",
    "for the list and how to use its data loaders."
   ]
  },
  {
   "cell_type": "markdown",
   "metadata": {},
   "source": [
    "# Challenges\n",
    "\n",
    "- Modify ''MultiRaster()'', or write your own, to create a data visualization function useful for your data.\n",
    "\n",
    "- Create a movie, with sound, of an aspect of your own data that you can see being useful \n",
    "in a talk you might give on your work. \n",
    "For inspiration, here is an\n",
    "[example](https://www.youtube.com/watch?v=lfNVv0A8QvI) \n",
    "using hippocampal place cells from Matt Wilson's lab, and here is \n",
    "[something](https://www.youtube.com/watch?v=E7BNuA_qCdE) \n",
    "using EEG data."
   ]
  }
 ],
 "metadata": {
  "anaconda-cloud": {},
  "kernelspec": {
   "display_name": "Python [conda env:py3]",
   "language": "python",
   "name": "conda-env-py3-py"
  },
  "language_info": {
   "codemirror_mode": {
    "name": "ipython",
    "version": 3
   },
   "file_extension": ".py",
   "mimetype": "text/x-python",
   "name": "python",
   "nbconvert_exporter": "python",
   "pygments_lexer": "ipython3",
   "version": "3.5.2"
  },
  "toc": {
   "colors": {
    "hover_highlight": "#DAA520",
    "running_highlight": "#FF0000",
    "selected_highlight": "#FFD700"
   },
   "moveMenuLeft": true,
   "nav_menu": {
    "height": "443px",
    "width": "252px"
   },
   "navigate_menu": true,
   "number_sections": true,
   "sideBar": true,
   "threshold": 4,
   "toc_cell": false,
   "toc_section_display": "block",
   "toc_window_display": true
  }
 },
 "nbformat": 4,
 "nbformat_minor": 1
}
