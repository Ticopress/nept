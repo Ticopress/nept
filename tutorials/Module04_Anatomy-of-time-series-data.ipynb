{
 "cells": [
  {
   "cell_type": "markdown",
   "metadata": {},
   "source": [
    "# Module 04 - Anatomy of time series data, sampling theory"
   ]
  },
  {
   "cell_type": "markdown",
   "metadata": {},
   "source": [
    "# Goals\n",
    "\n",
    "- Understand the fundamentals of sampling theory: Nyquist frequency, aliasing\n",
    "- Learn why and how to use anti-aliasing filters\n",
    "- Reconstruct a signal from sampled data\n",
    "- Examine the file structure of Neuralynx continuously sampled data in detail"
   ]
  },
  {
   "cell_type": "markdown",
   "metadata": {},
   "source": [
    "# Resources\n",
    "\n",
    "- (intuitive background) [nice, quick intro](http://redwood.berkeley.edu/bruno/npb261/aliasing.pdf) to aliasing by Bruno Olshausen, \n",
    "with some connections to the human visual system\n",
    "- (more technical background, optional) read Chapter 3 of the [Leis book](analysis:course-w16). \n",
    "Skip sections 3.4.3, 3.4.4, 3.4.5, 3.4.6, 3.4.7, 3.7. Skim section 3.6."
   ]
  },
  {
   "cell_type": "markdown",
   "metadata": {},
   "source": [
    "# Introductory remarks\n",
    "\n",
    "Systems for the acquisition of neural data give us a necessarily imperfect view of the brain. \n",
    "Some of these limitations are obvious, \n",
    "such as a finite number of recording sites and contamination of the data \n",
    "with movement artifacts and system noise. \n",
    "Other limitations are perhaps more subtle, \n",
    "and include the pitfalls associated with limited (temporal) sampling of the underlying process \n",
    "and the properties of specific recording systems.\n",
    "\n",
    "An important phrase to remember in any data analysis workflow is \n",
    "[\"garbage in, garbage out.\"](analysis:nsb2015:week0)\n",
    "Making sure that your input is not garbage starts with a thorough understanding of the recorded signal \n",
    "and how it is stored. \n",
    "(Of course, if you abuse it enough, even the best data can rapidly turn to garbage. \n",
    "But that is beyond the scope of this module, which deals with the raw data.)"
   ]
  },
  {
   "cell_type": "markdown",
   "metadata": {},
   "source": [
    "# Motivating example: aliasing\n",
    "\n",
    "Before you begin, do a ``git pull`` from the course repository. \n",
    "Also, to reproduce the figures shown here, change the default font size \n",
    "(''set(0,'DefaultAxesFontSize',18)'' -- a good place to put this is in your path shortcut).\n",
    "\n",
    "Let's start with an example that illustrates what can go wrong \n",
    "if you are not aware of some basic sampling theory ideas. \n",
    "To do so, we will first construct a 10Hz signal, sampled at 1000Hz. \n",
    "Recalling that the frequency _f_ of a sine wave is given by $y = sin(2 \\pi f t)$:\n",
    "\n",
    "```matlab\n",
    "Fs1 = 1000; % Fs is the conventional variable name for sampling freq\n",
    "F1 = 10; twin = [0 1]; % use a 1-second time window (from 0 to 1s)\n",
    "\n",
    "tvec1 = twin(1):1/Fs1:twin(2); % timebase for signal\n",
    "signal1 = sin(2*pi*F1*tvec1);\n",
    "```\n",
    "\n",
    "Notice the general approach in defining time series data: \n",
    "we first construct a timebase (conventionally named ''tvec'', or ''t'') \n",
    "and then the signal."
   ]
  },
  {
   "cell_type": "markdown",
   "metadata": {},
   "source": [
    "** Plot the ''signal1'' variable and verify that the result matches your expectation: for instance, it should have a specific number of peaks. **"
   ]
  },
  {
   "cell_type": "markdown",
   "metadata": {},
   "source": [
    "Let's say we are going to sample this signal at **12Hz**:\n",
    "\n",
    "```matlab>\n",
    "Fs2 = 12;\n",
    "tvec2 = twin(1):1/Fs2:twin(2);\n",
    "signal2 = interp1(tvec1,signal1,tvec2,'nearest');\n",
    "```\n",
    "\n",
    "Note the use of the ''interp1()'' function. \n",
    "This is a very important and frequently used command with some interesting options we'll explore later. \n",
    "For now, we are telling it something like,\n",
    "\"we have an input signal, specified by ''tvec1'' and ''signal1''; \n",
    "return those values of ''signal1'' for those values of ''tvec1'' closest to those in ''tvec2''. \n",
    "An intuition for that is illustrated in the figure below -- \n",
    "basically you want to get a value for some time (the red dot) \n",
    "that isn't explicitly present in your signal (the blue stems):\n",
    "\n",
    "<img src=\"04-interp-data.png\">\n",
    "\n",
    "Now that we know how the ''signal2'' variable \n",
    "-- the signal we are seeing by sampling at 12 Hz --\n",
    "is obtained, we can plot it:\n",
    "\n",
    "```matlab\n",
    "plot(tvec1,signal1);\n",
    "hold on;\n",
    "plot(tvec2,signal2,'.g','MarkerSize',20);\n",
    "plot(tvec1,-sin(2*pi*2*tvec1),'r--','LineWidth',2);\n",
    "xlabel('time (s)'); ylabel('y');\n",
    "```\n",
    "\n",
    "You should see:\n",
    "\n",
    "<img src=\"04-interp-plot.png\">\n",
    "\n",
    "The individual data points we obtain with our 12Hz sampling are shown in green. \n",
    "Notice that it describes a periodic signal (red dashed line) \n",
    "with a frequency **nothing like** the 10Hz in the original signal (blue sine wave)!\n",
    "We might be tempted to conclude that we are seeing a 2Hz signal, \n",
    "when in fact there is no such thing in the original data. \n",
    "This effect is known as **aliasing** \n",
    "(i.e. the existence of multiple underlying signals which could produce a given set of samples), \n",
    "and it can happen when certain conditions are met, \n",
    "which we will explore next."
   ]
  },
  {
   "cell_type": "markdown",
   "metadata": {},
   "source": [
    "# The Nyquist limit\n",
    "\n",
    "The **Nyquist sampling theorem** \n",
    "states that the minimum sampling frequency required to avoid aliasing is \n",
    "**twice** the frequency of the signal, i.e.\n",
    "\n",
    "$$ F_s \\geq 2*F_{orig} $$\n",
    "\n",
    "This **Nyquist criterion** is intuitive, \n",
    "when you plot the signal that can be obtained by sampling our original signal at 20Hz, \n",
    "i.e. twice the frequency:\n",
    "\n",
    "<img src=\"04-nyquist.png\">\n",
    "\n",
    "Note that we obtain a signal which is periodic (repeating) at 10Hz, \n",
    "as we know to be correct.\n",
    "\n",
    "An important consequence of the Nyquist criterion is that\n",
    "\n",
    "$$ F_{orig} \\leq F_s / 2 $$\n",
    "\n",
    "In other words, \n",
    "the highest-frequency signal that can be recovered when sampling is _half_ the sampling frequency. \n",
    "This frequency is sometimes referred to as the **Nyquist frequency** or **Nyquist limit** \n",
    "(the precise terminology gets a bit confused, \n",
    "but in neuroscience they are interpreted as referring to the same thing). \n",
    "So, for instance, digital audio on CDs and most digital file formats is typically represented with \n",
    "Fs = 44100 Hz, which means that the highest frequency that theoretically can be reproduced is 22050 Hz,\n",
    "corresponding approximately to the upper limit of human hearing.\n",
    "\n",
    "However, it is best not to cut things too fine: \n",
    "say you are interested in detecting a \"gamma\" frequency of 75Hz with your EEG recording system. \n",
    "If you acquire data at Fs = 150 Hz, you might run into problems."
   ]
  },
  {
   "cell_type": "markdown",
   "metadata": {},
   "source": [
    "** To see this, change ''Fs2'' in the code above to 20, and plot the result. What do you see? **"
   ]
  },
  {
   "cell_type": "markdown",
   "metadata": {},
   "source": [
    "Thus, a (very safe) rule of thumb is to acquire data \n",
    "at a sampling frequency four times the minimum signal frequency you are interested in detecting."
   ]
  },
  {
   "cell_type": "markdown",
   "metadata": {},
   "source": [
    "# Subsampling (decimating) time series data\n",
    "\n",
    "In the real world, the frequency at which we can acquire data \n",
    "will be limited by the properties of your experimental equipment. \n",
    "For instance, the maximum sampling rate on a typical Neuralynx system is 32 kHz. \n",
    "Thus, the highest-frequency signal we can detect is 16 kHz (the Nyquist frequency). \n",
    "Crucially, however, we cannot rule out the possibility that frequencies above 16 kHz are present \n",
    "in the signal we are sampling from! \n",
    "Thus, we risk **aliasing**: \n",
    "generating \"phantom\" frequencies in our sampled data that don't exist in the true signal. \n",
    "What to do?\n",
    "\n",
    "The general solution is to apply an _anti-aliasing filter_ to the data before sampling. \n",
    "To illustrate this, let's generate a signal consisting of two frequencies:\n",
    "\n",
    "```matlab\n",
    "Fs1 = 1200;\n",
    "F1 = 3; F2 = 10;\n",
    "twin = [0 1];\n",
    "\n",
    "tvec1 = twin(1):1/Fs1:twin(2);\n",
    "signal1a = sin(2*pi*F1*tvec1); signal1b = 0.5*sin(2*pi*F2*tvec1);\n",
    "signal1 = signal1a + signal1b;\n",
    "```\n",
    "\n",
    "Now, if we sample this signal at 12 Hz, \n",
    "by taking every 100th sample (note ''Fs'' is set to 1200), \n",
    "we will get aliasing due to the fact that our sampling frequency is \n",
    "less than twice that of the highest frequency in the signal (10 Hz):\n",
    "\n",
    "```matlab\n",
    "dt = 100;\n",
    "tvec2 = tvec1(1:dt:end);\n",
    "signal2 = signal1(1:dt:end); % sample at 12 Hz - every 100th sample\n",
    "\n",
    "subplot(131)\n",
    "plot(tvec1,signal1);\n",
    "hold on;\n",
    "stem(tvec2,signal2,'.g','MarkerSize',20);\n",
    "title('without anti-aliasing filter');\n",
    "```\n",
    "\n",
    "As you can see in the resulting plot, the sampled data (green dots) isn't a clean 3Hz sine wave as we would hope to get -- it is contaminated by an alias of the 10Hz component in the underlying signal. Thus, our naive sampling method of taking every 100th sample is dangerous! Here is how to do it properly:\n",
    "\n",
    "```matlab\n",
    "% sample at 12 Hz with different method\n",
    "tvec1d = decimate(tvec1, dt);\n",
    "signal2d = decimate(signal1,dt);\n",
    "\n",
    "subplot(132)\n",
    "plot(tvec1,signal1a,'b--');\n",
    "hold on;\n",
    "stem(tvec1d,signal2d,'.g','MarkerSize',20);\n",
    "xlabel('time (s)'); ylabel('y');\n",
    "title('with anti-aliasing filter');\n",
    "\n",
    "subplot(133)\n",
    "plot(tvec2,signal2-signal2d,'r','LineWidth',2);\n",
    "title('difference');\n",
    "```\n",
    "\n",
    "You should get:\n",
    "\n",
    "<img src=\"04-anti-aliasing.png\">\n",
    "\n",
    "Note that after using ''decimate()'' instead of directly taking each 100th sample, \n",
    "we recover a relatively clean 3Hz sine (except for some edge effects; more on that in later modules). \n",
    "You can see the difference between the two sampling methods are substantial!\n",
    "\n",
    "The way ''decimate()'' works is that it first applies a filter to the data, \n",
    "removing any frequencies that could cause aliases \n",
    "(i.e. anything with a frequency of at least half the new sampling frequency). \n",
    "We will explore filters in more detail in Module 6.\n",
    "\n",
    "Data acquisition systems use the same principle. \n",
    "If you look in the settings of your system, \n",
    "you should be able to find the details of the filter applied to the data by default. \n",
    "It should have an upper cut-off frequency set to prevent aliasing. \n",
    "For instance, for some Neuralynx systems, all data above 9000 Hz is filtered out."
   ]
  },
  {
   "cell_type": "markdown",
   "metadata": {},
   "source": [
    "** Suppose you acquired some nice neural data at 2 kHz, \n",
    "and now you decide to analyze frequencies in the 50-100 Hz range. \n",
    "To speed up your analysis and save space, you want to downsample your data to 500 Hz: \n",
    "a good choice, more than adequately above the Nyquist frequency.\n",
    "What MATLAB command would you use to downsample this data, and why? ** \n",
    "\n",
    "_Hint: what is wrong with the ''downsample()'' function you may be tempted to use?_"
   ]
  },
  {
   "cell_type": "markdown",
   "metadata": {},
   "source": [
    "# Reconstructing a signal from sampled data (optional)\n",
    "\n",
    "You may have noticed that the sampled signals above often look a bit choppy, \n",
    "losing the smoothness of the originals. \n",
    "As discussed in the Leis book, \n",
    "we can try to recover the original using interpolation. \n",
    "Let's illustrate this by first constructing a 100 Hz signal, sampled at 2 kHz:\n",
    "\n",
    "```matlab\n",
    "fs1 = 2000;\n",
    "tvec = 0:1/fs1:4; % construct time axis, sampled at 2kHz\n",
    " \n",
    "freq1 = 100;\n",
    "y = sin(2*pi*freq1*tvec); % 100Hz signal\n",
    " \n",
    "ax1 = subplot(211);\n",
    "stem(tvec,y); title('original');\n",
    "```\n",
    "\n",
    "Say we wish to subsample down to 500Hz to save space. \n",
    "Naively, we might simply take every 4th sample \n",
    "(in fact, this is what the MATLAB function downsample() does):\n",
    "\n",
    "```matlab\n",
    "subsample_factor = 4;\n",
    " \n",
    "tvec2 = tvec(1:subsample_factor:end); % take every 4th sample\n",
    "y2 = y(1:subsample_factor:end);\n",
    " \n",
    "ax2 = subplot(212);\n",
    "stem(tvec2,y2,'r'); title('subsampled');\n",
    "xlabel('time (s)');\n",
    "```"
   ]
  },
  {
   "cell_type": "markdown",
   "metadata": {},
   "source": [
    "** Why is it okay to subsample this way in this case? **"
   ]
  },
  {
   "cell_type": "markdown",
   "metadata": {},
   "source": [
    "It's hard to see what is going on when we are so zoomed out. Let's use the axes handles introduced last week to rectify this:\n",
    "\n",
    "```matlab\n",
    "xl = [1 1.04];\n",
    "linkaxes([ax1, ax2], 'x');\n",
    "set(ax1,'XLim',xl); % see what I did there?)\n",
    "```\n",
    "\n",
    "That's better. \n",
    "Notice that in the subsampled plot, \n",
    "you can detect the presence of the 100Hz signal by noticing that each sample repeats \n",
    "(has the same value) every 10ms. \n",
    "However, it doesn't look much like the original \n",
    "– as discussed in the Leis book, we can attempt to reconstruct it:\n",
    "\n",
    "```matlab\n",
    "hold on;\n",
    " \n",
    "y_interp = interp1(tvec2,y2,tvec,'linear');\n",
    "p1 = plot(tvec,y_interp,'b');\n",
    " \n",
    "y_interp2 = interp1(tvec2,y2,tvec,'spline');\n",
    "p2 = plot(tvec,y_interp2,'g');\n",
    " \n",
    "legend([p1 p2],{'linear','spline'},'Location','Northeast'); legend boxoff\n",
    "```\n",
    "\n",
    "You should obtain something like:\n",
    "\n",
    "<img src=\"04-spline_recover.png\">\n",
    "\n",
    "Notice how the spline-interpolated sampled signal is a pretty good approximation to the original. \n",
    "In cases where you care about detecting the values and/or locations of signal peaks, \n",
    "such as during spike sorting, \n",
    "performing spline interpolation can often improve accuracy substantially!"
   ]
  },
  {
   "cell_type": "markdown",
   "metadata": {},
   "source": [
    "# Detailed examination of Neuralynx time series data\n",
    "\n",
    "This section will look in some detail at how raw time series data is stored by the Neuralynx system. \n",
    "Even if you do not use this system in your own work, \n",
    "the lessons that can be learned from looking at what can go wrong at the raw data level already are universal!\n",
    "\n",
    "To get into the guts of actual Neuralynx data, \n",
    "we will not use the sanitized wrapper provided by ''LoadCSC()''\n",
    "but instead use the loading function provided by Neuralynx. \n",
    "Using cell mode in a sandbox file as usual, ''cd'' into the ''R016-2012-10-08'' data folder \n",
    "you downloaded previously in Week 1. \n",
    "Then deploy the Neuralynx loader:\n",
    "\n",
    "```matlab\n",
    "%%\n",
    "% cd to your location here\n",
    "fname = 'R016-2012-10-08-CSC03b.ncs';\n",
    "[Timestamps, ~, SampleFrequencies, NumberOfValidSamples, Samples, Header] = Nlx2MatCSC(fname, [1 1 1 1 1], 1, 1, []);\n",
    "```\n",
    "\n",
    "Note the use of the ''~'' output argument, \n",
    "which indicates that we do not wish to assign the second output \n",
    "of the ''Nlx2MatCSC'' function to a variable.\n",
    "\n",
    "Most data files come with a \"header\" that describes some properties of the data. \n",
    "Let's look at the header of our file, \n",
    "which is a LFP recorded from the ventral striatum (nucleus accumbens core) \n",
    "of a rat running back and forth along a linear track:\n",
    "\n",
    "```matlab\n",
    ">> Header\n",
    "\n",
    "Header = \n",
    "\n",
    "    '######## Neuralynx Data File Header'\n",
    "    '## File Name C:\\CheetahData\\2012-10-08_11-24-30\\CSC10.ncs'\n",
    "    '## Time Opened (m/d/y): 10/8/2012  (h:m:s.ms) 11:25:2.79'\n",
    "    '## Time Closed (m/d/y): 10/8/2012  (h:m:s.ms) 12:32:9.61'\n",
    "    '-CheetahRev 5.5.1 '\n",
    "    ''\n",
    "    '-AcqEntName CSC10'\n",
    "    '-FileType CSC'\n",
    "    '-RecordSize 1044'\n",
    "    ''\n",
    "    '-HardwareSubSystemName AcqSystem1'\n",
    "    '-HardwareSubSystemType DigitalLynxSX'\n",
    "    '-SamplingFrequency 2000'\n",
    "    '-ADMaxValue 32767'\n",
    "    '-ADBitVolts 4.57778e-008 '\n",
    "    ''\n",
    "    '-NumADChannels 1'\n",
    "    '-ADChannel 4 '\n",
    "    '-InputRange 1500 '\n",
    "    '-InputInverted True'\n",
    "    '-DSPLowCutFilterEnabled True'\n",
    "    '-DspLowCutFrequency 1'\n",
    "    '-DspLowCutNumTaps 0'\n",
    "    '-DspLowCutFilterType DCO'\n",
    "    '-DSPHighCutFilterEnabled True'\n",
    "    '-DspHighCutFrequency 425'\n",
    "    '-DspHighCutNumTaps 128'\n",
    "    '-DspHighCutFilterType FIR'\n",
    "    '-DspDelayCompensation Disabled'\n",
    "    '-DspFilterDelay_µs 1984'\n",
    "\n",
    ">> \n",
    "```\n",
    "\n",
    "You should recognize at least a few of the phrases used: \n",
    "for instance, we see that the sampling frequency (often abbreviated as Fs) \n",
    "is given as 2000 (samples per second, or Hz). \n",
    "Important also is the ''InputRange'', given as 1500 (microvolts, uV), \n",
    "to indicate that the maximum value (''ADMaxValue'', or 32767) \n",
    "in the raw data corresponds to an actual signal magnitude of 1500uV. \n",
    "Ignore the other fields for now."
   ]
  },
  {
   "cell_type": "markdown",
   "metadata": {},
   "source": [
    "** The waveforms of extracellularly recorded action potentials (\"spikes\") \n",
    "typically contain frequency components in the 1000-5000Hz range. \n",
    "Do you expect to find spikes in this data file? Why not? **"
   ]
  },
  {
   "cell_type": "markdown",
   "metadata": {},
   "source": [
    "The ''ADMaxValue'' of 32767 reflects the fact that Neuralynx stores data as 16-bit integers\n",
    "(see the discussion in the Leis chapter if this doesn't mean anything to you).\n",
    "Thus, the smallest value it can store is -32768, for a total range of 65536 (16 bits). \n",
    "This means that what is actually a continuous variable -- voltage -- is stored with finite precision."
   ]
  },
  {
   "cell_type": "markdown",
   "metadata": {},
   "source": [
    "** Given Neuralynx's 16-bit data format and the specified range of +/- 1500uV for this data session, \n",
    "compute the smallest voltage change (in uV) that can be resolved. **"
   ]
  },
  {
   "cell_type": "markdown",
   "metadata": {},
   "source": [
    "** Using this knowledge, convert the ''Samples'' variable, \n",
    "which is specified in AD values, to millivolts. \n",
    "(Note that the MATLAB data type is given as ''double'' but the values are actually ''int16''.)\n",
    "Notice that the ''ADBitVolts'' field in the header can be used for this unit conversion. **"
   ]
  },
  {
   "cell_type": "markdown",
   "metadata": {},
   "source": [
    "Inspect the ''Timestamps'' variable, which is given in microseconds (us). "
   ]
  },
  {
   "cell_type": "markdown",
   "metadata": {},
   "source": [
    "** Convert ''Timestamps'' to seconds (s). **"
   ]
  },
  {
   "cell_type": "markdown",
   "metadata": {},
   "source": [
    "You may have noticed that the ''Samples'' variable is size [512 x 10761] \n",
    "and ''Timestamps'' is [1 x 10761]. \n",
    "As it turns out, Neuralynx data (of the \"continuously sampled\" type) is stored in blocks of 512 samples. \n",
    "Only the first sample of each block is timestamped."
   ]
  },
  {
   "cell_type": "markdown",
   "metadata": {},
   "source": [
    "** Compute the total number of samples, and from this number and the sampling frequency, \n",
    "the total time that would be sampled continuously if all samples were acquired without any gaps. \n",
    "Compare this number with the actual time elapsed between the first and last ''Timestamps''.\n",
    "What do you conclude? **"
   ]
  },
  {
   "cell_type": "markdown",
   "metadata": {},
   "source": [
    "In fact, there are several gaps in the data. \n",
    "Our standard recording protocol requires a \"pre-recording\" session, \n",
    "followed by a pause, \n",
    "then the actual recording session, \n",
    "another pause, \n",
    "and a \"post-recording\" session. \n",
    "This can be seen easily by plotting the difference between each sample and its predecessor (''plot(diff(Timestamps))'').\n",
    "\n",
    "We wish to restrict the data to only those samples taken when the rat was running on the track. \n",
    "Promoted (i.e. preprocessed and annotated) data folders \n",
    "always have an \"ExpKeys\" file with some useful metadata, \n",
    "including ''TimeOnTrack'' and ''TimeOffTrack'' values:\n",
    "\n",
    "```matlab\n",
    ">> LoadExpKeys\n",
    ">> ExpKeys\n",
    "\n",
    "ExpKeys = \n",
    "\n",
    "     BehaviorOrder: {'Value'  'Risk'}\n",
    "          Protocol: 'Hyperdrive'\n",
    "            Target: {'Striatum'  'Hippocampus'}\n",
    "           Target2: {'Ventral'  'CA1'}\n",
    "    TetrodeTargets: [2 2 1 1 1 1]\n",
    "     TetrodeDepths: [2000 1960 6300 6380 6460 1920]\n",
    "       TimeOnTrack: [1030 2285]\n",
    "      TimeOffTrack: [2268 3194]\n",
    "             Delay: [0.5000 0.5000]\n",
    "         goodGamma: {'R016-2012-10-03-CSC04d.ncs'  [1x26 char]}\n",
    "           goodSWR: {'R016-2012-10-03-CSC02b.ncs'}\n",
    "         goodTheta: {'R016-2012-10-03-CSC02b.ncs'}\n",
    "        CueToneMap: {'S3'  'S2'  'S4'  'S1'  'S2'  'S5'}\n",
    "```\n",
    "\n",
    "In fact this data contains two recording sessions, \n",
    "called 'Value' and 'Risk' respectively \n",
    "(this refers to the distributions of food outcomes predicted by audio cues \n",
    "presented as the rat crossed the center of the track; \n",
    "we will not use this information for now, but the full task is described in the\n",
    "[paper](http://onlinelibrary.wiley.com/doi/10.1111/ejn.13069/fullpaper)). \n",
    "These sessions map onto the first and second elements of ''TimeOnTrack'' and ''TimeOffTrack'', \n",
    "which give the times (in seconds) of when the Value and Risk sessions started and ended, respectively."
   ]
  },
  {
   "cell_type": "markdown",
   "metadata": {},
   "source": [
    "** Use the first element of ''ExpKeys.TimeOnTrack'' and ''ExpKeys.TimeOffTrack'' \n",
    "to find the indices of ''Timestamps'' corresponding to the Value session. \n",
    "Then, use these to create a new set of variables ''TimestampsValue'', ''SamplesValue'' et cetera. \n",
    "(Note that this is essentially what ''restrict()'' does; \n",
    "If you are confused by this, review the documentation on \n",
    "[Matrix Indexing](http://www.mathworks.com/help/matlab/math/matrix-indexing.html).) ** "
   ]
  },
  {
   "cell_type": "markdown",
   "metadata": {},
   "source": [
    "** Plot the differences between the resulting timestamps \n",
    "(Hint: MATLAB's ''diff()'' function is useful here!). **\n",
    "\n",
    "You should see:\n",
    "\n",
    "<img src=\"04-diff.png\">\n",
    "\n",
    "The most common value between timestamps seems to be about 0.26 s. \n",
    "Recall that these timestamps are for the start of a block of 512 values."
   ]
  },
  {
   "cell_type": "markdown",
   "metadata": {},
   "source": [
    "** What is the expected difference between 512-sample timestamps if ''Fs'' is 2kHz? **"
   ]
  },
  {
   "cell_type": "markdown",
   "metadata": {},
   "source": [
    "Let's test if this indeed the most common value in these data:\n",
    "\n",
    "```matlab\n",
    ">> 512.*(1/2000) == mode(diff(TimestampsValue))\n",
    "\n",
    "ans =\n",
    "\n",
    "     0\n",
    "```\n",
    "\n",
    "Hmm. (You can ask MATLAB ''why'', but don't expect an informative answer!)"
   ]
  },
  {
   "cell_type": "markdown",
   "metadata": {},
   "source": [
    "** Use ''format long'' to change MATLAB's default display, \n",
    "and inspect the above values to determine the source of the difference. **"
   ]
  },
  {
   "cell_type": "markdown",
   "metadata": {},
   "source": [
    "Apparently the typical elapsed time between two 512-sample blocks \n",
    "does not correspond _exactly_ to what would be expected if Fs equals 2kHz."
   ]
  },
  {
   "cell_type": "markdown",
   "metadata": {},
   "source": [
    "** Compute Neuralynx's true sampling rate from the observed mode of the timestamp diffs. **"
   ]
  },
  {
   "cell_type": "markdown",
   "metadata": {},
   "source": [
    "Close enough for practical purposes, \n",
    "but the differences could become significant for very long recording sessions!\n",
    "\n",
    "Next: what is up with these clearly smaller values in the diff plot? \n",
    "Let's investigate:\n",
    "\n",
    "```matlab\n",
    "plot(diff(TimestampsValue))\n",
    "hold on;\n",
    "plot(NumberOfValidSamplesValue == 512,'r')\n",
    "```\n",
    "\n",
    "If you zoom in, you should find that the odd timestamp diffs \n",
    "occur for those sample blocks that have a number of valid samples that is not 512."
   ]
  },
  {
   "cell_type": "markdown",
   "metadata": {},
   "source": [
    "** Find the indices of these crippled blocks. \n",
    "Look at the ''Samples'' inside a few of these to see what Neuralynx does with invalid samples. **"
   ]
  },
  {
   "cell_type": "markdown",
   "metadata": {},
   "source": [
    "Tricky! How would we know to exclude these invalid samples? \n",
    "Fortunately, we can do so using the ''NumberOfValidSamples'' variable, \n",
    "which tells us how many are good and can be included."
   ]
  },
  {
   "cell_type": "markdown",
   "metadata": {},
   "source": [
    "** How does the ''LoadCSC()'' function handle these cases? **"
   ]
  },
  {
   "cell_type": "markdown",
   "metadata": {},
   "source": [
    "**NOTE**: the above missing sample weirdness was a rare occurrence for our lab's Neuralynx system; \n",
    "one that was traced to a faulty framegrabber board driver which caused the computer to lock up periodically. \n",
    "Thanks to Neuralynx's warning and error reporting system in the acquisition software, \n",
    "we were immediately alerted that something unexpected was happening. \n",
    "In addition, the ''*events.Nev'' file contains event strings indicating suspect data blocks."
   ]
  },
  {
   "cell_type": "markdown",
   "metadata": {},
   "source": [
    "# Challenges\n",
    "\n",
    "- If you have your own time series data, find out how it is stored: \n",
    "with what precision? \n",
    "In blocks? \n",
    "Does the reported sampling rate match up with what is in the data? \n",
    "How can you convert from the raw data format to voltage (or whatever the quantity you are measuring is)?\n",
    "\n",
    "- If you implemented your own file loader(s) back in Module 2, \n",
    "implement checks for missing samples and possible sampling frequency misalignments.\n",
    "\n",
    "- Important! \n",
    "If you have your own idea of something you'd like to accomplish in this course, \n",
    "even if is isn't listed as an official challenge, \n",
    "ask me and we can make it count as one. \n",
    "What you do in this course should be as relevant as possible to your work!"
   ]
  }
 ],
 "metadata": {
  "anaconda-cloud": {},
  "kernelspec": {
   "display_name": "Python [conda env:py3]",
   "language": "python",
   "name": "conda-env-py3-py"
  },
  "language_info": {
   "codemirror_mode": {
    "name": "ipython",
    "version": 3
   },
   "file_extension": ".py",
   "mimetype": "text/x-python",
   "name": "python",
   "nbconvert_exporter": "python",
   "pygments_lexer": "ipython3",
   "version": "3.5.2"
  },
  "toc": {
   "colors": {
    "hover_highlight": "#DAA520",
    "running_highlight": "#FF0000",
    "selected_highlight": "#FFD700"
   },
   "moveMenuLeft": true,
   "nav_menu": {
    "height": "209px",
    "width": "252px"
   },
   "navigate_menu": true,
   "number_sections": true,
   "sideBar": true,
   "threshold": 4,
   "toc_cell": false,
   "toc_section_display": "block",
   "toc_window_display": true
  }
 },
 "nbformat": 4,
 "nbformat_minor": 1
}
