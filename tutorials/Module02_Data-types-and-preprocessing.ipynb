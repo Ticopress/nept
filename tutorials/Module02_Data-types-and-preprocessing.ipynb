{
 "cells": [
  {
   "cell_type": "markdown",
   "metadata": {},
   "source": [
    "# Module 02 - Introduction to neural data types, file formats and preprocessing"
   ]
  },
  {
   "cell_type": "markdown",
   "metadata": {},
   "source": [
    "# Goals:\n",
    "\n",
    "- Consider the common structure in diverse (neural) data sets\n",
    "- Understand how such data can be intuitively and efficiently represented in three custom MATLAB data types (''ts'', ''tsd'', and ''iv'')\n",
    "- Learn where to find commonly used utility functions that perform basic operations on these data types\n",
    "- Obtain a basic overview of the different file formats saved by a Neuralynx system (as an example)\n",
    "- Become aware of the pre-processing steps typically applied to raw data\n",
    "- Get to know the different files in a pre-processed (\"promoted\") vandermeerlab data set, and their relationship to the raw data\n",
    "- Use the low-level and wrapped loading functions for all these files"
   ]
  },
  {
   "cell_type": "markdown",
   "metadata": {},
   "source": [
    "# Resources:\n",
    "\n",
    "- [Introduction to MATLAB structures (structs)](http://www.mathworks.com/help/matlab/structures.html); \n",
    "if you are new to MATLAB, you should make sure you work through the how to sections \n",
    "\"Create a Structure Array\" and \"Access Data in a Structure Array\".\n",
    "- Same thing for [cell arrays](http://www.mathworks.com/help/matlab/cell-arrays.html).\n",
    "- I mean it. \n",
    "Nothing that follows will make sense if you don't know about structs and cell arrays.\n",
    "- [Neuralynx data file formats specification (technical)](analysis:nsb2014:neuralynxdatafileformats.pdf)"
   ]
  },
  {
   "cell_type": "markdown",
   "metadata": {},
   "source": [
    "# Introductory remarks\n",
    "\n",
    "Careful analysis of neural data begins with a thorough understanding of the raw data \n",
    "that is saved by your data acquisition system(s). \n",
    "However, raw data is only rarely suitable for analysis beyond a few quick checks.\n",
    "At a minimum, freshly acquired data sets typically must be annotated, \n",
    "and/or the files systematically renamed \n",
    "-- for instance, with the ID of the experimental subject and some information about recording locations -- \n",
    "so that the analyst can select which files to analyze, \n",
    "and combine results across sessions and subjects. \n",
    "More complex pre-processing steps include spike sorting \n",
    "(the process of assigning spike waveforms to putative single neurons to obtain their spike times), \n",
    "artefact removal, and many others.\n",
    "\n",
    "Pre-processed data can be loaded into MATLAB, \n",
    "typically using code provided by the vendor, or perhaps by something created by the community. \n",
    "Either way, how you represent the data\n",
    "-- what **data types** you use -- \n",
    "has a major bearing on how effectively you can accomplish multiple analyses.\n",
    "Therefore, we will begin with a consideration of the general structure of neural data sets.\n",
    "\n",
    "A word of warning and encouragement: \n",
    "this module is probably the least exciting of the course, \n",
    "but it's important to get the fundamentals in place before we get to the exciting stuff!"
   ]
  },
  {
   "cell_type": "markdown",
   "metadata": {},
   "source": [
    "# Structure of (describing) neural data"
   ]
  },
  {
   "cell_type": "markdown",
   "metadata": {},
   "source": [
    "## Sampled signals\n",
    "\n",
    "In general, data acquisition systems work by _sampling_ \n",
    "(i.e. periodically taking a measurement of) some quantity of interest, \n",
    "such as the potential difference (voltage) between an electrode placed in a brain area of interest and a reference.\n",
    "That is, measurements of a signal are repeatedly taken, \n",
    "at some finite _sampling rate_, as the signal evolves over time.\n",
    "This kind of data is often referred to as _time series data_, and may look like this:\n",
    "\n",
    "<img src=\"02-time-series-data.png\"> \n",
    "\n",
    "Time is shown on the horizontal axis (\"abscissa\"), \n",
    "and the value of this particular quantity (on the vertical axis, \"ordinate\") is changing over time. \n",
    "At regular intervals \n",
    "-- the inverse of the sampling rate (1 / Fs), to be precise --\n",
    "we obtain a measurement, \n",
    "indicated by the black dots. \n",
    "We are blind to any changes in between the samples, \n",
    "illustrated by the unbroken line. \n",
    "Obviously, this illustration shows a single signal, \n",
    "but many systems will record multiple signals simultaneously, \n",
    "such as an EEG system that records voltages from 256 scalp electrodes, \n",
    "or a rodent electrophysiology system that in addition to neural data also records the position of the animal, \n",
    "a video camera records a signal in each of many pixels, and so on.\n",
    "\n",
    "The fact that we are dealing with sampled signals has some important consequences for data analysis, \n",
    "broadly captured by the term _sampling theory_, \n",
    "of which we will introduce a few in Module 05. \n",
    "The \"Nyquist limit\" and the \"Moiré effect\" (aliasing) are two well-known examples."
   ]
  },
  {
   "cell_type": "markdown",
   "metadata": {},
   "source": [
    "## Point processes (timestamps)\n",
    "\n",
    "Neuroscience attributes particular significance to action potentials, or \"spikes\", \n",
    "which are typically understood as all-or-none events that occur at a specific point in time \n",
    "(hence the technical term, _point process_). \n",
    "To describe a train of spikes, \n",
    "it is not necessary to state all the times at which there was no spike: \n",
    "it suffices to maintain a list of those times (sometimes called timestamps) \n",
    "at which a spike train was emitted.\n",
    "\n",
    "The same description works well for other quantities of interest which are essentially punctate _events_,\n",
    "such as delivery of a reward pellet, initiation of a key press, and so on."
   ]
  },
  {
   "cell_type": "markdown",
   "metadata": {},
   "source": [
    "## Intervals\n",
    "\n",
    "Although uncommon in raw neural data, \n",
    "time intervals (epochs with a certain duration, rather than a point in time)\n",
    "commonly arise in some aspect of experimental procedures and analyses. \n",
    "Intervals describe occurrences that have start and end times, \n",
    "such as a _trial_ of an experiment, \n",
    "the presence of a cue (e.g. a light or a tone), et cetera."
   ]
  },
  {
   "cell_type": "markdown",
   "metadata": {},
   "source": [
    "## Summary\n",
    "\n",
    "Together, these three types of data can describe most data sets encountered in neuroscience. \n",
    "Putting all three together in a simple visualization might look something like this:\n",
    "\n",
    "<img src=\"02-general-data-types.png\">\n",
    "\n",
    "At the top of the figure, you can see several rows containing point process data: \n",
    "the dots indicate spikes, one row per neuron. \n",
    "At the bottom, you see time series data (a local field potential), \n",
    "and the colored blocks show intervals with two different labels, indicated by the color."
   ]
  },
  {
   "cell_type": "markdown",
   "metadata": {},
   "source": [
    "** Now, think about one of your own experiments. \n",
    "How would you describe the data you collect? \n",
    "What quantities (signals) of interest are time series data, \n",
    "what are point processes, and what is best described as intervals? **"
   ]
  },
  {
   "cell_type": "markdown",
   "metadata": {},
   "source": [
    "# Introduction to vandermeerlab data types\n",
    "\n",
    "A _data type_ is the computer science term for a standardized format of representing data. \n",
    "Classical data types include things like \n",
    "[integers](http://en.wikipedia.org/wiki/Integer) and \n",
    "[floating-point](http://en.wikipedia.org/wiki/Floating_point) numbers, \n",
    "but our data types of interest are essentially all MATLAB \n",
    "[structs](http://www.mathworks.com/help/matlab/structures.html) \n",
    "with particular constraints on field names and formats.\n",
    "\n",
    "(Note for the connoisseurs: the choice to not implement these data types as MATLAB objects is deliberate.)\n",
    " \n",
    "The three main data types are \n",
    "(1) timestamped data (TSD), \n",
    "(2) timestamps (TS), \n",
    "(3) and intervals (IV), \n",
    "discussed in turn below. \n",
    "Standardizing how we represent these data makes it possible for commonly used functions to be used on any data set \n",
    "-- good for readability and robustness!"
   ]
  },
  {
   "cell_type": "markdown",
   "metadata": {},
   "source": [
    "## Timestamped data (TSD) data-type\n",
    "\n",
    "As introduced above, \n",
    "a sampled signal is essentially a list of data points (values), \n",
    "taken at specific times. \n",
    "Thus, what we need to fully describe such a signal is two arrays of the same length: \n",
    "one with the timestamps and the other with the corresponding values. \n",
    "This is exactly what the timestamped data (TSD) data type is, \n",
    "as illustrated by the ''LoadCSC()'' function:"
   ]
  },
  {
   "cell_type": "markdown",
   "metadata": {},
   "source": [
    "```matlab\n",
    "%% load data\n",
    "cd('D:\\Data\\R016\\R016-2012-10-08'); % same session as Module 1\n",
    " \n",
    "cfg = [];\n",
    "cfg.fc = {'R016-2012-10-08-CSC02d.ncs'}; % cell array with filenames to load\n",
    "csc = LoadCSC(cfg);\n",
    "\n",
    ">> csc\n",
    " \n",
    "csc = \n",
    " \n",
    "     type: 'tsd'\n",
    "     tvec: [5498360x1 double]\n",
    "     data: [1x5498360 double]\n",
    "    label: {'R016-2012-10-08-CSC02d.ncs'}\n",
    "      cfg: [1x1 struct]\n",
    "```"
   ]
  },
  {
   "cell_type": "markdown",
   "metadata": {},
   "source": [
    "The TSD data type has the following fields:\n",
    "\n",
    "- ''type'': string indicating data type, 'tsd'\n",
    "- ''tvec'': _nSamples x 1 double_, timestamps (in seconds)\n",
    "- ''data'': _nSignals x nSamples double_, values (units can be specified in cfg if needed)\n",
    "- ''label'': _nSignals x 1 cell array_, filenames\n",
    "- ''cfg'': content depends on specific data, but always has a ''history'' field. \n",
    "\n",
    "For CSC data, there is also ''hdr'', ''ExpKeys'', and ''SessionID''.\n",
    "\n",
    "Thus, the ''tvec'' field and the ''data'' field together define the sampled signal.\n",
    "\n",
    "In the above example, we only loaded one ''.ncs'' file \n",
    "(a single local field potential, recorded from a specific electrode in the brain) \n",
    "and therefore there is only one label, containing the filename. \n",
    "To plot this data you can simply do:"
   ]
  },
  {
   "cell_type": "markdown",
   "metadata": {},
   "source": [
    "```matlab\n",
    "plot(csc.tvec,csc.data);\n",
    "```"
   ]
  },
  {
   "cell_type": "markdown",
   "metadata": {},
   "source": [
    "** Consider the ''tvec'' field in the struct above. \n",
    "If the sampling rate for a given signal is constant, is this field strictly necessary? \n",
    "Can you think of a way to describe such an idealized signal more efficiently (i.e. by taking up less memory)? **"
   ]
  },
  {
   "cell_type": "markdown",
   "metadata": {},
   "source": [
    "** How does ''LoadCSC()'' represent multiple, simultaneously acquired, signals? \n",
    "A nice way to do so is to use a config field like ''cfg.fc = FindFiles('*CSC01*.ncs');''.**"
   ]
  },
  {
   "cell_type": "markdown",
   "metadata": {},
   "source": [
    "If at some point you want to construct a ''tsd'' variable yourself, \n",
    "you can do ''help tsd'' to see how. \n",
    "The ''tsd()'' function is a _constructor_ for variables of type ''tsd''. \n",
    "''LoadCSC()'' calls this function to create an empty ''tsd'' template, \n",
    "and then fills it with data loaded from ''.ncs'' files; \n",
    "you can check if the result meets the specification by calling ''CheckTSD()''.\n",
    "\n",
    "There are a number of functions that work with ''tsd'' data: \n",
    "some of these can be found in the \n",
    "[tsd folder](https://github.com/mvdm/neuraldata-w16/tree/master/shared/datatypes/tsd) \n",
    "in the GitHub repository. \n",
    "Two other important ones you will meet in this module are ''restrict()'' and ''getd()'' \n",
    "(which also work on other data types, below)."
   ]
  },
  {
   "cell_type": "markdown",
   "metadata": {},
   "source": [
    "## Timestamp (TS) data-type\n",
    "\n",
    "A different data type is needed to describe sets of punctate events (a //point process// in statistics), such as times of action potentials (spikes) or task events such as reward delivery times. For this we use the TS (timestamp) data type, defined as follows:\n",
    "\n",
    "- ''type'': string indicating data type: 'ts'\n",
    "- ''t'': _nSignals x 1 cell array_, timestamps (in seconds)\n",
    "- ''label'': _nSignals x 1 cell array_, labels\n",
    "- ''usr'': _nSignals x nUsr double_, optional additional data corresponding to intervals\n",
    "- ''cfg'': content depends on specific data, but always has a ''history'' field.\n",
    "\n",
    "An example is provided by the function ''LoadEvents()'', which loads the timestamps of events used in this particular experiment (such as the delivery of reward pellets):"
   ]
  },
  {
   "cell_type": "markdown",
   "metadata": {},
   "source": [
    "```matlab\n",
    "%% remember to use Cell Mode in the editor to run this code! \n",
    "cfg = [];\n",
    "evt = LoadEvents(cfg);\n",
    "\n",
    ">> evt\n",
    "\n",
    "evt = \n",
    "\n",
    "     type: 'ts'\n",
    "        t: {1x109 cell}\n",
    "    label: {1x109 cell}\n",
    "      cfg: [1x1 struct]\n",
    "```"
   ]
  },
  {
   "cell_type": "markdown",
   "metadata": {},
   "source": [
    "Note how several of the fields of the resulting ''evt'' struct are \n",
    "[cell arrays](http://www.mathworks.com/help/matlab/cell-arrays.html|cell arrays).\n",
    "\n",
    "Because we provided ''LoadEvents()'' with an empty config input, \n",
    "it by default loads the times of all events it can find. \n",
    "As you can see by the size of the cell arrays, \n",
    "there are 109 labels here. \n",
    "Let's look at some of them:"
   ]
  },
  {
   "cell_type": "markdown",
   "metadata": {},
   "source": [
    "```matlab\n",
    ">> evt.label(1:3) % display first three labels\n",
    "\n",
    "ans = \n",
    "\n",
    "    '1 or 5 pellet cue'    '1 pellet cue'    '1 pellet dispensed'\n",
    "```"
   ]
  },
  {
   "cell_type": "markdown",
   "metadata": {},
   "source": [
    "Taking the second label as an example, it describes an experimental event: the onset of a cue (tone in this case). \n",
    "The corresponding timestamps (in seconds) can be found in the second ''.t'' field:"
   ]
  },
  {
   "cell_type": "markdown",
   "metadata": {},
   "source": [
    "```matlab\n",
    ">> evt.t{2}\n",
    "\n",
    "ans =\n",
    "\n",
    "   1.0e+03 *\n",
    "\n",
    "  Columns 1 through 8\n",
    "\n",
    "    1.1475    1.1533    1.1706    1.1798    1.2190    1.2255    1.2380    1.2435\n",
    "\n",
    "(...)\n",
    "```"
   ]
  },
  {
   "cell_type": "markdown",
   "metadata": {},
   "source": [
    "These timestamps completely describe a point process (timestamp data)."
   ]
  },
  {
   "cell_type": "markdown",
   "metadata": {},
   "source": [
    "** Why do you think the event times (in the ''.t'' field) are stored in a cell array, rather than in a matrix?**"
   ]
  },
  {
   "cell_type": "markdown",
   "metadata": {},
   "source": [
    "A way to address timestamps by label is provided by the ''getd()'' function:\n",
    "\n",
    "```matlab\n",
    "plot(getd(evt,'1 pellet cue'),0,'.k') % retrieve times associated with 1 pellet cue and plot each time against zero\n",
    "```"
   ]
  },
  {
   "cell_type": "markdown",
   "metadata": {},
   "source": [
    "**''getd()'' also works for ''tsd'' data. Try plotting a specific channel this way.**"
   ]
  },
  {
   "cell_type": "markdown",
   "metadata": {},
   "source": [
    "A different function that loads data into a ''ts'' data type is ''LoadSpikes()''. \n",
    "Try it:\n",
    "\n",
    "```matlab\n",
    "S = LoadSpikes([])\n",
    "```"
   ]
  },
  {
   "cell_type": "markdown",
   "metadata": {},
   "source": [
    "Notice how instead of creating an empty config variable and passing it as an input, \n",
    "I now just passed an empty array ''[]'' as an input directly. \n",
    "This instructs ''LoadSpikes()'' to load all spike files it can find. \n",
    "As you can see from the labels, two different files were loaded: \n",
    "as will be explained below. \n",
    "''*.t'' indicates a file containing spike times from one neuron."
   ]
  },
  {
   "cell_type": "markdown",
   "metadata": {},
   "source": [
    "** How many spikes did the second neuron emit in this session? **"
   ]
  },
  {
   "cell_type": "markdown",
   "metadata": {},
   "source": [
    "As with ''tsd'' data above, \n",
    "you can call the ts constructor ''ts()'' to start with a template that you can then fill with data \n",
    "if you want to build your own. \n",
    "The [ts folder](https://github.com/mvdm/neuraldata-w16/tree/master/shared/datatypes/ts) \n",
    "on GitHub contains some other utility functions that work with timestamp data."
   ]
  },
  {
   "cell_type": "markdown",
   "metadata": {},
   "source": [
    "## Interval (IV) data-type\n",
    "\n",
    "Interval data -- matched sets of start and end times -- is typically not loaded directly from data files. However, it commonly comes up during analysis, for instance when defining trials, running vs. resting epochs, sharp wave-ripple complexes, et cetera.\n",
    "\n",
    "Interval data is defined as follows:\n",
    "\n",
    "- ''type'': _string_ to indicate data type, 'iv'\n",
    "- ''tstart'': _nIntervals x 1 double_, interval start times (in seconds)\n",
    "- ''tend'': _nIntervals x 1 double_, end times (in seconds)\n",
    "- ''usr'': _nIntervals x nUsr double_, optional additional data corresponding to intervals\n",
    "- ''cfg'': content depends on specific data, but always has a ''history'' field.\n",
    "\n",
    "Some common ways of creating an iv object from scratch are the following:"
   ]
  },
  {
   "cell_type": "markdown",
   "metadata": {},
   "source": [
    "```matlab\n",
    ">> a = iv([1 2]) % define a single interval from 1 to 2\n",
    "\n",
    "a = \n",
    "\n",
    "      type: 'iv'\n",
    "    tstart: 1\n",
    "      tend: 2\n",
    "       usr: []\n",
    "       cfg: [1x1 struct]\n",
    "\n",
    ">> b = iv([1 2],[3 3]) % define two intervals, 1 to 3 and 2 to 3\n",
    "\n",
    "b = \n",
    "\n",
    "      type: 'iv'\n",
    "    tstart: [2x1 double]\n",
    "      tend: [2x1 double]\n",
    "       usr: []\n",
    "       cfg: [1x1 struct]\n",
    "```"
   ]
  },
  {
   "cell_type": "markdown",
   "metadata": {},
   "source": [
    "There are a number of useful functions available that work with interval data. \n",
    "One of the most useful ones is ''TSDtoIV()'' which will be demonstrated below. \n",
    "The [iv folder](https://github.com/mvdm/neuraldata-w16/tree/master/shared/datatypes/iv)\n",
    "on the codebase has a number of functions whose functions you can guess from their names, \n",
    "for instance, ''IntersectIV()'' computes the intersection between two sets of intervals \n",
    "(i.e. output only those intervals in A which overlap with intervals in B)."
   ]
  },
  {
   "cell_type": "markdown",
   "metadata": {},
   "source": [
    "## Data files overview\n",
    "\n",
    "Our next goal is to learn about the different kinds of data \n",
    "and associated information that make up a typical neural recording session \n",
    "(as an example, we will use Neuralynx data; obviously the details will be different for other systems), \n",
    "and to meet the various loading functions that will enable you to access them \n",
    "in the data type formats introduced above.\n",
    "\n",
    "Make sure you have the data session ''R042-2013-08-18'' from the lab database, \n",
    "and that this is placed in a sensible location \n",
    "(NOT in a GitHub or project folder! \n",
    "See [Module 1](analysis:course-w16:week1) if this is not obvious). \n",
    "This folder contains data from a single recording session \n",
    "that has been pre-processed so that it is ready for analysis. \n",
    "Such a pre-processed data set is referred to as \"promoted\"; \n",
    "raw data that has just been recorded is \"incoming\", \n",
    "data being pre-processed is \"inProcess\". \n",
    "The schematic below gives an overview of the major data files and their transformation during pre-processing:\n",
    "\n",
    "<img src=\"02-analysis-workflow.png\">"
   ]
  },
  {
   "cell_type": "markdown",
   "metadata": {},
   "source": [
    "The files you find in a promoted folder such as ''R042-2013-08-18'' are those enclosed in the gray box. \n",
    "They are:\n",
    "\n",
    "- Each ''.ncs'' file (\"**N**euralynx **C**ontinuously **S**ampled\") \n",
    "contains a single channel of continuously sampled voltage data. \n",
    "The sampling rate and filters for these channels can be configured in the Cheetah data acquisition software.\n",
    "Typically, as in this data set, \n",
    "the sampling rate and filters are set so that these files are local field potentials (LFPs) \n",
    "sampled at 2kHz and filtered between 1 and 475 Hz. \n",
    "It is also possible to have wide-band, 32kHz ''.ncs'' \n",
    "files suitable for spike extraction, \n",
    "but these are not included in the current dataset. \n",
    "(We will discuss filtering in a subsequent module.)\n",
    "- Each ''.t'' file contains a set of times \n",
    "-- a spike train from a putative neuron. \n",
    "The qualifier \"putative\" is used because this is extracellular data and spike-sorting is not perfect, \n",
    "so it's likely there will be some spikes missing and some spikes included that are not from this neuron. \n",
    "Always remember this even if I will omit the \"putative\" from now on for short! \n",
    "''.t'' files are generated by MClust, \n",
    "a spike sorting tool developed by A. David Redish, \n",
    "from the raw ''.ntt'' (\"**N**euralynx **T**e**T**rode\") files saved by Neuralynx. \n",
    "''.ntt'' files do not contain continuously sampled data; \n",
    "instead, a one-millisecond snapshot across the channels of a tetrode \n",
    "is stored whenever any of the four channels exceeds a threshold set in Cheetah by the experimenter.\n",
    "- The ''.nvt'' file (\"**N**euralynx **V**ideo **T**racking\") \n",
    "contains the location of the rat as tracked by an overhead camera. \n",
    "For Neuralynx systems, this is typically sampled at 30 Hz. \n",
    "Because the raw files are large, \n",
    "they are usually stored in compressed (zip) format. \n",
    "The ''.nvt'' files are in units of camera pixels (typically 640x480).\n",
    "- The ''.nev'' file (\"**N**euralynx **EV**ents\") \n",
    "contains timestamps and labels of events, \n",
    "such as those input by the user during recording, \n",
    "received from experimental components connected to Neuralynx's digital I/O (Input/Output) port, \n",
    "and system messages such as recording start, data loss, et cetera."
   ]
  },
  {
   "cell_type": "markdown",
   "metadata": {},
   "source": [
    "A critical part of any promoted data set is the following:\n",
    "\n",
    "- The ''keys.m'' file, referred to as \"ExpKeys\" or \"keys\". \n",
    "This file contains experimenter-provided information that describes this data set. \n",
    "This information is stored as a ''.m'' file so that it can be edited and read by standard text editors \n",
    "(rather than having to be loaded into MATLAB to view, as would be the case for a ''.mat'' file). \n",
    "This file and the correct format for %%ExpKeys%% is explained in more detail \n",
    "[here](https://github.com/mvdm/vandermeerlab/blob/master/doc/HOWTO_ExpKeys_Metadata.md).\n",
    "- The ''*metadata.m'' file, which like the ExpKeys contains descriptive information about the data set, \n",
    "such as start and end times of individual trials, \n",
    "but that is not desirable or practical to include in the ExpKeys file. \n",
    "See [here](https://github.com/mvdm/vandermeerlab/blob/master/doc/HOWTO_ExpKeys_Metadata.md)\n",
    "for guidelines on what should go in ExpKeys versus metadata."
   ]
  },
  {
   "cell_type": "markdown",
   "metadata": {},
   "source": [
    "Next, we have:\n",
    "\n",
    "- ''wv.mat'' files.\n",
    "There is one file for each ''.t'' file, containing the average waveforms for that cell.\n",
    "- ''ClusterQual.mat'' files. \n",
    "Also, one file for each ''.t'' file, containing some cluster quality statistics.\n",
    "\n",
    "Both of these files are generated by a MATLAB script (''CreateCQFile.m'') or \n",
    "directly from MClust version 4.1 or higher.\n",
    "\n",
    "Finally, there is also:\n",
    "\n",
    "- the ''vt.mat'' file. \n",
    "This contains the position data in ''tsd'' format \n",
    "(see above for a description of data types), \n",
    "after potential position artifacts have been removed, \n",
    "and the raw camera pixel units have been converted to centimeters. \n",
    "\n",
    "**NOTE**: Some older data sessions may not have this conversion to centimeters done. What units the video data are in is not crucial for this tutorial, but in general it is a good idea to be aware of what these units are!\n",
    "\n",
    " \n"
   ]
  },
  {
   "cell_type": "markdown",
   "metadata": {},
   "source": [
    "** Look at the contents of the ''R042-2013-08-18'' folder. ** "
   ]
  },
  {
   "cell_type": "markdown",
   "metadata": {},
   "source": [
    "Notice how each file is named: \n",
    "all start with ''R042-2013-08-18'' followed by a suffix indicating the file type and \n",
    "(if necessary) an identifier. \n",
    "Applying this naming scheme consistently is a key part of good data management \n",
    "because it enables provenance tracking \n",
    "-- which cells from what animal, what session, and what condition are contributing to each plot, et cetera. \n",
    "The **rename** steps in the above schematic are an important first step."
   ]
  },
  {
   "cell_type": "markdown",
   "metadata": {},
   "source": [
    "## Using the low-level data loading functions\n",
    "\n",
    "Neuralynx supplies a set of functions that load the raw data into MATLAB \n",
    "(included in your GitHub clone). \n",
    "We will use these one by one in the following subsections. \n",
    "A common theme is that all of these functions will output a ''Timestamps'' variable, \n",
    "indicating when each data sample or event occurred. \n",
    "Data acquisition systems need to solve the engineering challenge of aligning many different kinds of signals \n",
    "(video, neural activity, events) on a common timebase, \n",
    "so that relationships between them can be analyzed. \n",
    "These ''Timestamps'' are what ties the different data files together. \n",
    "By default, Neuralynx data loaders return timestamps in microseconds (us).\n",
    "\n",
    "Before getting started, create a folder with today's date in your \n",
    "[project folder](analysis:course-w16:week1),\n",
    "and create a new file in it named ''sandbox.m''. \n",
    "These sandbox files are not meant to be re-used or committed to GitHub\n",
    "-- as the name indicates, they are just a temporary file that is easier to work with \n",
    "compared to typing everything directly into the MATLAB Command Window. \n",
    "\n",
    "Next, make sure that your path is \n",
    "[set correctly](analysis:course-w16:week1) using a Shortcut button. \n",
    "Also, set MATLAB's current directory to the data folder (''R042-2013-08-18''); \n",
    "you can do this either using the MATLAB GUI\n",
    "(I often paste from Explorer into MATLAB) or by using the `cd` command.\n",
    "\n",
    "All instructions that follow should be pasted into a \n",
    "[cell](http://blogs.mathworks.com/videos/2011/07/26/starting-in-matlab-cell-mode-scripts/)\n",
    "in this sandbox file and executed from there (Ctrl-Enter when a cell is selected), \n",
    "unless they are prefaced with ''>>'' to indicate the Command Prompt."
   ]
  },
  {
   "cell_type": "markdown",
   "metadata": {},
   "source": [
    "## Position data (*.nvt) loading\n",
    "\n",
    "The low-level loading function for video data is ''Nlx2MatVT''. \n",
    "Deploy it as follows:"
   ]
  },
  {
   "cell_type": "markdown",
   "metadata": {},
   "source": [
    "```matlab\n",
    "%% load video data (make sure the VT1.zip file is unzipped first and now present in MATLAB's working folder!)\n",
    "[Timestamps, X, Y, Angles, Targets, Points, Header] = Nlx2MatVT('VT1.nvt', [1 1 1 1 1 1], 1, 1, [] );\n",
    "```"
   ]
  },
  {
   "cell_type": "markdown",
   "metadata": {},
   "source": [
    "The abundance of ones in the function call are basically saying, \n",
    "\"load everything\" (type ''help Nlx2MatVT'' for the gory details).\n",
    "Notice that the output arguments (with the exception of the ''Header'') share a common dimension:"
   ]
  },
  {
   "cell_type": "markdown",
   "metadata": {},
   "source": [
    "```matlab\n",
    ">> whos\n",
    "  Name              Size                    Bytes  Class     Attributes\n",
    "\n",
    "  Angles            1x131898              1055184  double              \n",
    "  Header           28x1                      4262  cell                \n",
    "  Points          400x131898            422073600  double              \n",
    "  Targets          50x131898             52759200  double              \n",
    "  Timestamps        1x131898              1055184  double              \n",
    "  X                 1x131898              1055184  double              \n",
    "  Y                 1x131898              1055184  double              \n",
    "```"
   ]
  },
  {
   "cell_type": "markdown",
   "metadata": {},
   "source": [
    "We appear to have 131898 samples of \"X\" and \"Y\", the main variables of interest, with corresponding timestamps. We can plot X against Y:"
   ]
  },
  {
   "cell_type": "markdown",
   "metadata": {},
   "source": [
    "```matlab\n",
    ">> plot(X,Y);\n",
    "```\n",
    "\n",
    "<img src=\"02-position_raw.png\">"
   ]
  },
  {
   "cell_type": "markdown",
   "metadata": {},
   "source": [
    "You can see the outline of a modified T-maze used for this recording session (rotated 90 degrees). \n",
    "Notice that this way of plotting the position data reveals something strange going on: \n",
    "there are many abrupt jumps to the (0,0) position! \n",
    "As it turns out, these are Neuralynx's way of indicating missing data \n",
    "(samples on which no position data could be acquired)."
   ]
  },
  {
   "cell_type": "markdown",
   "metadata": {},
   "source": [
    "** Plot X against Y again, but this time without the missing data. \n",
    "A good way of doing this is to first define a variable ''keep_idx'' \n",
    "that contains the indices of those samples which you want to keep \n",
    "(i.e. that are not (0,0)). **"
   ]
  },
  {
   "cell_type": "markdown",
   "metadata": {},
   "source": [
    "Inspect the resulting plot. \n",
    "The shape of the T-maze is now more clear; \n",
    "also visible are two roughly circular areas. \n",
    "These are the \"pedestals\" on which the rat can relax at the beginning and end of the recording session, \n",
    "as well as in between trials (if you want more details about what is going on this task, \n",
    "see [here](http://ctnsrv.uwaterloo.ca/vandermeerlab/doku.php?id=analysis:task:motivationalt)).\n",
    "\n",
    "I plotted my version as follows:"
   ]
  },
  {
   "cell_type": "markdown",
   "metadata": {},
   "source": [
    "```matlab\n",
    "%% plot video data -- use a new cell so that you can rerun this without also reloading the data\n",
    "fh = figure; set(fh,'Color',[0 0 0]);\n",
    "plot(X(keep_idx),Y(keep_idx),'.','Color',[0.7 0.7 0.7],'MarkerSize',1); axis off;\n",
    "```\n",
    "\n",
    "<img src=\"02-position_filtered.png\">"
   ]
  },
  {
   "cell_type": "markdown",
   "metadata": {},
   "source": [
    "The first line opens a new figure, and uses its _handle_ to set the background to black. \n",
    "The second line uses additional arguments for ''plot()'' \n",
    "to plot the X and Y data points not as a connected line, \n",
    "but as individual points of size 1 in a gray color.\n",
    "\n",
    "It is useful to know how to save figures to a format that is easy to view:"
   ]
  },
  {
   "cell_type": "markdown",
   "metadata": {},
   "source": [
    "```matlab\n",
    "set(gcf, 'InvertHardCopy', 'off');\n",
    "print(gcf,'-r75','-dpng','module2_xvsy2.png');\n",
    "```"
   ]
  },
  {
   "cell_type": "markdown",
   "metadata": {},
   "source": [
    "The first line is necessary to preserve the black background. \n",
    "The second line saves a 75dpi PNG image. \n",
    "PNG is a good choice for saving MATLAB images, \n",
    "because it uses lossless compression and therefore will not cause ugly artifacts the way JPEG will."
   ]
  },
  {
   "cell_type": "markdown",
   "metadata": {},
   "source": [
    "Let's look at the Timestamps next, by plotting the X data as a function of time. \n",
    "Note the use of some different plotting options here:"
   ]
  },
  {
   "cell_type": "markdown",
   "metadata": {},
   "source": [
    "```matlab\n",
    "plot(Timestamps(keep_idx),X(keep_idx),'.r','MarkerSize',3)\n",
    "box off;\n",
    "set(gca,'FontSize',24);\n",
    "```\n",
    "\n",
    "<img src=\"02-timestamps.png\">"
   ]
  },
  {
   "cell_type": "markdown",
   "metadata": {},
   "source": [
    "The horizontal axis is still in Neuralynx's raw data units (us)."
   ]
  },
  {
   "cell_type": "markdown",
   "metadata": {},
   "source": [
    "** Convert the Timestamps to seconds, and replot. **"
   ]
  },
  {
   "cell_type": "markdown",
   "metadata": {},
   "source": [
    "If you look closely, you can spot some gaps in the data (times when no position data is plotted)."
   ]
  },
  {
   "cell_type": "markdown",
   "metadata": {},
   "source": [
    "** (Optional exercise to test your MATLAB skills) \n",
    "Are these gaps because of (0,0) samples that have been removed? \n",
    "Or because there are no records in the data for those times? **"
   ]
  },
  {
   "cell_type": "markdown",
   "metadata": {},
   "source": [
    "As you should have ascertained, there are in fact two short gaps in the data. \n",
    "These occur on purpose to separate behavior on the T-maze \n",
    "(when you can see the X coordinate changing as the rat runs) \n",
    "from the times when the rat is resting on the pedestal. \n",
    "In the Cheetah software this can be done by simply turning off Recording \n",
    "and then turning it back on. \n",
    "(Sneak preview: although doing this is helpful for some applications, \n",
    "it can be problematic for analyses that assume your data is continuous. \n",
    "We will encounter this when we start using the _FieldTrip_ toolbox later.)"
   ]
  },
  {
   "cell_type": "markdown",
   "metadata": {},
   "source": [
    "** Determine the video tracker sampling rate from the ''Timestamps'' variable. \n",
    "Watch out for gaps in the data! \n",
    "(Hint: the ''diff()'' function is useful here!) **"
   ]
  },
  {
   "cell_type": "markdown",
   "metadata": {},
   "source": [
    "This concludes the introduction to Neuralynx video data. \n",
    "The other outputs of ''Nlx2MatVT'' are not used for typical analyses."
   ]
  },
  {
   "cell_type": "markdown",
   "metadata": {},
   "source": [
    "## LFP data file (*.Ncs) loading\n",
    "\n",
    "The Neuralynx loader for Ncs files is ''Nlx2MatCSC''. \n",
    "Use it thusly:"
   ]
  },
  {
   "cell_type": "markdown",
   "metadata": {},
   "source": [
    "```matlab\n",
    "clear all;\n",
    "fname = 'R042-2013-08-18-CSC05a.ncs';\n",
    "[Timestamps, ~, SampleFrequencies, NumberOfValidSamples, Samples, Header] = Nlx2MatCSC(fname, [1 1 1 1 1], 1, 1, []);\n",
    "```"
   ]
  },
  {
   "cell_type": "markdown",
   "metadata": {},
   "source": [
    "..and inspect the result:"
   ]
  },
  {
   "cell_type": "markdown",
   "metadata": {},
   "source": [
    "```matlab\n",
    ">> whos\n",
    "  Name                        Size                  Bytes  Class     Attributes\n",
    "\n",
    "  Header                     33x1                    5182  cell                \n",
    "  NumberOfValidSamples        1x17193              137544  double              \n",
    "  SampleFrequencies           1x17193              137544  double              \n",
    "  Samples                   512x17193            70422528  double              \n",
    "  Timestamps                  1x17193              137544  double              \n",
    "  fname                       1x9                      18  char           \n",
    "```"
   ]
  },
  {
   "cell_type": "markdown",
   "metadata": {},
   "source": [
    "Now we get only 17193 Timestamps, \n",
    "a surprising number because it is substantially less than the number of video tracking timestamps we got \n",
    "(on the order of 10 times less), \n",
    "even though the video tracking data was only sampled at about 30 Hz, \n",
    "and this LFP data is supposed to be sampled at something like 2kHz! \n",
    "As it turns out, Neuralynx Ncs data is stored in blocks of 512 samples, \n",
    "with only the first sample of each block timestamped. \n",
    "Hence the [512 x 17193] size of Samples, \n",
    "which contains the actual time-varying voltage signal. \n",
    "This is not a very convenient format for plotting timestamps against voltage, \n",
    "the way we typically would like to do. \n",
    "This is one reason why we generally don't use these low-level loading functions, \n",
    "but instead _wrap_ them in a function that is more user-friendly. \n",
    "These loading functions are discussed in the next section.\n",
    "\n",
    "For now, one more point about this data: \n",
    "''Samples'' is not in units of volts, but on a scale internal to the Neuralynx system. \n",
    "To know how these \"A-D bits\" (analog-to-digital) correspond to real voltages, \n",
    "we need to look in the ''Header'':"
   ]
  },
  {
   "cell_type": "markdown",
   "metadata": {},
   "source": [
    "```matlab\n",
    ">> Header\n",
    "\n",
    "Header = \n",
    "\n",
    "    '######## Neuralynx Data File Header'\n",
    "    '## File Name C:\\CheetahData\\2013-08-18_09-06-16\\CSC49.ncs'\n",
    "    '## Time Opened (m/d/y): 8/18/2013  (h:m:s.ms) 9:6:36.546'\n",
    "    '## Time Closed (m/d/y): 8/18/2013  (h:m:s.ms) 10:26:2.875'\n",
    "    ''\n",
    "    '-FileType CSC'\n",
    "    '-FileVersion 3.3.0'\n",
    "    '-RecordSize 1044'\n",
    "    ''\n",
    "    '-CheetahRev 5.6.3 '\n",
    "    ''\n",
    "    '-HardwareSubSystemName AcqSystem1'\n",
    "    '-HardwareSubSystemType DigitalLynxSX'\n",
    "    '-SamplingFrequency 2000'\n",
    "    '-ADMaxValue 32767'\n",
    "    '-ADBitVolts 0.000000061037020770982053'\n",
    "    ''\n",
    "    '-AcqEntName CSC49'\n",
    "    '-NumADChannels 1'\n",
    "    '-ADChannel 80'\n",
    "    '-InputRange 2000'\n",
    "    '-InputInverted True'\n",
    "    ''\n",
    "    '-DSPLowCutFilterEnabled True'\n",
    "    '-DspLowCutFrequency 1'\n",
    "    '-DspLowCutNumTaps 0'\n",
    "    '-DspLowCutFilterType DCO'\n",
    "    '-DSPHighCutFilterEnabled True'\n",
    "    '-DspHighCutFrequency 475'\n",
    "    '-DspHighCutNumTaps 128'\n",
    "    '-DspHighCutFilterType FIR'\n",
    "    '-DspDelayCompensation Disabled'\n",
    "    '-DspFilterDelay_µs 1984'\n",
    "```"
   ]
  },
  {
   "cell_type": "markdown",
   "metadata": {},
   "source": [
    "Aha, the ''-ADBitVolts'' entry gives us the conversion from the raw data to volts. \n",
    "Another reason to wrap this lowlevel function into something that does the conversion for us! \n",
    "As you can see, the header contains some other information, \n",
    "which will be discussed in more detail in later modules."
   ]
  },
  {
   "cell_type": "markdown",
   "metadata": {},
   "source": [
    "## Event file (*.Nev) loading\n",
    "\n",
    "''.Nev'' (**N**euralynx **Ev**ent) files contain timestamps of various task events. \n",
    "Use as follows:"
   ]
  },
  {
   "cell_type": "markdown",
   "metadata": {},
   "source": [
    "```matlab\n",
    "fn = FindFile('*Events.nev');\n",
    "[EVTimeStamps, EventIDs, TTLs, EVExtras, EventStrings, EVHeader] = Nlx2MatEV(fn,[1 1 1 1 1],1,1,[]);\n",
    "```"
   ]
  },
  {
   "cell_type": "markdown",
   "metadata": {},
   "source": [
    "As before, all the ones in the function call make sure we load everything. \n",
    "In return, we get:"
   ]
  },
  {
   "cell_type": "markdown",
   "metadata": {},
   "source": [
    "```matlab\n",
    ">> whos\n",
    "  Name                Size              Bytes  Class     Attributes\n",
    "\n",
    "  EVExtras            8x462             29568  double              \n",
    "  EVHeader           12x1                1924  cell                \n",
    "  EVTimeStamps        1x462              3696  double              \n",
    "  EventIDs            1x462              3696  double              \n",
    "  EventStrings      462x1              103104  cell                \n",
    "  TTLs                1x462              3696  double              \n",
    "  fn                  1x44                 88  char  \n",
    "```"
   ]
  },
  {
   "cell_type": "markdown",
   "metadata": {},
   "source": [
    "Each of the 462 events in this file has a timestamp (''EVTimeStamps'') \n",
    "and a description (''EventStrings'') as well as some other information we generally don't need.\n",
    "Let's inspect some of the ''EventStrings'':"
   ]
  },
  {
   "cell_type": "markdown",
   "metadata": {},
   "source": [
    "```matlab\n",
    ">> EventStrings(1:13)\n",
    "\n",
    "ans = \n",
    "\n",
    "    'Starting Recording'\n",
    "    'Stopping Recording'\n",
    "    'Starting Recording'\n",
    "    'TTL Input on AcqSystem1_0 board 0 port 1 value (0x0020).'\n",
    "    'TTL Input on AcqSystem1_0 board 0 port 1 value (0x0000).'\n",
    "    'TTL Input on AcqSystem1_0 board 0 port 1 value (0x0020).'\n",
    "    'TTL Input on AcqSystem1_0 board 0 port 1 value (0x0000).'\n",
    "    'TTL Input on AcqSystem1_0 board 0 port 1 value (0x0080).'\n",
    "    'TTL Input on AcqSystem1_0 board 0 port 1 value (0x0000).'\n",
    "    'TTL Output on AcqSystem1_0 board 0 port 0 value (0x0004).'\n",
    "    'TTL Input on AcqSystem1_0 board 0 port 1 value (0x0080).'\n",
    "    'TTL Output on AcqSystem1_0 board 0 port 0 value (0x0000).'\n",
    "    'TTL Input on AcqSystem1_0 board 0 port 1 value (0x0000).'\n",
    "```"
   ]
  },
  {
   "cell_type": "markdown",
   "metadata": {},
   "source": [
    "The meaning of these cryptic strings depends on the specific experimental setup. \n",
    "\"AcqSystem1_0 board 0 port 0\" and \"1\" refer to connectors on the Neuralynx data acquisition mainbox, \n",
    "which can be hooked up to various experimental peripherals such as photobeams, levers, and pellet dispensers. \n",
    "\n",
    "In this session, Input/Output (I/O) Port 0 was configured as Output, \n",
    "controlling a pellet dispenser and a valve (for sucrose solution delivery). \n",
    "Port 1 was set to be an Input, receiving inputs from three photobeams \n",
    "(one on the central stem of the maze, and one each for each reward site on either end of the maze arms). \n",
    "The ''EventStrings'' above refer to the status of an I/O port, represented as a \n",
    "[hexadecimal number](http://en.wikipedia.org/wiki/Hexadecimal) \n",
    "(indicated by the prefix \"0x\"). \n",
    "The activation of each peripheral is associated with a unique number.\n",
    "\n",
    "As with the previous low-level loading functions, \n",
    "the Neuralynx loader does not provide us directly with what we want. \n",
    "We'd like a loader that just gives us the times for the events we are interested in, \n",
    "without us having to figure out what hexadecimal number they correspond to and then pull out the matching times.\n",
    "These wrapped loaders will be introduced below."
   ]
  },
  {
   "cell_type": "markdown",
   "metadata": {},
   "source": [
    "** (Optional exercise to test your %%MATLAB%% skills) \n",
    "Find out which ''EventString'' corresponds to which input or output \n",
    "(food pellet reward on left arm, \n",
    "sucrose water reward on right arm, \n",
    "left reward photobeam, \n",
    "right reward photobeam, \n",
    "central stem photobeam) \n",
    "by plotting the location of the animal at the time of each event. **\n",
    "\n",
    "_Hint: example pseudocode for a nice approach to find this out would look like the following:_\n",
    "\n",
    "```\n",
    "get list of unique event strings to process -- unique()\n",
    "\n",
    "for each event string\n",
    "  \n",
    "  find indices of events that match current event string -- strncmp()\n",
    "  \n",
    "  get timestamps for matched events\n",
    "  \n",
    "  find indices of position timestamps that are closest in time -- nearest_idx()\n",
    "  \n",
    "  get x and y coordinates of closest timestamps\n",
    "  \n",
    "  plot x and y coordinates on top of position plot\n",
    "\n",
    "end\n",
    "```"
   ]
  },
  {
   "cell_type": "markdown",
   "metadata": {},
   "source": [
    "## Using the wrapped data loaders\n",
    "\n",
    "You have already seen examples of TSD and TS data types returned by some loading functions. \n",
    "The full set used for Neuralynx data in this course follows below. \n",
    "You will notice that each loading function takes in a ''cfg'' (\"configuration\") variable, \n",
    "which is used to specify parameters and options such as the filenames to be loaded. \n",
    "This use of ''cfg'' variables is shared by many other vandermeerlab data analysis functions \n",
    "(as well as those in the FieldTrip toolbox), \n",
    "and is highly encouraged when you start writing your own code: \n",
    "it encourages well-organized code and enables provenance tracking, \n",
    "two principles of \n",
    "[good programming practice](analysis:nsb2015:week0).\n",
    "\n",
    "To find out what cfg options are used by a given function, \n",
    "use the ''help'' (or ''doc'') function on each data loader, e.g. ''doc LoadCSC''. \n",
    "Some functions will run using default options when you pass an empty ''cfg'' (''[]''), \n",
    "whereas others will require you to input something."
   ]
  },
  {
   "cell_type": "markdown",
   "metadata": {},
   "source": [
    "### LoadPos()\n",
    "\n",
    "This loads raw Neuralynx position data (*.Nvt). \n",
    "If no filename is specified in the input cfg, \n",
    "''LoadPos()'' checks if a single .nvt file is found in the current directory and loads that one:"
   ]
  },
  {
   "cell_type": "markdown",
   "metadata": {},
   "source": [
    "```matlab\n",
    ">> posdata = LoadPos([]); % note empty config\n",
    "LoadPos.m: 100.00% of samples tracked.\n",
    ">> posdata\n",
    "\n",
    "posdata = \n",
    "\n",
    "     type: 'tsd'\n",
    "     tvec: [1x131898 double]\n",
    "     data: [2x131898 double]\n",
    "    label: {'x'  'y'}\n",
    "      cfg: [1x1 struct]\n",
    "```"
   ]
  },
  {
   "cell_type": "markdown",
   "metadata": {},
   "source": [
    "Note that ''LoadPos()'' provides some basic information on the quality of the data \n",
    "(percentage of samples tracked) -- consistent with the \n",
    "[\"garbage in, garbage out\" principle](analysis:nsb2015:week0), \n",
    "this helps ensure that you are aware of any potential issues at the raw data stage.\n",
    "\n",
    "Because the .Nvt files are large, it is often convenient to save this ''posdata'' variable as a .mat file. \n",
    "This should be named ''Rxxx-yyyy-mm-dd-vt.mat''.\n",
    "\n",
    "Note that the ''data'' field now has dimensionality [**2** x nSamples]; \n",
    "this is because there is both x and y data as indicated by the ''label'' field. \n",
    "So, if you wanted to plot x against y, you could do ''plot(posdata.data(1,:),posdata.data(2,:),'.');'', \n",
    "but a more general approach that doesn't require knowing which variable is which dimension is\n",
    "''plot(getd(posdata,'x'),getd(posdata,'y'),'.');''."
   ]
  },
  {
   "cell_type": "markdown",
   "metadata": {},
   "source": [
    "### LoadCSC()\n",
    "\n",
    "To load a ''.Ncs'' file, containing sampled data (a hippocampal local field potential in this case):"
   ]
  },
  {
   "cell_type": "markdown",
   "metadata": {},
   "source": [
    "```matlab\n",
    "cfg = []; % starting with an empty config is good practice -- that way you avoid carryover of previous values!\n",
    "cfg.fc = {'R042-2013-08-18-CSC05a.ncs'};\n",
    "csc = LoadCSC(cfg);\n",
    "```"
   ]
  },
  {
   "cell_type": "markdown",
   "metadata": {},
   "source": [
    "This gives the following struct of type ''tsd'':"
   ]
  },
  {
   "cell_type": "markdown",
   "metadata": {},
   "source": [
    "```matlab\n",
    ">> csc\n",
    "\n",
    "csc = \n",
    "\n",
    "     type: 'tsd'\n",
    "     tvec: [8802816x1 double]\n",
    "     data: [1x8802816 double]\n",
    "    label: {'R042-2013-08-18-CSC05a.ncs'}\n",
    "      cfg: [1x1 struct]\n",
    "```"
   ]
  },
  {
   "cell_type": "markdown",
   "metadata": {},
   "source": [
    "Note that the format is the same as for the position data above; \n",
    "this is because both ''LoadPos()'' and ''LoadCSC()'' return TSDs.\n",
    "\n",
    "''LoadCSC()'' outputs some information about the files being loaded; \n",
    "in particular the number of \"bad blocks\". \n",
    "These will be explored in Module 3 \n",
    "(short version: bad blocks indicate a problem with the recording system and should be fixed).\n",
    "\n",
    "Finally, the ''cfg'' field has the ExpKeys, \n",
    "the %SessionID (''R042-2013-08-18''), \n",
    "the headers (''.hdr'') for each .Ncs file, and the ''history''."
   ]
  },
  {
   "cell_type": "markdown",
   "metadata": {},
   "source": [
    "### LoadEvents()\n",
    "\n",
    "By default, ''LoadEvents()'' returns a TS with the labels and timestamps of all unique strings \n",
    "found in the EventStrings:"
   ]
  },
  {
   "cell_type": "markdown",
   "metadata": {},
   "source": [
    "```matlab\n",
    ">> evt = LoadEvents([])\n",
    "\n",
    "evt = \n",
    "\n",
    "     type: 'ts'\n",
    "        t: {1x9 cell}\n",
    "    label: {1x9 cell}\n",
    "      cfg: [1x1 struct]\n",
    "```"
   ]
  },
  {
   "cell_type": "markdown",
   "metadata": {},
   "source": [
    "''evt.label(:)'' will reveal the familiar list of events introduced above. \n",
    "However, by using the cfg file, we can get something more specific:"
   ]
  },
  {
   "cell_type": "markdown",
   "metadata": {},
   "source": [
    "```matlab\n",
    "%%\n",
    "cfg = [];\n",
    "cfg.eventList = {'TTL Output on AcqSystem1_0 board 0 port 0 value (0x0004).','TTL Output on AcqSystem1_0 board 0 port 0 value (0x0040).'};\n",
    "cfg.eventLabel = {'FoodDelivery','WaterDelivery'};\n",
    "evt = LoadEvents(cfg)\n",
    "\n",
    "evt = \n",
    "\n",
    "     type: 'ts'\n",
    "        t: {[1x9 double]  [1x9 double]}\n",
    "    label: {'FoodDelivery'  'WaterDelivery'}\n",
    "      cfg: [1x1 struct]\n",
    "```"
   ]
  },
  {
   "cell_type": "markdown",
   "metadata": {},
   "source": [
    "By specifying which EventString is associated with which human-readable event \n",
    "('FoodDelivery', 'WaterDelivery') \n",
    "we now have a more user-friendly events variable. \n",
    "Of course, this requires knowing how these events map onto the event codes \n",
    "(given here in ''cfg.eventList'') generated by the system. \n",
    "Make sure that you know what the event codes generated by your system mean!"
   ]
  },
  {
   "cell_type": "markdown",
   "metadata": {},
   "source": [
    "### LoadSpikes()\n",
    "\n",
    "LoadSpikes() loads spike trains (times of action potentials) in ''.t'' files. \n",
    "By default, it loads all such files:"
   ]
  },
  {
   "cell_type": "markdown",
   "metadata": {},
   "source": [
    "```matlab\n",
    ">> S = LoadSpikes([])\n",
    "\n",
    "S = \n",
    "\n",
    "     type: 'ts'\n",
    "        t: {1x67 cell}\n",
    "    label: {1x67 cell}\n",
    "      cfg: [1x1 struct]\n",
    "      usr: [1x1 struct]\n",
    "```"
   ]
  },
  {
   "cell_type": "markdown",
   "metadata": {},
   "source": [
    "As you can see, this loaded spike data from 67 neurons. \n",
    "The ''usr'' field by default contains the tetrode number from which each spike train was recorded; \n",
    "this behavior can be disabled by setting ''cfg.getTTnumbers = 0''. \n",
    "If you wish to load ._t files \n",
    "(containing spikes from neurons of questionable cluster quality), \n",
    "do ''cfg.load_questionable_cells = 1;''. \n",
    "See the function documentation for further options."
   ]
  },
  {
   "cell_type": "markdown",
   "metadata": {},
   "source": [
    "### Other\n",
    "\n",
    "The other files of interest are all MATLAB ''.mat'' files \n",
    "which can be loaded directly using the ''load()'' function."
   ]
  },
  {
   "cell_type": "markdown",
   "metadata": {},
   "source": [
    "## Putting it all together\n",
    "\n",
    "Here are two examples that illustrate some simple operations you are now equipped to do. \n",
    "You should run them and make sure you understand what is happening \n",
    "-- how raw data is [transformed by some simple steps](analysis:nsb2015:week0):"
   ]
  },
  {
   "cell_type": "markdown",
   "metadata": {},
   "source": [
    "```matlab\n",
    "%% example 1: use of restrict()\n",
    "LoadMetadata;\n",
    "\n",
    "pos = LoadPos([]);\n",
    "\n",
    "left_pos = restrict(pos,metadata.taskvars.trial_iv_L); % left trials only\n",
    "plot(getd(left_pos,'x'),getd(left_pos,'y'),'.'); % looks like right trials! camera reverses image, can fix with set(gca,'YDir','reverse')\n",
    "\n",
    "%% example 2: interplay between tsd and iv data\n",
    "LoadExpKeys;\n",
    "\n",
    "please = []; please.fc = ExpKeys.goodSWR(1); % local field potential with good \"sharp wave-ripple\" events\n",
    "lfp = LoadCSC(please); % aacarey is Canadian and asks nicely; cfg name is just arbitrary\n",
    "\n",
    "% detect possible artifacts\n",
    "cfg = [];\n",
    "cfg.method = 'zscore'; % first normalize the data\n",
    "cfg.threshold = -8;\n",
    "cfg.minlen = 0; % no minimum length on events to detect\n",
    "cfg.dcn = '<'; % detect intervals with z-score lower than threshold\n",
    "artifact_iv = TSDtoIV(cfg,lfp); % creates iv with start and end times of possible artifacts\n",
    "\n",
    "% plot detected intervals\n",
    "cfg = []; cfg.display = 'tsd'; % also try 'iv' mode!\n",
    "PlotTSDfromIV(lfp,artifact_iv,lfp)\n",
    "```"
   ]
  },
  {
   "cell_type": "markdown",
   "metadata": {},
   "source": [
    "** (Optional exercise to test your understanding) \n",
    "Use the function ''IntersectIV()'' to only keep potential artifacts \n",
    "that occur when the rat's x-position is larger than 300. **"
   ]
  },
  {
   "cell_type": "markdown",
   "metadata": {},
   "source": [
    "_NOTE: **if you are on a Mac**, you might get an error related to the ''nearest_idx3'' function; \n",
    "you can fix that for now by changing this to ''nearest_idx'' in the ''PlotTSDfromIV'' function._"
   ]
  },
  {
   "cell_type": "markdown",
   "metadata": {},
   "source": [
    "# Challenge\n",
    "\n",
    "- If you have your own data which is not from a Neuralynx system, there is some work to do! \n",
    "Write loading functions for your system's data that output ''ts'', ''tsd'' and/or ''iv'' data as appropriate. \n",
    "As a first step, you should find out if your system's manufacturer provides loading functions for MATLAB, \n",
    "similar to those from Neuralynx discussed above. \n",
    "If so, you are in luck, and by trying out those functions \n",
    "you should be able to figure out how it stores the data and output the data in the right formats.\n",
    "\n",
    "- Should you get to the point where you have written loading functions for your data, \n",
    "it is important to consider what data integrity checks or other tests you may wish to do. \n",
    "This is very important to maximize the possibility of detecting potential garbage at the source\n",
    "before it can cause havoc. \n",
    "In this module, you have already seen several examples of such checks: \n",
    "''LoadCSC()'' reports the number of bad blocks detected (and corrects for them) and\n",
    "''LoadPos()'' handles zero position samples. \n",
    "Make a list of things that can go wrong with your data, \n",
    "and how you would test for, report (and potentially fix), them!"
   ]
  }
 ],
 "metadata": {
  "anaconda-cloud": {},
  "kernelspec": {
   "display_name": "Python [conda env:py3]",
   "language": "python",
   "name": "conda-env-py3-py"
  },
  "language_info": {
   "codemirror_mode": {
    "name": "ipython",
    "version": 3
   },
   "file_extension": ".py",
   "mimetype": "text/x-python",
   "name": "python",
   "nbconvert_exporter": "python",
   "pygments_lexer": "ipython3",
   "version": "3.5.2"
  },
  "toc": {
   "colors": {
    "hover_highlight": "#DAA520",
    "running_highlight": "#FF0000",
    "selected_highlight": "#FFD700"
   },
   "moveMenuLeft": true,
   "nav_menu": {
    "height": "497px",
    "width": "252px"
   },
   "navigate_menu": true,
   "number_sections": true,
   "sideBar": true,
   "threshold": 4,
   "toc_cell": false,
   "toc_position": {
    "height": "436px",
    "left": "0px",
    "right": "1074px",
    "top": "106px",
    "width": "206px"
   },
   "toc_section_display": "block",
   "toc_window_display": true
  }
 },
 "nbformat": 4,
 "nbformat_minor": 1
}
