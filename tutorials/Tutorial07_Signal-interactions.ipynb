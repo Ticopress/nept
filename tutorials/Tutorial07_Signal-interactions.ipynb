{
 "cells": [
  {
   "cell_type": "markdown",
   "metadata": {},
   "source": [
    "# Module 11 - Signal interactions\n",
    "----------------------------------------------"
   ]
  },
  {
   "cell_type": "markdown",
   "metadata": {},
   "source": [
    "# Goals\n",
    "-----------\n",
    "\n",
    "- Understand coherence\n",
    "\n",
    "- Develop an intuition for what determines the coherence between two signals\n",
    "- Employ some different methods of estimating coherence to appreciate the tradeoffs involved \n",
    "- Understand the main limitation of the coherence measure: a lack of information about directionality\n",
    "- Grasp the concept of Granger causality in the context of autoregressive models\n",
    "- Explore cases where Granger causality can give inaccurate or misleading results,\n",
    "and learn how to detect such cases\n",
    "- Apply an alternative method, the phase-slope index, that can work in cases where G-causality fails"
   ]
  },
  {
   "cell_type": "markdown",
   "metadata": {},
   "source": [
    "# Coherence\n",
    "-----------------\n",
    "\n",
    "Let's start by considering how two oscillating signals may be related. \n",
    "(We will treat the more general case of non-periodic signals later.) \n",
    "One can imagine various possible relationships between the two, such as illustrated here \n",
    "(From [Siegel et al. 2012](http://www.ncbi.nlm.nih.gov/pubmed/22233726)):\n",
    "\n",
    "<img src=\"11-coherence.png\">"
   ]
  },
  {
   "cell_type": "markdown",
   "metadata": {},
   "source": [
    "# Coherence within the ventral striatum (vStr) and between vStr and hippocampus\n",
    "-------------------------------------------------------------------------------------------------------------"
   ]
  },
  {
   "cell_type": "code",
   "execution_count": null,
   "metadata": {
    "collapsed": true
   },
   "outputs": [],
   "source": [
    "# import necessary packages\n",
    "%matplotlib inline\n",
    "import os\n",
    "import numpy as np\n",
    "import nept\n",
    "import matplotlib.pyplot as plt\n",
    "import scipy.signal\n",
    "\n",
    "# define where your data folder is located\n",
    "data_folder = os.path.expanduser('~/data/R016-2012-10-03')"
   ]
  },
  {
   "cell_type": "code",
   "execution_count": null,
   "metadata": {
    "collapsed": true
   },
   "outputs": [],
   "source": [
    "# load the info file, which contains experiment-specific information\n",
    "import r016d3 as info"
   ]
  },
  {
   "cell_type": "code",
   "execution_count": null,
   "metadata": {
    "collapsed": true
   },
   "outputs": [],
   "source": [
    "# Load both LFPs (.ncs) from rat ventral striatum and one from the hippocampus\n",
    "lfp_vstr1 = nept.load_lfp(os.path.join(data_folder, info.lfp_gamma_filename1))\n",
    "lfp_vstr2 = nept.load_lfp(os.path.join(data_folder, info.lfp_gamma_filename2))\n",
    "\n",
    "lfp_hipp = nept.load_lfp(os.path.join(data_folder, info.lfp_theta_filename))"
   ]
  },
  {
   "cell_type": "code",
   "execution_count": null,
   "metadata": {
    "collapsed": true
   },
   "outputs": [],
   "source": [
    "# Let's restrict our LFPs to during task times\n",
    "task_start = info.task_times['task-value'].start\n",
    "task_stop = info.task_times['task-reward'].stop\n",
    "\n",
    "lfp_vstr1 = lfp_vstr1.time_slice(task_start, task_stop)\n",
    "lfp_vstr2 = lfp_vstr2.time_slice(task_start, task_stop)\n",
    "lfp_hipp = lfp_hipp.time_slice(task_start, task_stop)"
   ]
  },
  {
   "cell_type": "code",
   "execution_count": null,
   "metadata": {
    "collapsed": true
   },
   "outputs": [],
   "source": [
    "# Plot the LFPs. Notice the break in LFP when the task was switched from 'value' to 'reward'\n",
    "plt.plot(lfp_vstr1.time, lfp_vstr1.data)\n",
    "plt.plot(lfp_vstr2.time, lfp_vstr2.data)\n",
    "plt.plot(lfp_hipp.time, lfp_hipp.data)\n",
    "plt.show()"
   ]
  },
  {
   "cell_type": "code",
   "execution_count": null,
   "metadata": {
    "collapsed": true
   },
   "outputs": [],
   "source": []
  },
  {
   "cell_type": "code",
   "execution_count": null,
   "metadata": {
    "collapsed": true
   },
   "outputs": [],
   "source": [
    "import matplotlib.mlab"
   ]
  },
  {
   "cell_type": "code",
   "execution_count": null,
   "metadata": {
    "collapsed": true
   },
   "outputs": [],
   "source": [
    "freq, power = matplotlib.mlab.psd(lfp_vstr1)"
   ]
  },
  {
   "cell_type": "code",
   "execution_count": null,
   "metadata": {
    "collapsed": true
   },
   "outputs": [],
   "source": []
  },
  {
   "cell_type": "code",
   "execution_count": null,
   "metadata": {
    "collapsed": true
   },
   "outputs": [],
   "source": []
  },
  {
   "cell_type": "code",
   "execution_count": null,
   "metadata": {
    "collapsed": true
   },
   "outputs": [],
   "source": [
    "# Compute the Power Spectral Density (PSD) for each signal\n",
    "window = 2048\n",
    "fs = 2000\n",
    "\n",
    "for i, lfp in enumerate([lfp_vstr1, lfp_vstr2, lfp_hipp]):\n",
    "    print(i)\n",
    "    (freq, power) = scipy.signal.welch(lfp, fs=fs, noverlap=window/2)\n",
    "#     [P{iS},F{iS}] = pwelch(getd(csc,csc.label{iS}),hanning(wsize),wsize/2,2*wsize,Fs);"
   ]
  },
  {
   "cell_type": "code",
   "execution_count": null,
   "metadata": {
    "collapsed": true
   },
   "outputs": [],
   "source": [
    "tt = np.arange(1e5) / 10e3\n",
    "sig = (2*np.sqrt(2)) * np.sin(2*np.pi*1234.*tt)\n",
    "sig += np.random.normal(scale=np.sqrt(0.001 * 10e3), size=tt.shape)\n",
    "\n",
    "freq, power = scipy.signal.welch(sig, fs=10000, nperseg=window/2)"
   ]
  },
  {
   "cell_type": "code",
   "execution_count": null,
   "metadata": {
    "collapsed": true
   },
   "outputs": [],
   "source": [
    "plt.semilogy(freq, power)\n",
    "plt.show()"
   ]
  },
  {
   "cell_type": "code",
   "execution_count": null,
   "metadata": {
    "collapsed": true
   },
   "outputs": [],
   "source": [
    "10e3"
   ]
  },
  {
   "cell_type": "code",
   "execution_count": null,
   "metadata": {
    "collapsed": true
   },
   "outputs": [],
   "source": [
    "# plt.plot(sig)\n",
    "plt.plot(lfp_hipp.time, lfp_hipp.data)\n",
    "plt.xlim(1800,1810)\n",
    "plt.show()"
   ]
  },
  {
   "cell_type": "code",
   "execution_count": null,
   "metadata": {
    "collapsed": true
   },
   "outputs": [],
   "source": [
    "plt.plot(lfp_hipp.time, lfp_hipp.data)\n",
    "plt.xlim(1800,1810)\n",
    "plt.show()"
   ]
  },
  {
   "cell_type": "code",
   "execution_count": null,
   "metadata": {
    "collapsed": true
   },
   "outputs": [],
   "source": []
  },
  {
   "cell_type": "code",
   "execution_count": null,
   "metadata": {
    "collapsed": true
   },
   "outputs": [],
   "source": []
  },
  {
   "cell_type": "code",
   "execution_count": null,
   "metadata": {
    "collapsed": true
   },
   "outputs": [],
   "source": []
  },
  {
   "cell_type": "code",
   "execution_count": null,
   "metadata": {
    "collapsed": true
   },
   "outputs": [],
   "source": []
  },
  {
   "cell_type": "markdown",
   "metadata": {},
   "source": [
    "## Overall comparison of vStr-vStr and vStr-HC coherence\n",
    "\n",
    "Let's load three simultaneously recorded LFPs, two from the same structure \n",
    "(but a different electrode, both in ventral striatum) \n",
    "and one from a different but anatomically related structure (hippocampus):\n",
    "\n",
    "```matlab\n",
    "cd('D:\\data\\R016\\R016-2012-10-03');\n",
    "LoadExpKeys;\n",
    "\n",
    "cfg = []; \n",
    "cfg.fc = cat(2,ExpKeys.goodGamma(1:2),ExpKeys.goodTheta(1));\n",
    "cfg.label = {'vStr1','vStr2','HC'};\n",
    "csc = LoadCSC(cfg);\n",
    "\n",
    "csc = restrict(csc,ExpKeys.TimeOnTrack(1),ExpKeys.TimeOffTrack(2)); % restrict to task\n",
    "```\n",
    "\n",
    "Next we can compute the PSDs for each signal in the familiar manner, \n",
    "as well as the coherence between signal pairs of interest:\n",
    "\n",
    "```matlab\n",
    "Fs = csc.cfg.hdr{1}.SamplingFrequency; \n",
    "wsize = 2048;\n",
    " \n",
    "nS = length(csc.label);\n",
    "for iS = 1:nS\n",
    "    [P{iS},F{iS}] = pwelch(getd(csc,csc.label{iS}),hanning(wsize),wsize/2,2*wsize,Fs);\n",
    "    \n",
    "    for iS2 = iS+1:nS\n",
    "        [C{iS,iS2},Fc{iS}] = mscohere(getd(csc,csc.label{iS}),getd(csc,csc.label{iS2}),hanning(wsize),wsize/2,2*wsize,Fs);\n",
    "    end\n",
    "end\n",
    "\n",
    "% plot\n",
    "subplot(121)\n",
    "cols = 'kgm';\n",
    "for iS = 1:nS\n",
    "h(iS) = plot(F{iS},10*log10(P{iS}),cols(iS),'LineWidth',2); hold on;\n",
    "end\n",
    "set(gca,'XLim',[0 150],'XTick',0:25:150,'FontSize',12); grid on;\n",
    "legend(h,csc.label,'Location','Northeast'); legend boxoff;\n",
    "xlabel('Frequency (Hz)'); ylabel('Power (dB)'); \n",
    " \n",
    "subplot(122); clear h;\n",
    "h(1) = plot(Fc{1},C{1,2},'LineWidth',2); hold on;\n",
    "h(2) = plot(Fc{1},C{1,3},'r','LineWidth',2);\n",
    "set(gca,'XLim',[0 150],'XTick',0:25:150,'FontSize',12); grid on;\n",
    "legend(h,{'vStr1-vStr2','vStr1-HC'},'Location','Northeast'); legend boxoff;\n",
    "xlabel('Frequency (Hz)'); ylabel('Coherence');\n",
    "```\n",
    "\n",
    "This should give:\n",
    "\n",
    "<img src=\"11-vstr_hc_coherence.png\">\n",
    "\n",
    "You can see that the PSDs show the profile characteristic for each structure: \n",
    "HC has a clear theta peak, which is just about visible as a slight hump in vStr. \n",
    "vStr has large gamma components absent from HC.\n",
    "\n",
    "The coherence between the to vStr signals is high overall compared to that between vStr and HC. \n",
    "The vStr gamma frequencies are particularly coherent within the vStr. \n",
    "This is what we would expect from plotting the raw signals alongside each other \n",
    "-- there is a clear relationship, as you can readily verify. \n",
    "\n",
    "However, it is more difficult to interpret if, say, \n",
    "a vStr-HC coherence value of 0.1 at 25Hz is meaningful. \n",
    "Such comparisons are easier to make by moving to FieldTrip."
   ]
  },
  {
   "cell_type": "markdown",
   "metadata": {},
   "source": [
    "## Comparison of vStr-HC coherence between experimental conditions\n",
    "\n",
    "Based on previous work \n",
    "(e.g. [van der Meer and Redish, 2011](http://www.jneurosci.org/content/31/8/2843.short?rss=1)) \n",
    "we might ask: is the coherence between hippocampus and ventral striatum modulated by task events? \n",
    "Here we will determine if there is a change in coherence between _approach to the reward site_\n",
    "and _reward receipt_. \n",
    "This entails estimating the coherence spectrum for two different task epochs,\n",
    "both aligned to the time at which the rat nosepoked in the reward well. \n",
    "FieldTrip is ideal for this, especially because we will be doing the same operations on multiple LFPs.\n",
    "\n",
    "First, let's load the data. \n",
    "In your path shortcut, remember to add the FieldTrip path first, \n",
    "and then the lab codebase path, and also do a ''git pull''.\n",
    "\n",
    "```matlab\n",
    "cd('D:\\data\\R016\\R016-2012-10-03'); \n",
    "LoadExpKeys;\n",
    "\n",
    "cfg.fc = cat(2,ExpKeys.goodGamma(1:2),ExpKeys.goodTheta(1));\n",
    "data = ft_read_neuralynx_interp(cfg.fc);\n",
    "data.label = {'vStr1','vStr2','HC'};\n",
    "```\n",
    "\n",
    "We will segment the data into trials using a \"trialfun\", \n",
    "a function that conforms to a specific %%FieldTrip%% output format (see the \n",
    "[manual](http://www.fieldtriptoolbox.org/example/making_your_own_trialfun_for_conditional_trial_definition)) \n",
    "when extracting task-specific timestamps. \n",
    "For this data set (see the [paper](http://onlinelibrary.wiley.com/doi/10.1111/ejn.13069/full) for the details), \n",
    "the timestamps of interest are the times our subject (rat) noespoked into the reward receptacles, \n",
    "in anticipation of receiving a number of pellets. \n",
    "\n",
    "```matlab\n",
    "%% trialify\n",
    "data.hdr.Fs = data.fsample;\n",
    "\n",
    "cfg = [];\n",
    "cfg.trialfun = 'ft_trialfun_lineartracktone2';\n",
    "cfg.trialdef.hdr = data.hdr;\n",
    "cfg.trialdef.pre = 2.5; cfg.trialdef.post = 5; % define time window of interest\n",
    " \n",
    "cfg.trialdef.eventtype = 'nosepoke'; % could be 'nosepoke', 'reward', 'cue'; this and what follows are all task-specific\n",
    "cfg.trialdef.location = 'both'; % could be 'left', 'right', 'both'\n",
    "cfg.trialdef.block = 'both'; % could be 'value', 'risk', 'both'\n",
    "cfg.trialdef.cue = {'c1','c3','c5'}; % cell array with choice of elements {'c1','c3','c5','lo','hi'} (1, 3, 5 pellets; low and high risk)\n",
    " \n",
    "[trl, event] = ft_trialfun_lineartracktone2(cfg);\n",
    "cfg.trl = trl;\n",
    " \n",
    "data_trl = ft_redefinetrial(cfg,data);\n",
    "```\n",
    "\n",
    "Next, we compute the trial-averaged cross-spectrum; \n",
    "note the similarity to the code used for computing spectrograms in a \n",
    "[previous module](analysis:course-w16:week7) \n",
    "-- we have changed ''cfg.output'' from 'pow' to 'powandcsd' \n",
    "(csd is for for cross-spectral density):\n",
    "\n",
    "```matlab\n",
    "cfg              = [];\n",
    "cfg.output       = 'powandcsd';\n",
    "cfg.method       = 'mtmconvol';\n",
    "cfg.taper        = 'hanning';\n",
    "cfg.foi          = 1:1:100; % frequencies to use\n",
    "cfg.t_ftimwin    = 20./cfg.foi;  % frequency-dependent, 20 cycles per time window\n",
    "cfg.keeptrials   = 'yes';\n",
    "cfg.channel      = {'vStr1', 'vStr2', 'HC1'};\n",
    "cfg.channelcmb   = {'vStr2', 'HC1'; 'vStr2', 'vStr1'}; % channel pairs to compute csd for\n",
    "\n",
    "cfg.toi          = -2:0.05:0; % pre-nosepoke baseline (time 0 is time of nosepoke)\n",
    "\n",
    "TFR_pre = ft_freqanalysis(cfg, data_trl);\n",
    "```\n",
    "\n",
    "Now we can compute the coherence from the cross-spectrum and the indvidual spectra:\n",
    "\n",
    "```matlab\n",
    "cfg            = [];\n",
    "cfg.method     = 'coh'; % compute coherence; other measures of connectivity are also available\n",
    "fd             = ft_connectivityanalysis(cfg,TFR_pre);\n",
    "```\n",
    "\n",
    "And finally plot the results -- for this we are bypassing ft's built-in plotter \n",
    "so that we can add some custom touches more easily:\n",
    "\n",
    "```matlab\n",
    "figure;\n",
    "cols = 'rgb';\n",
    "for iCmb = 1:size(fd.labelcmb,1)\n",
    "    lbl{iCmb} = cat(2,fd.labelcmb{iCmb,1},'-',fd.labelcmb{iCmb,2});\n",
    "      \n",
    "    temp = nanmean(sq(fd.cohspctrm(iCmb,:,:)),2);\n",
    "    h(iCmb) = plot(fd.freq,temp,cols(iCmb));\n",
    "    hold on;\n",
    "end\n",
    "legend(h,lbl);\n",
    "```"
   ]
  },
  {
   "cell_type": "markdown",
   "metadata": {},
   "source": [
    "** The resulting coherence spectra are for the pre-nosepoke period \n",
    "(see ''cfg.toi'' in the frequency analysis step above).\n",
    "Also compute the coherence spectrum for the post-nosepoke period (0 to 2 seconds). **"
   ]
  },
  {
   "cell_type": "markdown",
   "metadata": {},
   "source": [
    "As you will see, a few differences in the HC-vStr coherence between the two windows are visible, \n",
    "such as the elevated 15Hz coherence during reward approach. \n",
    "To get a sense of where this may be coming from (artifact or biological? a single trial or reliable?)\n",
    "it would be helpful to plot the raw LFPs aligned to the nosepoke time;\n",
    "of course, more sessions would need to be analyzed as well to obtain errorbars on the data.\n",
    "\n",
    "Notice that in our trial selection, we included trials on which \n",
    "1 food pellet, 3 food pellets, and 5 food pellets were all included together\n",
    "(''cfg.trialdef.cue = {'c1','c3','c5'};'')."
   ]
  },
  {
   "cell_type": "markdown",
   "metadata": {},
   "source": [
    "** Compare the coherence spectra for the 1-pellet and 5-pellet trials. What do you notice? **"
   ]
  },
  {
   "cell_type": "markdown",
   "metadata": {},
   "source": [
    "# Time-frequency coherence analysis\n",
    "\n",
    "A limitation of the coherence analyses up to this point has been that, \n",
    "like Welch's PSD, they have been averages. \n",
    "Just like the spectrogram provided a time-frequency view of signal power, \n",
    "we can attempt to compute a _coherogram_, coherence as a function of time and frequency. \n",
    "\n",
    "In fact, the previous steps in FieldTrip already did this, \n",
    "so we can plot it (note, this is the \"post-nosepoke\" epoch):\n",
    "\n",
    "```matlab\n",
    "iC = 1; % which signal pair to plot\n",
    "lbl = [fd.labelcmb{1,:}]; % get the label of this pair\n",
    "imagesc(fd.time,fd.freq,sq(fd.cohspctrm(iC,:,:))); axis xy; colorbar\n",
    "xlabel('time (s)'); ylabel('Frequency (Hz)'); title(lbl);\n",
    "```\n",
    "\n",
    "You should get:\n",
    "\n",
    "<img src=\"11-vstr_hc_cohereogram.png\">\n",
    "\n",
    "As you can see, the coherence at higher frequencies in particular looks very noisy. \n",
    "These \"spurious\" high coherence bins commonly show up when estimating coherence,\n",
    "typically when one or both signals have little power in certain frequencies."
   ]
  },
  {
   "cell_type": "markdown",
   "metadata": {},
   "source": [
    "** Change the time window to a fixed 1s. \n",
    "How does the coherogram change? **"
   ]
  },
  {
   "cell_type": "markdown",
   "metadata": {},
   "source": [
    "We can improve the robustness of our estimate by giving up some time resolution. \n",
    "Of course, averaging over more trials is another approach; \n",
    "other spectral estimation methods such as wavelets can also improve things \n",
    "(if you are interested in this, there is a nice MATLAB tutorial on wavelet coherence \n",
    "[here](http://www.mathworks.com/help/wavelet/examples/wavelet-coherence.html))."
   ]
  },
  {
   "cell_type": "markdown",
   "metadata": {},
   "source": [
    "# Beyond coherence\n",
    "\n",
    "Coherence is only one of many measures that attempt to characterize the relationship between LFPs. \n",
    "A glance at the [documentation](http://fieldtrip.fcdonders.nl/reference/ft_connectivityanalysis)\n",
    "for ''ft_connectivityanalysis()'' reveals a who's who of popular neuroscience tools \n",
    "for assessing functional connectivity.\n",
    "A review of these methods is beyond the scope of this module, \n",
    "but in general they address some of the limitations of the coherence measure. \n",
    "For instance:\n",
    "\n",
    "- Phase slope index (PSI), Granger causality, and partial directed coherence (PDC) are _directional_ measures \n",
    "that under certain circumstances can capture the direction of the flow of information between two signals. \n",
    "We will discuss a few of these in this module, below.\n",
    "- Weighted phase lag index (WPLI) can exclude contributions from a volume-conducted source common to both signals\n",
    "- Pairwise phase consistency (PPC) addresses some statistical issues \n",
    "of how coherence estimates are affected by the amount of data\n",
    "\n",
    "For an illustration of how these improved methods \n",
    "can give a more reliable estimate of interactions than coherence, \n",
    "let's give pairwise phase consistency a try:\n",
    "\n",
    "```matlab\n",
    "cfg            = [];\n",
    "cfg.method     = 'ppc';\n",
    "fd             = ft_connectivityanalysis(cfg,TFR_post);\n",
    "```"
   ]
  },
  {
   "cell_type": "markdown",
   "metadata": {},
   "source": [
    "Plot the coherogram as above, changing ''cohspectrm'' to ''ppcspctrm'' in the plotting code. \n",
    "You should get (again for the post-nosepoke epoch):\n",
    "\n",
    "<img src=\"11-vstr_hc_cohereogram2.png\">"
   ]
  },
  {
   "cell_type": "markdown",
   "metadata": {},
   "source": [
    "Note that some of the spurious high-frequency events have now been eliminated. \n",
    "In general, however, estimates of coherence and other connectivity measures\n",
    "require relatively large amounts of data to obtain \n",
    "-- more than the small number of trials from one single session considered here."
   ]
  },
  {
   "cell_type": "markdown",
   "metadata": {},
   "source": [
    "# Amplitude cross-correlation\n",
    "\n",
    "As should be clear from the discussion of coherence so far, \n",
    "it is a non-directional measure -- it doesn't address whether signal A leads or lags signal B. \n",
    "There are many methods out there that can be used to address this directionality question. \n",
    "One that you already have the tools to perform is computing the _amplitude cross-correlation_ between two signals,\n",
    "filtered in a specific frequency band. \n",
    "Looking at the lower left panel in the figure at the top of the page, \n",
    "you can see that the amplitude envelope (red line) is clearly correlated between the two signals. \n",
    "Computing the cross-correlation would establish at what time lead (or lag) that correlation is maximal;\n",
    "a peak offset from zero would indicate a specific temporal asymmetry suggesting one signal leads the other.\n",
    "\n",
    "We will not cover this method in detail here \n",
    "since you already know how to compute amplitude envelopes and cross-correlations; \n",
    "however, if you'd like to delve more into this, example code that performs this analysis, \n",
    "including a very nice shuffling procedure to determine chance level, \n",
    "can be found on the vandermeerlab papers repository \n",
    "[here](https://github.com/mvdm/papers/blob/master/Catanese_vanderMeer2016/master/MASTER_AmplCorr.m). \n",
    "A recent paper introducing the method is \n",
    "[Adhikari et al. (2010)](http://www.sciencedirect.com/science/article/pii/S0165027010003432). "
   ]
  },
  {
   "cell_type": "markdown",
   "metadata": {},
   "source": [
    "# Granger causality: introduction\n",
    "\n",
    "The concept of Granger causality \n",
    "([Granger 1969](http://www.jstor.org/stable/1912791?seq=1#page_scan_tab_contents)) is simple: \n",
    "if a signal $X$ \"Granger-causes\" signal $Y$, \n",
    "then knowing the value of $X$ improves your ability to predict $Y$ \n",
    "beyond what can be predicted from the history of $Y$ alone (see also \n",
    "[Seth 2007](http://www.scholarpedia.org/article/Granger_causality)). \n",
    "Thus, Granger-causality is inferred based on the relative fits of statistical models applied to time series data.\n",
    "\n",
    "More mathematically:\n",
    "\n",
    "$$\n",
    "M_1: Y(t) = \\sum_{l = 1}^{L} a_l Y(t-l) + \\epsilon_1 \\\\ \n",
    "M_2: Y(t) = \\sum_{l = 1}^{L} a'_l Y(t-l) + b'_l X(t-l) + \\epsilon_2\n",
    "$$\n",
    "\n",
    "If $M_2$ provides a better fit to the data \n",
    "(best predicts the value of $Y(t)$) then $X$ is said to Granger-cause $Y$. \n",
    "The parameter $L$ indicates the number of samples into the past that are included in the model; \n",
    "as was the case in our discussion of [filters](analysis:course-w16:week6), \n",
    "the _order_ of the model refers to how many past samples are included (i.e. the value of $L$).\n",
    "\n",
    "In general, the above models $M$ are examples of **autoregressive** (AR) models: \n",
    "the dependent variable $Y(t)$ is regressed against linear combinations of past values of that variable itself, \n",
    "where the coefficients $a$ and $b$ can be thought of as the regression coefficients or weights of each past value.\n",
    "You may also encounter the term vector autoregressive (VAR) models, \n",
    "this is simply the multivariate extension of AR models. \n",
    "$M_2$ above is a VAR model since it has two variables. \n",
    "There is a large literature on (V)AR models, \n",
    "since it is a major tool in forecasting of all sorts of things ranging from the stock market to the weather."
   ]
  },
  {
   "cell_type": "markdown",
   "metadata": {},
   "source": [
    "# Generating artificial data\n",
    "\n",
    "To explore how to fit AR models to data, \n",
    "it's a good idea to start with some artificial data of which we know the structure. \n",
    "Earlier in this module we did so \"by hand\", \n",
    "but here we will use FieldTrip's useful ''ft_connectivitysimulation()'':\n",
    "\n",
    "```matlab\n",
    "cfg             = [];\n",
    "cfg.ntrials     = 1000;\n",
    "cfg.triallength = 5; % in seconds\n",
    "cfg.fsample     = 1000;\n",
    "cfg.nsignal     = 2; % two signals, X and Y, which start out as identical white noise\n",
    "\n",
    "cfg.method      = 'linear_mix';\n",
    "cfg.mix         = [0; 0]; % multiply white noise for X and Y by this\n",
    "cfg.delay       = [0; 0]; % Y is n samples delayed relative to X (both 0)\n",
    "cfg.bpfilter    = 'no';\n",
    "cfg.absnoise    = 1; % add independent noise to both signals, so now X and Y should be independent\n",
    "\n",
    "data            = ft_connectivitysimulation(cfg);\n",
    "data.label      = {'X','Y'};\n",
    "```\n",
    "\n",
    "The above code generates 1000 trials of 5 seconds each of independent white noise \n",
    "for two signals $X$ and $Y$. \n",
    "We do so in a somewhat roundabout way, \n",
    "by first setting the common signal in A and B to zero for each (''cfg.mix = [0; 0]'') \n",
    "and then adding independent noise of amplitude 1 to each (''cfg.absnoise = 1'').\n",
    "Why this is so will become clear later when we generate more interesting combinations of signals."
   ]
  },
  {
   "cell_type": "markdown",
   "metadata": {},
   "source": [
    "** Verify that indeed the two signals X and Y are uncorrelated, \n",
    "as one would expect from independently generated white noise. \n",
    "One way to do so is to compute a correlation coefficient for each trial \n",
    "and plot the distribution of resulting correlation coefficients (use ''corrcoef()''). **"
   ]
  },
  {
   "cell_type": "markdown",
   "metadata": {},
   "source": [
    "Next, we can fit our AR model:\n",
    "\n",
    "```matlab\n",
    "cfg_ar         = [];\n",
    "cfg_ar.order   = 3;\n",
    "cfg_ar.toolbox = 'bsmart';\n",
    "mdata          = ft_mvaranalysis(cfg_ar, data);\n",
    "```\n",
    "\n",
    "Note the ''order'' parameter, which specifies how far back to estimate coefficients for \n",
    "(the $L$ parameter in the equations above). \n",
    "Although this is FieldTrip code, it uses the [BSMART](http://www.brain-smart.org/) toolbox \n",
    "under the hood to fit the model. \n",
    "The ''ft_mvaranalysis()'' function has some useful options we aren't using right now, \n",
    "such as the ability to estimate errorbars with the ''jackknife'' option. \n",
    "This takes a long time, however, so we don't do this now.\n",
    "\n",
    "What we are interested in are the coefficients $a$ and $b$, \n",
    "i.e. the extent that we can predict each signal separately based on its own past, \n",
    "and then how much that prediction can be improved by knowledge of the other signal.\n",
    "\n",
    "To plot these coefficients, we can do:\n",
    "\n",
    "```matlab\n",
    "figure; subplot(221)\n",
    "\n",
    "labels = {'X->X','X->Y';'Y->X','Y->Y'}; cols = 'rgbc';\n",
    "nP = 0;\n",
    "for iI = 1:cfg.nsignal   \n",
    "    for iJ = 1:cfg.nsignal\n",
    "        nP = nP + 1;\n",
    "    \n",
    "        h(nP) = plot(1:cfg_ar.order,sq(mdata.coeffs(iI,iJ,:)),cols(nP));\n",
    "        hold on;\n",
    "        plot(1:cfg_ar.order,sq(mdata.coeffs(iI,iJ,:)),'.','MarkerSize',20,'Color',cols(nP));\n",
    "\n",
    "    end\n",
    "end\n",
    "set(gca,'FontSize',18,'LineWidth',1); box off;\n",
    "set(h,'LineWidth',2);\n",
    "xlabel('lag (samples)'); ylabel('coefficient');\n",
    "title('cfg.delay = [0; 0];');\n",
    "legend(h,labels(:));\n",
    "```\n",
    "\n",
    "You should see that the coefficient values are very small (on the order of $10^{-4}$). \n",
    "This is what we expect from signals that we know to be uncorrelated; \n",
    "these values should not be statistically different from zero,\n",
    "which would mean that we cannot predict anything about our signal based on its past \n",
    "-- the definition of white noise!\n",
    "\n",
    "Let's now create some signals that do have some structure: \n",
    "\n",
    "```matlab\n",
    "%%\n",
    "cfg.mix         = [0.8; 0.8]; % X and Y are identical white noise with amplitude 0.8\n",
    "cfg.absnoise    = 0.2; % add amplitude 0.2 *independent* noise\n",
    "cfg.delay       = [0; 2]; % advance Y 2 samples relative to X\n",
    "\n",
    "data            = ft_connectivitysimulation(cfg);\n",
    "data.label      = {'X','Y'};\n",
    "```"
   ]
  },
  {
   "cell_type": "markdown",
   "metadata": {},
   "source": [
    "** Fit the VAR model again, and plot the coefficients in the next subplot. **\n",
    "\n",
    "You should get something like:\n",
    "\n",
    "<img src=\"11-var-model.png\">"
   ]
  },
  {
   "cell_type": "markdown",
   "metadata": {},
   "source": [
    "Note how for the delay case, we correctly estimate that X can be predicted from Y, \n",
    "at the expected delay of 2 samples.\n",
    "\n",
    "It is important to be aware of the limitations of Granger causality. \n",
    "The term \"Granger-causes\" is often used to indicate the inherently descriptive nature of VAR models, \n",
    "which cannot distinguish true causality from a number of alternative scenarios. \n",
    "Prominent among these is the possibility of a common input Z affecting both X and Y, \n",
    "but with different time lags. \n",
    "X may then \"Granger-cause\" Y, without any direct anatomical connection between them.\n",
    "A different, all-too common case is when signals X and Y have different signal-to-noise ratios; \n",
    "we will highlight this issue in the next section. \n",
    "More generally, it is unclear what conclusions can be drawn from Granger causality \n",
    "in systems that with recurrent (feedback) connections,\n",
    "which are of course ubiquitous in the brain -- a nice paper demonstrating and discussing this is\n",
    "[Kispersky et al. 2011](http://neuralsystemsandcircuits.biomedcentral.com/articles/10.1186/2042-1001-1-9)."
   ]
  },
  {
   "cell_type": "markdown",
   "metadata": {},
   "source": [
    "# Spectrally resolved Granger causality\n",
    "\n",
    "Given how ubiquitous oscillations are in neural data, \n",
    "it is often informative to not fit VAR models directly in the time domain \n",
    "(as we did in the previous section) but go to the frequency domain. \n",
    "Intuitively, _spectrally resolved_ Granger causality measures how much of the power in $X$, \n",
    "not accounted for by $X$ itself, can be attributed to $Y$ \n",
    "([technical paper](http://www.sciencedirect.com/science/article/pii/S1053811908001328)). \n",
    "To explore this, we'll generate some more artificial data:\n",
    "\n",
    "```matlab\n",
    "nTrials = 1000;\n",
    "\n",
    "cfg             = [];\n",
    "cfg.ntrials     = nTrials;\n",
    "cfg.triallength = 5;\n",
    "cfg.fsample     = 1000;\n",
    "cfg.nsignal     = 2;\n",
    "\n",
    "cfg.method      = 'linear_mix';\n",
    "cfg.mix         = [0.5; 0.5];\n",
    "cfg.delay       = [0; 4];\n",
    "cfg.bpfilter    = 'yes';\n",
    "cfg.bpfreq      = [50 100]; % white noise gets filtered in this frequency band\n",
    "cfg.absnoise    = 0.5; % add independent noise to both signals\n",
    "\n",
    "data            = ft_connectivitysimulation(cfg);\n",
    "data.label      = {'X','Y'};\n",
    "```\n",
    "\n",
    "Note that we are now using the ''bpfilter'' cfg option, \n",
    "which filters the original white noise in the specified frequency band. \n",
    "Thus, X and Y are 50% identical signal with frequency content between 50 and 100 Hz,\n",
    "and 50% independent noise.\n",
    "(You can inspect what this looks like by doing ''ft_databrowser([],data)'').\n",
    "\n",
    "Next, we perform the frequency decomposition, FieldTrip-style:\n",
    "\n",
    "```matlab\n",
    "cfg_TFR = [];\n",
    "cfg_TFR.channel = {'X','Y'};\n",
    "cfg_TFR.channelcmb = {'X' 'Y'};\n",
    "cfg_TFR.method = 'mtmfft';\n",
    "cfg_TFR.output = 'fourier';\n",
    "cfg_TFR.foi = 1:1:150;\n",
    "cfg_TFR.taper = 'hanning';\n",
    "\n",
    "TFR = ft_freqanalysis(cfg_TFR,data);\n",
    "```\n",
    "\n",
    "Now we can compute the Granger spectra:\n",
    "\n",
    "```matlab\n",
    "cfg_G = [];\n",
    "cfg_G.method = 'granger';\n",
    "cfg_G.channel = {'X','Y'};\n",
    "cfg_G.channelcmb = {'X' 'Y'};\n",
    "\n",
    "C = ft_connectivityanalysis(cfg_G,TFR);\n",
    "```\n",
    "\n",
    "...and plot the results:\n",
    "\n",
    "```matlab\n",
    "figure;\n",
    "for iP = 1:4\n",
    "    subplot(2,2,iP);\n",
    "    plot(C.freq,C.grangerspctrm(iP,:));\n",
    "    set(gca,'FontSize',14,'YLim',[0 0.5]);\n",
    "    title([C.labelcmb{iP,:}]);\n",
    "end\n",
    "```\n",
    "\n",
    "You should get something like\n",
    "\n",
    "<img src=\"11-granger-spectral.png\">\n",
    "\n",
    "These panels show how much of the power in X (or Y) \n",
    "can be predicted based on itself, or the other signal. \n",
    "You can see that the top right panel (Y→X) has higher coefficients than the reverse (X→Y),\n",
    "consistent with the 4-sample advancement of Y relative to X."
   ]
  },
  {
   "cell_type": "markdown",
   "metadata": {},
   "source": [
    "** Why are there non-zero coefficients for the X→Y direction? \n",
    "Test your hypothesis with artificial data. **"
   ]
  },
  {
   "cell_type": "markdown",
   "metadata": {},
   "source": [
    "Now, let's consider the following case:\n",
    "\n",
    "```matlab\n",
    "cfg             = [];\n",
    "cfg.ntrials     = nTrials;\n",
    "cfg.triallength = 5;\n",
    "cfg.fsample     = 1000;\n",
    "cfg.nsignal     = 2;\n",
    "\n",
    "cfg.method      = 'linear_mix';\n",
    "cfg.mix         = [1; 0.5]; % X bigger than Y\n",
    "cfg.delay       = [0; 0];\n",
    "cfg.bpfilter    = 'yes';\n",
    "cfg.bpfreq      = [50 100]; % white noise gets filtered in this frequency band\n",
    "cfg.absnoise    = 0.5; % add independent noise to both signals\n",
    "\n",
    "data            = ft_connectivitysimulation(cfg);\n",
    "data.label      = {'X','Y'};\n",
    "```\n",
    "\n",
    "Note that $X$ is the same signal as $Y$, but twice as large; \n",
    "there is _no delay_ between them. \n",
    "Independent noise is then added to both $X$ and $Y$ as before."
   ]
  },
  {
   "cell_type": "markdown",
   "metadata": {},
   "source": [
    "** Compute the Granger cross-spectra for these signals as was done above. **"
   ]
  },
  {
   "cell_type": "markdown",
   "metadata": {},
   "source": [
    "You should see that X Granger-causes Y."
   ]
  },
  {
   "cell_type": "markdown",
   "metadata": {},
   "source": [
    "** How is this possible, given that we generated X and Y to have zero delay? **"
   ]
  },
  {
   "cell_type": "markdown",
   "metadata": {},
   "source": [
    "This case, in which two (near-)identical signals have different signal-to-noise ratios, \n",
    "is very common in neuroscience. \n",
    "As you have seen, Granger causality can be easily fooled by this.\n",
    "\n",
    "How can we detect if we are dealing with a Granger-causality false positive like this? \n",
    "An elegant way is to _reverse_ both signals and test again; \n",
    "if the Granger asymmetry persists after this, we have a tell-tale of a signal-to-noise Granger artifact."
   ]
  },
  {
   "cell_type": "markdown",
   "metadata": {},
   "source": [
    "Reverse the two signals and compute Granger cross-spectra, \n",
    "both for the zero-delay artifact case and for the true causal case above. \n",
    "Verify that this reverse-Granger test accurately distinguishes the two cases. \n",
    "[This paper](http://www.sciencedirect.com/science/article/pii/S105381191401009X) \n",
    "discusses these issues in more detail and has thoughtful discussion."
   ]
  },
  {
   "cell_type": "markdown",
   "metadata": {},
   "source": [
    "# Phase-slope index\n",
    "\n",
    "If we have a situation such as the above, \n",
    "it is possible that a true lag or lead between two signals is obscured by different signal-to-noise ratios. \n",
    "If such a case is detected by the reverse-Granger analysis, \n",
    "how can we proceed with identifying the true delay?\n",
    "\n",
    "A possible solution is offered by the analysis of **phase slopes**: \n",
    "the idea that for a given lead or lag between two signals, \n",
    "the phase lag (or lead) should systematically depend on frequency \n",
    "([Nolte et al. (2008)](http://arxiv.org/pdf/0712.2352.pdf), \n",
    "see also precedents in the literature such as \n",
    "[Schoffelen et al. (2005)](http://science.sciencemag.org/content/308/5718/111.short)).\n",
    "\n",
    "[Catanese and van der Meer (2016)](https://github.com/mvdm/papers/tree/master/Catanese_vanderMeer2016)\n",
    "diagram the idea as follows:\n",
    "\n",
    "<img src=\"11-phase-slope_index.png\">\n",
    "\n",
    "In the example in (**A**) above, the red signal always leads the blue signal by 5 ms, \n",
    "which results in a different phase lag across frequencies (20, 25 and 33.3 Hz in this example).\n",
    "This is because 5ms is a much bigger slice of a full oscillation cycle at 33.3Hz than it is at 25Hz; \n",
    "the bottom panel shows the linear relationship between phase lag and frequency for the above examples, \n",
    "resulting in a positive slope for the red-blue phase difference indicating a red signal lead.\n",
    "\n",
    "(**B**) shows the raw phase differences for an example real data session in the top panel: \n",
    "note that the phase lag as a function of frequency contains \n",
    "approximately linear regions in the \"low-gamma\" (45-65 Hz, green) and \"high-gamma\" (70-90 Hz, red) frequency bands,\n",
    "with slopes in opposite directions. \n",
    "The phase slope (middle panel) is the derivative of the raw phase lag, \n",
    "and the reversal of the phase slope sign around 65-70 Hz indicates that high and low gamma \n",
    "are associated with opposite directionality in the vStr-mPFC system, \n",
    "with vStr leading for low gamma and mPFC leading for high gamma oscillations. \n",
    "The bottom panel shows the phase slope index (PSI) which normalizes the raw phase slope by its standard deviation.\n",
    "\n",
    "Thus, to summarize, the phase slope index (PSI) is a normalized form of the phase slope \n",
    "-- obtained by dividing the raw phase slope at each frequency by its standard deviation \n",
    "(estimated using a bootstrap). \n",
    "The phase slope itself is obtained by taking the derivative (slope) \n",
    "of the raw phase differences across frequencies;\n",
    "as discussed above, these raw phase differences can be obtained by \n",
    "estimating the phase (angle) of the cross-spectrum.\n",
    "\n",
    "The time lag (or lead) between two signals given a phase slope is:\n",
    "\n",
    "$$\n",
    "t_{a-b} = [\\frac{\\phi_{a-b}(f+df) - \\phi_{a-b}(f)}{df}]/ 360^{\\circ}\n",
    "$$\n",
    "\n",
    "where $t_{a-b}$ is the time lag (or lead) in seconds between signals $a$ and $b$, \n",
    "to be inferred from the phase differences $\\phi_{a-b}$ (in degrees) \n",
    "observed at frequencies $f$ and $f+df$. \n",
    "For instance, given a phase difference $\\phi_{a-b} = 45^{\\circ}$ between signals $a$ and $b$ at $f = 25$Hz, \n",
    "and $\\phi_{a-b} = 36^{\\circ}$ at $f = 20$Hz, $t_{a-b} = [(45-36)/(25-20)]/360 = 5$ms \n",
    "(the example in panel **A** above). \n",
    "As $df \\to 0$, the fraction shown in square brackets above corresponds to the derivative $\\phi_{a-b}'(f)$, \n",
    "i.e. the phase slope. Positive time lags indicate that $a$ leads $b$.\n",
    "\n",
    "To test how this works, let's generate two signals with an ambiguous Granger-relationship:\n",
    "\n",
    "```matlab\n",
    "nTrials = 1000;\n",
    "\n",
    "cfg             = [];\n",
    "cfg.ntrials     = nTrials;\n",
    "cfg.triallength = 5;\n",
    "cfg.fsample     = 1000;\n",
    "cfg.nsignal     = 2;\n",
    "\n",
    "cfg.method      = 'linear_mix';\n",
    "cfg.mix         = [1; 0.3]; % X bigger than Y\n",
    "cfg.delay       = [0; 4];\n",
    "cfg.bpfilter    = 'yes';\n",
    "cfg.bpfreq      = [50 100]; % white noise gets filtered in low gamma band\n",
    "cfg.absnoise    = 0.5; % add independent noise to both signals\n",
    "\n",
    "data            = ft_connectivitysimulation(cfg);\n",
    "data.label      = {'X','Y'};\n",
    "```\n",
    "\n",
    "Note that Y leads X, but X has larger amplitude than Y."
   ]
  },
  {
   "cell_type": "markdown",
   "metadata": {},
   "source": [
    "** Verify that according to the Granger spectra, \n",
    "there is no evidence to support an asymemtric (Granger-causal) relationship between Y and X. \n",
    "Since we generated the signals with a 4 sample lead for Y, we know this to be incorrect. **"
   ]
  },
  {
   "cell_type": "markdown",
   "metadata": {},
   "source": [
    "Now, let's compute the phase slope. \n",
    "We start with the Fourier decomposition, as before:\n",
    "\n",
    "```matlab\n",
    "cfg_TFR = [];\n",
    "cfg_TFR.channel = {'X','Y'};\n",
    "cfg_TFR.channelcmb = {'X' 'Y'};\n",
    "cfg_TFR.method = 'mtmfft';\n",
    "cfg_TFR.output = 'fourier';\n",
    "cfg_TFR.foi = 1:1:150;\n",
    "cfg_TFR.taper = 'hanning';\n",
    "\n",
    "TFR = ft_freqanalysis(cfg_TFR,data);\n",
    "```\n",
    "\n",
    "But now, we use a different method for the connectivity analysis:\n",
    "\n",
    "```matlab\n",
    "cfg_psi = [];\n",
    "cfg_psi.method = 'psi';\n",
    "cfg_psi.bandwidth = 8; % number of frequencies to compute slope over\n",
    "cfg_psi.channel = {'X','Y'};\n",
    "cfg_psi.channelcmb = {'X' 'Y'};\n",
    "\n",
    "C = ft_connectivityanalysis(cfg_psi,TFR);\n",
    "```\n",
    "\n",
    "We plot the phase slope between Y and X:\n",
    "\n",
    "```matlab\n",
    "figure;\n",
    "plot(C.freq,sq(C.psispctrm(2,1,:)));\n",
    "xlabel('Frequency'); ylabel('Phase slope');\n",
    "```\n",
    "\n",
    "The positive phase slope correctly identified that Y leads X."
   ]
  },
  {
   "cell_type": "markdown",
   "metadata": {},
   "source": [
    "** What are the units on the vertical axis? **"
   ]
  },
  {
   "cell_type": "markdown",
   "metadata": {},
   "source": [
    "# Challenges\n",
    "\n",
    "- If you have your own data with at least two signals that you suspect may be related, \n",
    "identify an appropriate functional connectivity analysis and apply it to the data. \n",
    "Comment on why the chosen method was used.\n",
    "\n",
    "- The \"theta\" rhythm, which is about 8 Hz in moving rodents, \n",
    "is important in coordinating the spike timing of hippocampal neurons.\n",
    "However, theta frequencies also appear in LFPs recorded from other brain areas, \n",
    "including the prefrontal cortex and the ventral striatum.\n",
    "One hypothesis is that those areas simply \"inherit\" theta activity from their hippocampal inputs.\n",
    "Test this idea using data from R020, which has electrodes in hippocampus and ventral striatum, \n",
    "and your chosen connectivity analysis method."
   ]
  }
 ],
 "metadata": {
  "anaconda-cloud": {},
  "kernelspec": {
   "display_name": "Python 3",
   "language": "python",
   "name": "python3"
  },
  "language_info": {
   "codemirror_mode": {
    "name": "ipython",
    "version": 3
   },
   "file_extension": ".py",
   "mimetype": "text/x-python",
   "name": "python",
   "nbconvert_exporter": "python",
   "pygments_lexer": "ipython3",
   "version": "3.6.1"
  },
  "toc": {
   "colors": {
    "hover_highlight": "#DAA520",
    "running_highlight": "#FF0000",
    "selected_highlight": "#FFD700"
   },
   "moveMenuLeft": true,
   "nav_menu": {
    "height": "425px",
    "width": "252px"
   },
   "navigate_menu": true,
   "number_sections": true,
   "sideBar": true,
   "threshold": 4,
   "toc_cell": false,
   "toc_section_display": "block",
   "toc_window_display": true
  }
 },
 "nbformat": 4,
 "nbformat_minor": 1
}
