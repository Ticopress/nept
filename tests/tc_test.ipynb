{
 "cells": [
  {
   "cell_type": "code",
   "execution_count": 2,
   "metadata": {
    "collapsed": true
   },
   "outputs": [],
   "source": [
    "%matplotlib inline\n",
    "import numpy as np\n",
    "import matplotlib.pyplot as plt\n",
    "import vdmlab as vdm"
   ]
  },
  {
   "cell_type": "code",
   "execution_count": 17,
   "metadata": {
    "collapsed": false
   },
   "outputs": [
    {
     "data": {
      "text/plain": [
       "array([[ nan,  nan,  nan],\n",
       "       [  1.,  nan,  nan],\n",
       "       [  1.,  nan,  nan]])"
      ]
     },
     "execution_count": 17,
     "metadata": {},
     "output_type": "execute_result"
    }
   ],
   "source": [
    "tuning_curve = np.array([[3., 0., 0.]])\n",
    "counts = np.array([[0., 2., 4.]])\n",
    "binsize = 1.0\n",
    "prob = vdm.bayesian_prob(counts, tuning_curve, binsize)\n",
    "prob"
   ]
  },
  {
   "cell_type": "code",
   "execution_count": 21,
   "metadata": {
    "collapsed": false
   },
   "outputs": [
    {
     "data": {
      "text/plain": [
       "True"
      ]
     },
     "execution_count": 21,
     "metadata": {},
     "output_type": "execute_result"
    }
   ],
   "source": [
    "tuning_curve = np.array([[10.]])\n",
    "counts = np.array([[0., 2., 4.]])\n",
    "binsize = 1.0\n",
    "prob = vdm.bayesian_prob(counts, tuning_curve, binsize)\n",
    "prob[0][0]\n",
    "np.isnan(prob[0][0])"
   ]
  },
  {
   "cell_type": "code",
   "execution_count": 22,
   "metadata": {
    "collapsed": true
   },
   "outputs": [],
   "source": [
    "assert np.isnan(prob[0][0])"
   ]
  },
  {
   "cell_type": "code",
   "execution_count": 59,
   "metadata": {
    "collapsed": false
   },
   "outputs": [
    {
     "data": {
      "text/plain": [
       "array([[  3.10880460e-02,   9.67364171e-01,   1.54778267e-03],\n",
       "       [  9.98834476e-01,   1.94254064e-04,   9.71270319e-04],\n",
       "       [  1.33827265e-01,   3.33143360e-02,   8.32858399e-01]])"
      ]
     },
     "execution_count": 59,
     "metadata": {},
     "output_type": "execute_result"
    }
   ],
   "source": [
    "tuning_curve = np.array([[2., 0., 0.],\n",
    "                             [0., 5., 0.],\n",
    "                             [0., 0., 5.]])\n",
    "counts = np.array([[0., 8, 0.],\n",
    "                   [4., 0., 1.],\n",
    "                   [0., 1., 3.]])\n",
    "binsize = 1.0\n",
    "prob = vdm.bayesian_prob(counts, tuning_curve, binsize)\n",
    "prob"
   ]
  },
  {
   "cell_type": "code",
   "execution_count": 62,
   "metadata": {
    "collapsed": false
   },
   "outputs": [
    {
     "data": {
      "text/plain": [
       "True"
      ]
     },
     "execution_count": 62,
     "metadata": {},
     "output_type": "execute_result"
    }
   ],
   "source": [
    "np.allclose(prob[0], np.array([0.0310880460, 0.967364171, 0.00154778267]))\n",
    "np.allclose(prob[1], np.array([0.998834476, 0.000194254064, 0.000971270319]))\n",
    "np.allclose(prob[2], np.array([0.133827265, 0.0333143360, 0.832858399]))"
   ]
  },
  {
   "cell_type": "code",
   "execution_count": null,
   "metadata": {
    "collapsed": false
   },
   "outputs": [],
   "source": [
    "assert np.allclose(prob, np.array([[0.000168461312, 0.499915769, 0.499915769]]))"
   ]
  },
  {
   "cell_type": "code",
   "execution_count": null,
   "metadata": {
    "collapsed": false
   },
   "outputs": [],
   "source": [
    "a = [False, True, False]"
   ]
  },
  {
   "cell_type": "code",
   "execution_count": null,
   "metadata": {
    "collapsed": false
   },
   "outputs": [],
   "source": [
    "if any(a):\n",
    "    print('yes')"
   ]
  },
  {
   "cell_type": "code",
   "execution_count": null,
   "metadata": {
    "collapsed": true
   },
   "outputs": [],
   "source": []
  },
  {
   "cell_type": "code",
   "execution_count": null,
   "metadata": {
    "collapsed": true
   },
   "outputs": [],
   "source": []
  },
  {
   "cell_type": "code",
   "execution_count": null,
   "metadata": {
    "collapsed": true
   },
   "outputs": [],
   "source": []
  },
  {
   "cell_type": "code",
   "execution_count": null,
   "metadata": {
    "collapsed": true
   },
   "outputs": [],
   "source": []
  },
  {
   "cell_type": "code",
   "execution_count": null,
   "metadata": {
    "collapsed": false
   },
   "outputs": [],
   "source": [
    "decoded_position = vdm.decode_location(prob, linear)"
   ]
  },
  {
   "cell_type": "code",
   "execution_count": null,
   "metadata": {
    "collapsed": false
   },
   "outputs": [],
   "source": [
    "decoded_position"
   ]
  },
  {
   "cell_type": "code",
   "execution_count": null,
   "metadata": {
    "collapsed": true
   },
   "outputs": [],
   "source": [
    "decoded = dict()\n",
    "decoded['time'] = centers\n",
    "decoded['position'] = decoded_position"
   ]
  },
  {
   "cell_type": "code",
   "execution_count": null,
   "metadata": {
    "collapsed": true
   },
   "outputs": [],
   "source": [
    "linear = dict()\n",
    "# linear['position'] = np.array([0., 5., 10., 10., 5., 0.])[:2]\n",
    "linear['time'] = np.array([0., 1., 2., 3., 4., 5.])[:2]"
   ]
  },
  {
   "cell_type": "code",
   "execution_count": null,
   "metadata": {
    "collapsed": true
   },
   "outputs": [],
   "source": [
    "sequences = vdm.decoded_sequences(decoded, min_idx_length=1, max_idx_jump=10)"
   ]
  },
  {
   "cell_type": "code",
   "execution_count": null,
   "metadata": {
    "collapsed": false
   },
   "outputs": [],
   "source": [
    "sequences"
   ]
  },
  {
   "cell_type": "code",
   "execution_count": null,
   "metadata": {
    "collapsed": true
   },
   "outputs": [],
   "source": []
  },
  {
   "cell_type": "code",
   "execution_count": null,
   "metadata": {
    "collapsed": true
   },
   "outputs": [],
   "source": [
    "tuning_curves = np.array([[1., 0.1, 1.],\n",
    "                         [0.1, 1., 0.1],\n",
    "                         [1., 1., 1.],\n",
    "                          [0.1, 0.1, 0.1],\n",
    "                          [0.1, 1., 0.1]])"
   ]
  },
  {
   "cell_type": "code",
   "execution_count": null,
   "metadata": {
    "collapsed": true
   },
   "outputs": [],
   "source": [
    "counts = np.array([[0., 0., 0., 0., 0., 0.],\n",
    "                   [0., 0., 1., 0., 0., 0.],\n",
    "                   [2., 0., 1., 1., 0., 1.],\n",
    "                   [0., 1., 0., 0., 2., 0.],\n",
    "                   [1., 2., 1., 2., 1., 2.]])"
   ]
  },
  {
   "cell_type": "code",
   "execution_count": null,
   "metadata": {
    "collapsed": true
   },
   "outputs": [],
   "source": []
  },
  {
   "cell_type": "code",
   "execution_count": null,
   "metadata": {
    "collapsed": true
   },
   "outputs": [],
   "source": []
  },
  {
   "cell_type": "code",
   "execution_count": null,
   "metadata": {
    "collapsed": false
   },
   "outputs": [],
   "source": [
    "count_matrix = np.array([[3., 2., 1.],\n",
    "                         [0., 0., 0.],\n",
    "                         [1., 0., 2.],\n",
    "                         [0., 2., 0.]])"
   ]
  },
  {
   "cell_type": "code",
   "execution_count": null,
   "metadata": {
    "collapsed": false
   },
   "outputs": [],
   "source": [
    "activity_matrix = bool_counts(count_matrix)\n",
    "prob_active = prob_active_neuron(activity_matrix)\n",
    "prob_expected = expected_cooccur(prob_active)\n",
    "prob_observed = observed_cooccur(activity_matrix)\n",
    "prob_shuffle = shuffle_cooccur(activity_matrix, num_shuffles=100)\n",
    "# prob_zscore = zscore_cooccur(prob_observed, prob_shuffle)"
   ]
  },
  {
   "cell_type": "code",
   "execution_count": null,
   "metadata": {
    "collapsed": false
   },
   "outputs": [],
   "source": [
    "%time\n",
    "prob_zscore = zscore_cooccur(prob_observed, prob_shuffle)"
   ]
  },
  {
   "cell_type": "code",
   "execution_count": null,
   "metadata": {
    "collapsed": false
   },
   "outputs": [],
   "source": [
    "prob_zscore"
   ]
  },
  {
   "cell_type": "code",
   "execution_count": null,
   "metadata": {
    "collapsed": true
   },
   "outputs": [],
   "source": []
  },
  {
   "cell_type": "code",
   "execution_count": null,
   "metadata": {
    "collapsed": true
   },
   "outputs": [],
   "source": []
  },
  {
   "cell_type": "code",
   "execution_count": null,
   "metadata": {
    "collapsed": true
   },
   "outputs": [],
   "source": []
  },
  {
   "cell_type": "code",
   "execution_count": null,
   "metadata": {
    "collapsed": true
   },
   "outputs": [],
   "source": []
  },
  {
   "cell_type": "code",
   "execution_count": null,
   "metadata": {
    "collapsed": true
   },
   "outputs": [],
   "source": []
  },
  {
   "cell_type": "code",
   "execution_count": null,
   "metadata": {
    "collapsed": true
   },
   "outputs": [],
   "source": []
  },
  {
   "cell_type": "code",
   "execution_count": null,
   "metadata": {
    "collapsed": true
   },
   "outputs": [],
   "source": []
  },
  {
   "cell_type": "code",
   "execution_count": null,
   "metadata": {
    "collapsed": true
   },
   "outputs": [],
   "source": []
  },
  {
   "cell_type": "code",
   "execution_count": null,
   "metadata": {
    "collapsed": false
   },
   "outputs": [],
   "source": [
    "linear = dict()\n",
    "linear['position'] = np.concatenate((np.linspace(0, 10, 10), np.linspace(10, 0, 10), np.linspace(0, 10, 20)))\n",
    "linear['time'] = np.linspace(0, 100, 40)"
   ]
  },
  {
   "cell_type": "code",
   "execution_count": null,
   "metadata": {
    "collapsed": false
   },
   "outputs": [],
   "source": [
    "plt.plot(linear['time'], linear['position'])\n",
    "plt.show()"
   ]
  },
  {
   "cell_type": "code",
   "execution_count": null,
   "metadata": {
    "collapsed": false
   },
   "outputs": [],
   "source": [
    "import random\n",
    "random.seed(0)\n",
    "spikes = dict(time=[[], [], [], []])\n",
    "for i in range(10):\n",
    "    spikes['time'][0].append(random.uniform(0, 100))\n",
    "for i in range(15):\n",
    "    spikes['time'][1].append(random.uniform(20, 30))\n",
    "for i in range(15):\n",
    "    spikes['time'][2].append(random.uniform(60, 80))   \n",
    "for i in range(15):\n",
    "    spikes['time'][3].append(random.uniform(5, 10))\n",
    "for i in range(5):\n",
    "    for neuron_spikes in spikes['time']:\n",
    "        neuron_spikes.append(random.uniform(0, 100))"
   ]
  },
  {
   "cell_type": "code",
   "execution_count": null,
   "metadata": {
    "collapsed": false
   },
   "outputs": [],
   "source": [
    "for idx, neuron_spikes in enumerate(spikes['time']):\n",
    "    plt.plot(neuron_spikes, np.ones(len(neuron_spikes))+idx, '|', color='k', ms=10, mew=1)\n",
    "plt.ylim(0.5, 4.5)\n",
    "plt.show()"
   ]
  },
  {
   "cell_type": "code",
   "execution_count": null,
   "metadata": {
    "collapsed": false
   },
   "outputs": [],
   "source": [
    "tuning = vdm.tuning_curve(linear, spikes, sampling_rate=1, binsize=3, filter_type=None)"
   ]
  },
  {
   "cell_type": "code",
   "execution_count": null,
   "metadata": {
    "collapsed": false
   },
   "outputs": [],
   "source": [
    "colours = ['b', 'g', 'r', 'c']\n",
    "\n",
    "x = list(range(0, np.shape(tuning)[1]))\n",
    "for i, neuron_tc in enumerate(tuning):\n",
    "    plt.plot(neuron_tc, color=colours[i])\n",
    "#     plt.fill_between(x, 0, neuron_tc, facecolor=colours[i])\n",
    "plt.show()"
   ]
  },
  {
   "cell_type": "code",
   "execution_count": null,
   "metadata": {
    "collapsed": false
   },
   "outputs": [],
   "source": [
    "tuning"
   ]
  },
  {
   "cell_type": "code",
   "execution_count": null,
   "metadata": {
    "collapsed": true
   },
   "outputs": [],
   "source": []
  },
  {
   "cell_type": "code",
   "execution_count": null,
   "metadata": {
    "collapsed": true
   },
   "outputs": [],
   "source": []
  }
 ],
 "metadata": {
  "kernelspec": {
   "display_name": "Python 3",
   "language": "python",
   "name": "python3"
  },
  "language_info": {
   "codemirror_mode": {
    "name": "ipython",
    "version": 3
   },
   "file_extension": ".py",
   "mimetype": "text/x-python",
   "name": "python",
   "nbconvert_exporter": "python",
   "pygments_lexer": "ipython3",
   "version": "3.5.2"
  }
 },
 "nbformat": 4,
 "nbformat_minor": 0
}
