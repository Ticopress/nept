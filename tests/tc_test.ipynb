{
 "cells": [
  {
   "cell_type": "code",
   "execution_count": null,
   "metadata": {
    "collapsed": true
   },
   "outputs": [],
   "source": [
    "%matplotlib inline\n",
    "import numpy as np\n",
    "import matplotlib.pyplot as plt\n",
    "import vdmlab as vdm"
   ]
  },
  {
   "cell_type": "code",
   "execution_count": null,
   "metadata": {
    "collapsed": false
   },
   "outputs": [],
   "source": [
    "linear = dict()\n",
    "linear['position'] = np.concatenate((np.linspace(0, 10, 10), np.linspace(10, 0, 10), np.linspace(0, 10, 20)))\n",
    "linear['time'] = np.linspace(0, 100, 40)"
   ]
  },
  {
   "cell_type": "code",
   "execution_count": null,
   "metadata": {
    "collapsed": false
   },
   "outputs": [],
   "source": [
    "plt.plot(linear['time'], linear['position'])\n",
    "plt.show()"
   ]
  },
  {
   "cell_type": "code",
   "execution_count": null,
   "metadata": {
    "collapsed": false
   },
   "outputs": [],
   "source": [
    "import random\n",
    "random.seed(0)\n",
    "spikes = dict(time=[[], [], [], []])\n",
    "for i in range(10):\n",
    "    spikes['time'][0].append(random.uniform(0, 100))\n",
    "for i in range(15):\n",
    "    spikes['time'][1].append(random.uniform(20, 30))\n",
    "for i in range(15):\n",
    "    spikes['time'][2].append(random.uniform(60, 80))   \n",
    "for i in range(15):\n",
    "    spikes['time'][3].append(random.uniform(5, 10))\n",
    "for i in range(5):\n",
    "    for neuron_spikes in spikes['time']:\n",
    "        neuron_spikes.append(random.uniform(0, 100))"
   ]
  },
  {
   "cell_type": "code",
   "execution_count": null,
   "metadata": {
    "collapsed": false
   },
   "outputs": [],
   "source": [
    "for idx, neuron_spikes in enumerate(spikes['time']):\n",
    "    plt.plot(neuron_spikes, np.ones(len(neuron_spikes))+idx, '|', color='k', ms=10, mew=1)\n",
    "plt.ylim(0.5, 4.5)\n",
    "plt.show()"
   ]
  },
  {
   "cell_type": "code",
   "execution_count": null,
   "metadata": {
    "collapsed": false
   },
   "outputs": [],
   "source": [
    "tuning = vdm.tuning_curve(linear, spikes['time'], num_bins=50)"
   ]
  },
  {
   "cell_type": "code",
   "execution_count": null,
   "metadata": {
    "collapsed": true
   },
   "outputs": [],
   "source": [
    "def tuning_curve(position_z, spike_times, num_bins=100, sampling_rate=1/30.0, filter_type='gaussian', gaussian_std=3):\n",
    "    \"\"\" Computes tuning curves for neurons relative to linear position.\n",
    "\n",
    "    Parameters\n",
    "    ----------\n",
    "    position_z : dict\n",
    "        With position, time as keys\n",
    "    spike_times : list of lists\n",
    "        Where each inner list contains the spike times for an\n",
    "        individual neuron.\n",
    "    num_bins : int\n",
    "        Defaults to 100 if not specified\n",
    "    sampling_rate : float\n",
    "        Defaults to 1/30. if not specified.\n",
    "    filter_type : str, optional\n",
    "        Defaults to 'gaussian' to smooth with a gaussian filter.\n",
    "        No smoothing if None.\n",
    "    gaussian_std : int\n",
    "        Defaults to 18.\n",
    "\n",
    "    Returns\n",
    "    -------\n",
    "    out_tc : list of lists\n",
    "        Where each inner list contains the tuning curves for an\n",
    "        individual neuron.\n",
    "\n",
    "    Notes\n",
    "    -----\n",
    "    Input position_z and spike_times should be from the same time\n",
    "    period. Eg. when the animal is running on the track.\n",
    "\n",
    "    \"\"\"\n",
    "    linear_start = np.min(position_z['position'])\n",
    "    linear_stop = np.max(position_z['position'])\n",
    "    bin_edges = np.linspace(linear_start, linear_stop, num=num_bins)\n",
    "    bin_centers = np.array((bin_edges[1:] + bin_edges[:-1]) / 2.)\n",
    "    tc = []\n",
    "    occupancy = np.zeros(len(bin_centers))\n",
    "    for position in position_z['position']:\n",
    "        pos_idx = find_nearest_idx(bin_centers, position)\n",
    "        occupancy[pos_idx] += sampling_rate\n",
    "    occupied_idx = occupancy > 0\n",
    "    for neuron_spikes in spike_times:\n",
    "        spike_z = np.zeros(len(bin_centers))\n",
    "        for spike_time in neuron_spikes:\n",
    "            bin_idx = find_nearest_idx(position_z['time'], spike_time)\n",
    "            which_bin = find_nearest_idx(bin_centers, position_z['position'][bin_idx])\n",
    "            spike_z[which_bin] += 1\n",
    "        firing_rate = np.zeros(len(bin_centers))\n",
    "        firing_rate[occupied_idx] = spike_z[occupied_idx] / occupancy[occupied_idx]\n",
    "        tc.append(firing_rate)\n",
    "\n",
    "    if filter_type == 'gaussian':\n",
    "        filter_multiplier = 6\n",
    "        out_tc = []\n",
    "        gaussian_filter = signal.get_window(('gaussian', gaussian_std), gaussian_std*filter_multiplier)\n",
    "        normalized_gaussian = gaussian_filter / np.sum(gaussian_filter)\n",
    "        for firing_rate in tc:\n",
    "            out_tc.append(np.convolve(firing_rate, normalized_gaussian, mode='same'))\n",
    "    else:\n",
    "        print('Tuning curve with no filter.')\n",
    "        out_tc = tc\n",
    "\n",
    "    return out_tc"
   ]
  },
  {
   "cell_type": "code",
   "execution_count": null,
   "metadata": {
    "collapsed": false
   },
   "outputs": [],
   "source": [
    "colours = ['b', 'g', 'r', 'c']\n",
    "\n",
    "x = list(range(0, np.shape(tuning)[1]))\n",
    "for i, neuron_tc in enumerate(tuning):\n",
    "    plt.plot(neuron_tc, color=colours[i])\n",
    "#     plt.fill_between(x, 0, neuron_tc, facecolor=colours[i])\n",
    "plt.show()"
   ]
  },
  {
   "cell_type": "code",
   "execution_count": null,
   "metadata": {
    "collapsed": false
   },
   "outputs": [],
   "source": [
    "np.shape(tuning)[1]"
   ]
  },
  {
   "cell_type": "code",
   "execution_count": null,
   "metadata": {
    "collapsed": true
   },
   "outputs": [],
   "source": []
  }
 ],
 "metadata": {
  "kernelspec": {
   "display_name": "Python 3",
   "language": "python",
   "name": "python3"
  },
  "language_info": {
   "codemirror_mode": {
    "name": "ipython",
    "version": 3
   },
   "file_extension": ".py",
   "mimetype": "text/x-python",
   "name": "python",
   "nbconvert_exporter": "python",
   "pygments_lexer": "ipython3",
   "version": "3.5.2"
  }
 },
 "nbformat": 4,
 "nbformat_minor": 0
}
