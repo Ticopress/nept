{
 "cells": [
  {
   "cell_type": "code",
   "execution_count": null,
   "metadata": {
    "collapsed": true
   },
   "outputs": [],
   "source": [
    "%matplotlib inline\n",
    "import numpy as np\n",
    "import matplotlib.pyplot as plt\n",
    "import vdmlab as vdm"
   ]
  },
  {
   "cell_type": "code",
   "execution_count": null,
   "metadata": {
    "collapsed": false
   },
   "outputs": [],
   "source": [
    "tuning = [np.array([0., 1., 0., 0., 0., 0., 0., 2., 0., 0., 0., 0.]), \n",
    "          np.array([0., 1., 2., 3., 3., 1., 0., 0., 0., 0., 0., 0.]), \n",
    "          np.array([0., 3., 3., 3., 0., 2., 0., 0., 3., 2., 0., 0.]),\n",
    "          np.array([0., 1., 0., 0., 0., 0., 0., 4., 0., 0., 0., 0.])]"
   ]
  },
  {
   "cell_type": "code",
   "execution_count": null,
   "metadata": {
    "collapsed": false
   },
   "outputs": [],
   "source": [
    "for tc in tuning:\n",
    "    plt.plot(tc)\n",
    "    plt.axhline(2, color='k')\n",
    "plt.show()"
   ]
  },
  {
   "cell_type": "code",
   "execution_count": null,
   "metadata": {
    "collapsed": false
   },
   "outputs": [],
   "source": [
    "all_fields = vdm.find_fields(tuning, hz_thresh=2, field_dist=1, max_mean_firing=10)"
   ]
  },
  {
   "cell_type": "code",
   "execution_count": null,
   "metadata": {
    "collapsed": false
   },
   "outputs": [],
   "source": [
    "all_fields"
   ]
  },
  {
   "cell_type": "code",
   "execution_count": null,
   "metadata": {
    "collapsed": false
   },
   "outputs": [],
   "source": [
    "hz_thresh=2\n",
    "\n",
    "fields = []\n",
    "for neuron_tc in tuning:\n",
    "    neuron_field = np.zeros(neuron_tc.shape[0])\n",
    "    for i, this_bin in enumerate(neuron_tc):\n",
    "        if this_bin > hz_thresh:\n",
    "            neuron_field[i] = 1\n",
    "    fields.append(neuron_field)\n",
    "fields"
   ]
  },
  {
   "cell_type": "code",
   "execution_count": null,
   "metadata": {
    "collapsed": false
   },
   "outputs": [],
   "source": [
    "tuning[0].shape"
   ]
  },
  {
   "cell_type": "code",
   "execution_count": null,
   "metadata": {
    "collapsed": false
   },
   "outputs": [],
   "source": [
    "def consecutive(array, stepsize=1):\n",
    "    return np.split(array, np.where(np.diff(array) != stepsize)[0]+1)\n",
    "\n",
    "fields_idx = dict()\n",
    "for i, neuron_fields in enumerate(fields):\n",
    "    field_idx = np.nonzero(neuron_fields)[0]\n",
    "    fields_idx[i] = consecutive(field_idx)"
   ]
  },
  {
   "cell_type": "code",
   "execution_count": null,
   "metadata": {
    "collapsed": false
   },
   "outputs": [],
   "source": [
    "def consecutive(array):\n",
    "    stepsize = 1\n",
    "    return np.split(array, np.where(np.diff(array) != stepsize)[0]+1)\n",
    "\n",
    "def find_fields(tuning, hz_thresh=5, min_length=1, max_length=20, max_mean_firing=10):\n",
    "\n",
    "    fields = []\n",
    "    for neuron_tc in tuning:\n",
    "        if np.mean(neuron_tc < max_mean_firing):\n",
    "            neuron_field = np.zeros(neuron_tc.shape[0])\n",
    "            for i, this_bin in enumerate(neuron_tc):\n",
    "                if this_bin > hz_thresh:\n",
    "                    neuron_field[i] = 1\n",
    "            fields.append(neuron_field)\n",
    "        else:\n",
    "            fields.append(np.array([]))\n",
    "        \n",
    "    fields_idx = dict()\n",
    "    for i, neuron_fields in enumerate(fields):\n",
    "        field_idx = np.nonzero(neuron_fields)[0]\n",
    "        fields_idx[i] = consecutive(field_idx)\n",
    "        print(type(fields_idx[i]))\n",
    "\n",
    "    with_fields = dict()\n",
    "    for key in fields_idx:\n",
    "        for field in fields_idx[key]:\n",
    "            if len(field) > max_length:\n",
    "                continue\n",
    "            elif min_length <= len(field):\n",
    "                with_fields[key] = fields_idx[key]\n",
    "                continue\n",
    "    return with_fields"
   ]
  },
  {
   "cell_type": "code",
   "execution_count": null,
   "metadata": {
    "collapsed": false
   },
   "outputs": [],
   "source": [
    "with_fields = find_fields(tuning, hz_thresh=2, min_length=1, max_length=5, max_mean_firing=8)"
   ]
  },
  {
   "cell_type": "code",
   "execution_count": null,
   "metadata": {
    "collapsed": false
   },
   "outputs": [],
   "source": [
    "assert np.allclose(with_fields[1], [np.array([3, 4])])\n",
    "assert np.allclose(with_fields[2][0], np.array([1, 2, 3]))\n",
    "assert np.allclose(with_fields[2][1], np.array([8]))\n",
    "assert np.allclose(with_fields[3], [np.array([7])])\n"
   ]
  },
  {
   "cell_type": "code",
   "execution_count": null,
   "metadata": {
    "collapsed": false
   },
   "outputs": [],
   "source": [
    "single_fields = vdm.get_single_field(with_fields)"
   ]
  },
  {
   "cell_type": "code",
   "execution_count": null,
   "metadata": {
    "collapsed": false
   },
   "outputs": [],
   "source": [
    "print(single_fields)"
   ]
  },
  {
   "cell_type": "code",
   "execution_count": null,
   "metadata": {
    "collapsed": false
   },
   "outputs": [],
   "source": [
    "np.mean(tuning[2])"
   ]
  },
  {
   "cell_type": "code",
   "execution_count": null,
   "metadata": {
    "collapsed": false
   },
   "outputs": [],
   "source": [
    "type(tuning[0])"
   ]
  },
  {
   "cell_type": "code",
   "execution_count": null,
   "metadata": {
    "collapsed": false
   },
   "outputs": [],
   "source": [
    "len(single_fields)"
   ]
  },
  {
   "cell_type": "code",
   "execution_count": null,
   "metadata": {
    "collapsed": true
   },
   "outputs": [],
   "source": []
  },
  {
   "cell_type": "code",
   "execution_count": null,
   "metadata": {
    "collapsed": true
   },
   "outputs": [],
   "source": []
  },
  {
   "cell_type": "code",
   "execution_count": null,
   "metadata": {
    "collapsed": true
   },
   "outputs": [],
   "source": []
  },
  {
   "cell_type": "code",
   "execution_count": null,
   "metadata": {
    "collapsed": false
   },
   "outputs": [],
   "source": [
    "linear = dict()\n",
    "linear['position'] = np.concatenate((np.linspace(0, 10, 10), np.linspace(10, 0, 10), np.linspace(0, 10, 20)))\n",
    "linear['time'] = np.linspace(0, 100, 40)"
   ]
  },
  {
   "cell_type": "code",
   "execution_count": null,
   "metadata": {
    "collapsed": false
   },
   "outputs": [],
   "source": [
    "plt.plot(linear['time'], linear['position'])\n",
    "plt.show()"
   ]
  },
  {
   "cell_type": "code",
   "execution_count": null,
   "metadata": {
    "collapsed": false
   },
   "outputs": [],
   "source": [
    "import random\n",
    "random.seed(0)\n",
    "spikes = dict(time=[[], [], [], []])\n",
    "for i in range(10):\n",
    "    spikes['time'][0].append(random.uniform(0, 100))\n",
    "for i in range(15):\n",
    "    spikes['time'][1].append(random.uniform(20, 30))\n",
    "for i in range(15):\n",
    "    spikes['time'][2].append(random.uniform(60, 80))   \n",
    "for i in range(15):\n",
    "    spikes['time'][3].append(random.uniform(5, 10))\n",
    "for i in range(5):\n",
    "    for neuron_spikes in spikes['time']:\n",
    "        neuron_spikes.append(random.uniform(0, 100))"
   ]
  },
  {
   "cell_type": "code",
   "execution_count": null,
   "metadata": {
    "collapsed": false
   },
   "outputs": [],
   "source": [
    "for idx, neuron_spikes in enumerate(spikes['time']):\n",
    "    plt.plot(neuron_spikes, np.ones(len(neuron_spikes))+idx, '|', color='k', ms=10, mew=1)\n",
    "plt.ylim(0.5, 4.5)\n",
    "plt.show()"
   ]
  },
  {
   "cell_type": "code",
   "execution_count": null,
   "metadata": {
    "collapsed": false
   },
   "outputs": [],
   "source": [
    "tuning = vdm.tuning_curve(linear, spikes, sampling_rate=1, binsize=3, filter_type=None)"
   ]
  },
  {
   "cell_type": "code",
   "execution_count": null,
   "metadata": {
    "collapsed": false
   },
   "outputs": [],
   "source": [
    "colours = ['b', 'g', 'r', 'c']\n",
    "\n",
    "x = list(range(0, np.shape(tuning)[1]))\n",
    "for i, neuron_tc in enumerate(tuning):\n",
    "    plt.plot(neuron_tc, color=colours[i])\n",
    "#     plt.fill_between(x, 0, neuron_tc, facecolor=colours[i])\n",
    "plt.show()"
   ]
  },
  {
   "cell_type": "code",
   "execution_count": null,
   "metadata": {
    "collapsed": false
   },
   "outputs": [],
   "source": [
    "tuning"
   ]
  },
  {
   "cell_type": "code",
   "execution_count": null,
   "metadata": {
    "collapsed": true
   },
   "outputs": [],
   "source": []
  },
  {
   "cell_type": "code",
   "execution_count": null,
   "metadata": {
    "collapsed": true
   },
   "outputs": [],
   "source": []
  }
 ],
 "metadata": {
  "kernelspec": {
   "display_name": "Python 3",
   "language": "python",
   "name": "python3"
  },
  "language_info": {
   "codemirror_mode": {
    "name": "ipython",
    "version": 3
   },
   "file_extension": ".py",
   "mimetype": "text/x-python",
   "name": "python",
   "nbconvert_exporter": "python",
   "pygments_lexer": "ipython3",
   "version": "3.5.2"
  }
 },
 "nbformat": 4,
 "nbformat_minor": 0
}
